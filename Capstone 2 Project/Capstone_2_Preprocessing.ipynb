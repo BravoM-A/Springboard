{
 "cells": [
  {
   "cell_type": "markdown",
   "id": "d06031e1",
   "metadata": {},
   "source": [
    "<H1><center>Earthquake predictions in Mexico<br>(Pre-processing & Training Data Development)</center></H1>"
   ]
  },
  {
   "cell_type": "markdown",
   "id": "b8a3a262",
   "metadata": {},
   "source": [
    "In the previous steps we were able to identify some important information about our data. Basically we identified the following&colon;<br><br>\n",
    "&nbsp;&nbsp;&nbsp;a) Stronger earthquakes in magnitude, occur (in general) closer to the surface (lower value of depth)<br>\n",
    "&nbsp;&nbsp;&nbsp;b) By analyzing different years where a big event occurred, we could identify similar patterns where magnitude in events throughout the year was increasing slowly until the main earthquake happened<br>\n",
    "&nbsp;&nbsp;&nbsp;c) There is a tendency that the bigger earthquakes take place around the last quarter of the year<br>\n",
    "&nbsp;&nbsp;&nbsp;d) Location is very important due to the proximity to tectonic plates (pacific coast). It should be interesting to add a feature considering these plates<br>\n",
    "&nbsp;&nbsp;&nbsp;e) When comparing areas (states) with high seismic activity, we were able to identify specifically which ones were the ones with the highest frequency of events<br>"
   ]
  },
  {
   "cell_type": "markdown",
   "id": "88c39c1d",
   "metadata": {},
   "source": [
    "Now we will focus in adding any other features that may seem to give value to the model we are going to train. Since the goal of this project is to try to estimate the time-to-event, we are going to handle it as a survival analysis. Due to this, we will need two columns in our 'y' set, as follows&colon;<br><br>\n",
    "&nbsp;&nbsp;&nbsp;a) The 'status' binary categorical column indicating the presence of the event. We will consider any event of magnitude greater than or equal to 6.0 as '1' and any other event as '0'<br>\n",
    "&nbsp;&nbsp;&nbsp;b) The 'survival in days' numerical (continuous) column indicating the time passed until the event happened. For this part, we will need to think about how are we going to consider the starting point to calculate the time for every event. Since this is no ordinary use for the survival analysis, we will try to adapt our case to it. Later in this notebook we will explain how we considered the time-to-event values."
   ]
  },
  {
   "cell_type": "code",
   "execution_count": 1,
   "id": "19abb22d",
   "metadata": {},
   "outputs": [],
   "source": [
    "#First, we import the necessary libraries\n",
    "import pandas as pd\n",
    "import matplotlib.pyplot as plt\n",
    "import seaborn as sns\n",
    "import numpy as np\n",
    "from library.sb_utils import save_file\n",
    "import warnings\n",
    "warnings.filterwarnings('ignore')"
   ]
  },
  {
   "cell_type": "code",
   "execution_count": 2,
   "id": "0f2788fc",
   "metadata": {},
   "outputs": [
    {
     "data": {
      "text/html": [
       "<div>\n",
       "<style scoped>\n",
       "    .dataframe tbody tr th:only-of-type {\n",
       "        vertical-align: middle;\n",
       "    }\n",
       "\n",
       "    .dataframe tbody tr th {\n",
       "        vertical-align: top;\n",
       "    }\n",
       "\n",
       "    .dataframe thead th {\n",
       "        text-align: right;\n",
       "    }\n",
       "</style>\n",
       "<table border=\"1\" class=\"dataframe\">\n",
       "  <thead>\n",
       "    <tr style=\"text-align: right;\">\n",
       "      <th></th>\n",
       "      <th>Date_Time</th>\n",
       "      <th>Year</th>\n",
       "      <th>Month</th>\n",
       "      <th>Day</th>\n",
       "      <th>Magnitude</th>\n",
       "      <th>Latitude</th>\n",
       "      <th>Longitude</th>\n",
       "      <th>Depth</th>\n",
       "      <th>Location reference</th>\n",
       "      <th>State</th>\n",
       "    </tr>\n",
       "  </thead>\n",
       "  <tbody>\n",
       "    <tr>\n",
       "      <th>0</th>\n",
       "      <td>1970-02-03 23:08:50</td>\n",
       "      <td>1970</td>\n",
       "      <td>2</td>\n",
       "      <td>3</td>\n",
       "      <td>6.6</td>\n",
       "      <td>15.524</td>\n",
       "      <td>-99.493</td>\n",
       "      <td>21.0</td>\n",
       "      <td>141 km al SUR de SAN MARCOS, GRO</td>\n",
       "      <td>GRO</td>\n",
       "    </tr>\n",
       "    <tr>\n",
       "      <th>1</th>\n",
       "      <td>1970-04-29 08:01:34</td>\n",
       "      <td>1970</td>\n",
       "      <td>4</td>\n",
       "      <td>29</td>\n",
       "      <td>7.3</td>\n",
       "      <td>14.463</td>\n",
       "      <td>-92.683</td>\n",
       "      <td>44.0</td>\n",
       "      <td>62 km al SUROESTE de CD HIDALGO, CHIS</td>\n",
       "      <td>CHIS</td>\n",
       "    </tr>\n",
       "    <tr>\n",
       "      <th>2</th>\n",
       "      <td>1970-04-30 02:32:58</td>\n",
       "      <td>1970</td>\n",
       "      <td>4</td>\n",
       "      <td>30</td>\n",
       "      <td>6.5</td>\n",
       "      <td>14.608</td>\n",
       "      <td>-93.260</td>\n",
       "      <td>22.0</td>\n",
       "      <td>100 km al SUROESTE de MAPASTEPEC, CHIS</td>\n",
       "      <td>CHIS</td>\n",
       "    </tr>\n",
       "    <tr>\n",
       "      <th>3</th>\n",
       "      <td>1971-09-30 02:18:00</td>\n",
       "      <td>1971</td>\n",
       "      <td>9</td>\n",
       "      <td>30</td>\n",
       "      <td>6.5</td>\n",
       "      <td>26.880</td>\n",
       "      <td>-110.800</td>\n",
       "      <td>14.0</td>\n",
       "      <td>92 km al SUROESTE de PUEBLO YAQUI, SON</td>\n",
       "      <td>SON</td>\n",
       "    </tr>\n",
       "    <tr>\n",
       "      <th>4</th>\n",
       "      <td>1972-10-20 02:17:46</td>\n",
       "      <td>1972</td>\n",
       "      <td>10</td>\n",
       "      <td>20</td>\n",
       "      <td>6.6</td>\n",
       "      <td>18.700</td>\n",
       "      <td>-106.756</td>\n",
       "      <td>10.0</td>\n",
       "      <td>238 km al OESTE de CIHUATLAN, JAL</td>\n",
       "      <td>JAL</td>\n",
       "    </tr>\n",
       "  </tbody>\n",
       "</table>\n",
       "</div>"
      ],
      "text/plain": [
       "            Date_Time  Year  Month  Day  Magnitude  Latitude  Longitude  \\\n",
       "0 1970-02-03 23:08:50  1970      2    3        6.6    15.524    -99.493   \n",
       "1 1970-04-29 08:01:34  1970      4   29        7.3    14.463    -92.683   \n",
       "2 1970-04-30 02:32:58  1970      4   30        6.5    14.608    -93.260   \n",
       "3 1971-09-30 02:18:00  1971      9   30        6.5    26.880   -110.800   \n",
       "4 1972-10-20 02:17:46  1972     10   20        6.6    18.700   -106.756   \n",
       "\n",
       "   Depth                      Location reference State  \n",
       "0   21.0        141 km al SUR de SAN MARCOS, GRO   GRO  \n",
       "1   44.0   62 km al SUROESTE de CD HIDALGO, CHIS  CHIS  \n",
       "2   22.0  100 km al SUROESTE de MAPASTEPEC, CHIS  CHIS  \n",
       "3   14.0  92 km al SUROESTE de PUEBLO YAQUI, SON   SON  \n",
       "4   10.0       238 km al OESTE de CIHUATLAN, JAL   JAL  "
      ]
     },
     "execution_count": 2,
     "metadata": {},
     "output_type": "execute_result"
    }
   ],
   "source": [
    "quakes_data = pd.read_csv('../derived_data/quakes_data_cleaned.csv')\n",
    "quakes_data.drop(columns=['Unnamed: 0'], inplace=True)\n",
    "quakes_data['Date_Time'] = pd.to_datetime(quakes_data.Date_Time)\n",
    "quakes_data.head()"
   ]
  },
  {
   "cell_type": "markdown",
   "id": "67e69811",
   "metadata": {},
   "source": [
    "Let's take a look again at our data's shape."
   ]
  },
  {
   "cell_type": "code",
   "execution_count": 3,
   "id": "48161c88",
   "metadata": {},
   "outputs": [
    {
     "name": "stdout",
     "output_type": "stream",
     "text": [
      "<class 'pandas.core.frame.DataFrame'>\n",
      "RangeIndex: 39937 entries, 0 to 39936\n",
      "Data columns (total 10 columns):\n",
      " #   Column              Non-Null Count  Dtype         \n",
      "---  ------              --------------  -----         \n",
      " 0   Date_Time           39937 non-null  datetime64[ns]\n",
      " 1   Year                39937 non-null  int64         \n",
      " 2   Month               39937 non-null  int64         \n",
      " 3   Day                 39937 non-null  int64         \n",
      " 4   Magnitude           39937 non-null  float64       \n",
      " 5   Latitude            39937 non-null  float64       \n",
      " 6   Longitude           39937 non-null  float64       \n",
      " 7   Depth               39937 non-null  float64       \n",
      " 8   Location reference  39937 non-null  object        \n",
      " 9   State               39937 non-null  object        \n",
      "dtypes: datetime64[ns](1), float64(4), int64(3), object(2)\n",
      "memory usage: 3.0+ MB\n"
     ]
    }
   ],
   "source": [
    "quakes_data.info()"
   ]
  },
  {
   "cell_type": "markdown",
   "id": "bd942af2",
   "metadata": {},
   "source": [
    "We have at the moment 10 features and we will need to add at least two more columns for our label variable 'y'. We will call these columns as 'Status' and 'Time_to_event'. But before that, let's drop 'Location reference' column since it is not going to add any value to our model. All the information we will use for the model, in terms of location reference, we have it in the 'State' feature."
   ]
  },
  {
   "cell_type": "code",
   "execution_count": 4,
   "id": "d0da8270",
   "metadata": {},
   "outputs": [],
   "source": [
    "quakes_data.drop(columns=['Location reference'], inplace=True)"
   ]
  },
  {
   "cell_type": "code",
   "execution_count": 5,
   "id": "9a0477e5",
   "metadata": {},
   "outputs": [
    {
     "data": {
      "text/html": [
       "<div>\n",
       "<style scoped>\n",
       "    .dataframe tbody tr th:only-of-type {\n",
       "        vertical-align: middle;\n",
       "    }\n",
       "\n",
       "    .dataframe tbody tr th {\n",
       "        vertical-align: top;\n",
       "    }\n",
       "\n",
       "    .dataframe thead th {\n",
       "        text-align: right;\n",
       "    }\n",
       "</style>\n",
       "<table border=\"1\" class=\"dataframe\">\n",
       "  <thead>\n",
       "    <tr style=\"text-align: right;\">\n",
       "      <th></th>\n",
       "      <th>Date_Time</th>\n",
       "      <th>Year</th>\n",
       "      <th>Month</th>\n",
       "      <th>Day</th>\n",
       "      <th>Magnitude</th>\n",
       "      <th>Latitude</th>\n",
       "      <th>Longitude</th>\n",
       "      <th>Depth</th>\n",
       "      <th>State</th>\n",
       "      <th>Status</th>\n",
       "    </tr>\n",
       "  </thead>\n",
       "  <tbody>\n",
       "    <tr>\n",
       "      <th>0</th>\n",
       "      <td>1970-02-03 23:08:50</td>\n",
       "      <td>1970</td>\n",
       "      <td>2</td>\n",
       "      <td>3</td>\n",
       "      <td>6.6</td>\n",
       "      <td>15.524</td>\n",
       "      <td>-99.493</td>\n",
       "      <td>21.0</td>\n",
       "      <td>GRO</td>\n",
       "      <td>1</td>\n",
       "    </tr>\n",
       "    <tr>\n",
       "      <th>1</th>\n",
       "      <td>1970-04-29 08:01:34</td>\n",
       "      <td>1970</td>\n",
       "      <td>4</td>\n",
       "      <td>29</td>\n",
       "      <td>7.3</td>\n",
       "      <td>14.463</td>\n",
       "      <td>-92.683</td>\n",
       "      <td>44.0</td>\n",
       "      <td>CHIS</td>\n",
       "      <td>1</td>\n",
       "    </tr>\n",
       "    <tr>\n",
       "      <th>2</th>\n",
       "      <td>1970-04-30 02:32:58</td>\n",
       "      <td>1970</td>\n",
       "      <td>4</td>\n",
       "      <td>30</td>\n",
       "      <td>6.5</td>\n",
       "      <td>14.608</td>\n",
       "      <td>-93.260</td>\n",
       "      <td>22.0</td>\n",
       "      <td>CHIS</td>\n",
       "      <td>1</td>\n",
       "    </tr>\n",
       "    <tr>\n",
       "      <th>3</th>\n",
       "      <td>1971-09-30 02:18:00</td>\n",
       "      <td>1971</td>\n",
       "      <td>9</td>\n",
       "      <td>30</td>\n",
       "      <td>6.5</td>\n",
       "      <td>26.880</td>\n",
       "      <td>-110.800</td>\n",
       "      <td>14.0</td>\n",
       "      <td>SON</td>\n",
       "      <td>1</td>\n",
       "    </tr>\n",
       "    <tr>\n",
       "      <th>4</th>\n",
       "      <td>1972-10-20 02:17:46</td>\n",
       "      <td>1972</td>\n",
       "      <td>10</td>\n",
       "      <td>20</td>\n",
       "      <td>6.6</td>\n",
       "      <td>18.700</td>\n",
       "      <td>-106.756</td>\n",
       "      <td>10.0</td>\n",
       "      <td>JAL</td>\n",
       "      <td>1</td>\n",
       "    </tr>\n",
       "  </tbody>\n",
       "</table>\n",
       "</div>"
      ],
      "text/plain": [
       "            Date_Time  Year  Month  Day  Magnitude  Latitude  Longitude  \\\n",
       "0 1970-02-03 23:08:50  1970      2    3        6.6    15.524    -99.493   \n",
       "1 1970-04-29 08:01:34  1970      4   29        7.3    14.463    -92.683   \n",
       "2 1970-04-30 02:32:58  1970      4   30        6.5    14.608    -93.260   \n",
       "3 1971-09-30 02:18:00  1971      9   30        6.5    26.880   -110.800   \n",
       "4 1972-10-20 02:17:46  1972     10   20        6.6    18.700   -106.756   \n",
       "\n",
       "   Depth State  Status  \n",
       "0   21.0   GRO       1  \n",
       "1   44.0  CHIS       1  \n",
       "2   22.0  CHIS       1  \n",
       "3   14.0   SON       1  \n",
       "4   10.0   JAL       1  "
      ]
     },
     "execution_count": 5,
     "metadata": {},
     "output_type": "execute_result"
    }
   ],
   "source": [
    "#We pass a '1' to all the events with greater or equal magnitude of 6.0. Pass '0' to any other event\n",
    "quakes_data['Status'] = 1\n",
    "quakes_data.loc[quakes_data['Magnitude'] < 6.0, 'Status'] = 0\n",
    "quakes_data.head()"
   ]
  },
  {
   "cell_type": "markdown",
   "id": "4103b337",
   "metadata": {},
   "source": [
    "We added that 'Status' column and now we will have to do some preparation to add the 'Time_to_event' column. We need to define first our starting date. This date is going to be the oldest date in our dataset."
   ]
  },
  {
   "cell_type": "code",
   "execution_count": 6,
   "id": "9cf1dff3",
   "metadata": {},
   "outputs": [
    {
     "data": {
      "text/plain": [
       "Timestamp('1970-02-03 23:08:50')"
      ]
     },
     "execution_count": 6,
     "metadata": {},
     "output_type": "execute_result"
    }
   ],
   "source": [
    "#Let's define our start date to calculate times to event.\n",
    "start_date = quakes_data.iloc[0,0]\n",
    "start_date"
   ]
  },
  {
   "cell_type": "markdown",
   "id": "b8b2b594",
   "metadata": {},
   "source": [
    "Now we are going to create the column with an initial value which will be the difference between the row's date and the start date. This value will be a float indicating the total seconds of the dates' differences."
   ]
  },
  {
   "cell_type": "code",
   "execution_count": 7,
   "id": "2b41666f",
   "metadata": {},
   "outputs": [
    {
     "data": {
      "text/html": [
       "<div>\n",
       "<style scoped>\n",
       "    .dataframe tbody tr th:only-of-type {\n",
       "        vertical-align: middle;\n",
       "    }\n",
       "\n",
       "    .dataframe tbody tr th {\n",
       "        vertical-align: top;\n",
       "    }\n",
       "\n",
       "    .dataframe thead th {\n",
       "        text-align: right;\n",
       "    }\n",
       "</style>\n",
       "<table border=\"1\" class=\"dataframe\">\n",
       "  <thead>\n",
       "    <tr style=\"text-align: right;\">\n",
       "      <th></th>\n",
       "      <th>Date_Time</th>\n",
       "      <th>Year</th>\n",
       "      <th>Month</th>\n",
       "      <th>Day</th>\n",
       "      <th>Magnitude</th>\n",
       "      <th>Latitude</th>\n",
       "      <th>Longitude</th>\n",
       "      <th>Depth</th>\n",
       "      <th>State</th>\n",
       "      <th>Status</th>\n",
       "      <th>Time_to_event</th>\n",
       "    </tr>\n",
       "  </thead>\n",
       "  <tbody>\n",
       "    <tr>\n",
       "      <th>0</th>\n",
       "      <td>1970-02-03 23:08:50</td>\n",
       "      <td>1970</td>\n",
       "      <td>2</td>\n",
       "      <td>3</td>\n",
       "      <td>6.6</td>\n",
       "      <td>15.524</td>\n",
       "      <td>-99.493</td>\n",
       "      <td>21.0</td>\n",
       "      <td>GRO</td>\n",
       "      <td>1</td>\n",
       "      <td>NaN</td>\n",
       "    </tr>\n",
       "    <tr>\n",
       "      <th>1</th>\n",
       "      <td>1970-04-29 08:01:34</td>\n",
       "      <td>1970</td>\n",
       "      <td>4</td>\n",
       "      <td>29</td>\n",
       "      <td>7.3</td>\n",
       "      <td>14.463</td>\n",
       "      <td>-92.683</td>\n",
       "      <td>44.0</td>\n",
       "      <td>CHIS</td>\n",
       "      <td>1</td>\n",
       "      <td>7289564.0</td>\n",
       "    </tr>\n",
       "    <tr>\n",
       "      <th>2</th>\n",
       "      <td>1970-04-30 02:32:58</td>\n",
       "      <td>1970</td>\n",
       "      <td>4</td>\n",
       "      <td>30</td>\n",
       "      <td>6.5</td>\n",
       "      <td>14.608</td>\n",
       "      <td>-93.260</td>\n",
       "      <td>22.0</td>\n",
       "      <td>CHIS</td>\n",
       "      <td>1</td>\n",
       "      <td>66684.0</td>\n",
       "    </tr>\n",
       "    <tr>\n",
       "      <th>3</th>\n",
       "      <td>1971-09-30 02:18:00</td>\n",
       "      <td>1971</td>\n",
       "      <td>9</td>\n",
       "      <td>30</td>\n",
       "      <td>6.5</td>\n",
       "      <td>26.880</td>\n",
       "      <td>-110.800</td>\n",
       "      <td>14.0</td>\n",
       "      <td>SON</td>\n",
       "      <td>1</td>\n",
       "      <td>44754302.0</td>\n",
       "    </tr>\n",
       "    <tr>\n",
       "      <th>4</th>\n",
       "      <td>1972-10-20 02:17:46</td>\n",
       "      <td>1972</td>\n",
       "      <td>10</td>\n",
       "      <td>20</td>\n",
       "      <td>6.6</td>\n",
       "      <td>18.700</td>\n",
       "      <td>-106.756</td>\n",
       "      <td>10.0</td>\n",
       "      <td>JAL</td>\n",
       "      <td>1</td>\n",
       "      <td>33350386.0</td>\n",
       "    </tr>\n",
       "  </tbody>\n",
       "</table>\n",
       "</div>"
      ],
      "text/plain": [
       "            Date_Time  Year  Month  Day  Magnitude  Latitude  Longitude  \\\n",
       "0 1970-02-03 23:08:50  1970      2    3        6.6    15.524    -99.493   \n",
       "1 1970-04-29 08:01:34  1970      4   29        7.3    14.463    -92.683   \n",
       "2 1970-04-30 02:32:58  1970      4   30        6.5    14.608    -93.260   \n",
       "3 1971-09-30 02:18:00  1971      9   30        6.5    26.880   -110.800   \n",
       "4 1972-10-20 02:17:46  1972     10   20        6.6    18.700   -106.756   \n",
       "\n",
       "   Depth State  Status  Time_to_event  \n",
       "0   21.0   GRO       1            NaN  \n",
       "1   44.0  CHIS       1      7289564.0  \n",
       "2   22.0  CHIS       1        66684.0  \n",
       "3   14.0   SON       1     44754302.0  \n",
       "4   10.0   JAL       1     33350386.0  "
      ]
     },
     "execution_count": 7,
     "metadata": {},
     "output_type": "execute_result"
    }
   ],
   "source": [
    "quakes_data['Time_to_event'] = quakes_data['Date_Time'].diff()\n",
    "quakes_data['Time_to_event'] = quakes_data['Time_to_event'].apply(lambda x: x.total_seconds())\n",
    "quakes_data.head()"
   ]
  },
  {
   "cell_type": "markdown",
   "id": "80735dd3",
   "metadata": {},
   "source": [
    "As we can see, the first row indicates a null value. We will leave it as it is for now. \n",
    "At the moment, we calculated every value in the 'Time_to_event' column as a float in seconds of the difference in dates. We always considered the oldest date in the dataset as our starting point, but is this the best way to do this? Let's think about what we know up to this point. We know that location is very important in terms of the magnitude and frequency of events. Taking this into account, we may consider another way to calculate this column. \n",
    "We will do the following instead&colon;<br><br>\n",
    "&nbsp;&nbsp;&nbsp;a) We will cluster the data based on the categories of the 'State' column. There are 31 categories, one for each state inlcuded in the data<br>\n",
    "&nbsp;&nbsp;&nbsp;b) We will make the calculations for the times to event independent by each cluster<br>\n",
    "&nbsp;&nbsp;&nbsp;c) We will also treat independently the calculations for events with 'Status' == 1 or 'Status' == 0<br>\n",
    "&nbsp;&nbsp;&nbsp;d) Finally, the starting date for the first instance of every event on each class that we defined above, will be the oldest date. But our starting date will not be fixed. It means that every date will become the starting point for the next instance in the class and so on until the end of the dataset.<br><br>\n",
    "Let's create a function to do all the calculations specified above. We may need to use it again in the future."
   ]
  },
  {
   "cell_type": "code",
   "execution_count": 8,
   "id": "6fc42b1a",
   "metadata": {},
   "outputs": [
    {
     "data": {
      "text/html": [
       "<div>\n",
       "<style scoped>\n",
       "    .dataframe tbody tr th:only-of-type {\n",
       "        vertical-align: middle;\n",
       "    }\n",
       "\n",
       "    .dataframe tbody tr th {\n",
       "        vertical-align: top;\n",
       "    }\n",
       "\n",
       "    .dataframe thead th {\n",
       "        text-align: right;\n",
       "    }\n",
       "</style>\n",
       "<table border=\"1\" class=\"dataframe\">\n",
       "  <thead>\n",
       "    <tr style=\"text-align: right;\">\n",
       "      <th></th>\n",
       "      <th>Date_Time</th>\n",
       "      <th>Year</th>\n",
       "      <th>Month</th>\n",
       "      <th>Day</th>\n",
       "      <th>Magnitude</th>\n",
       "      <th>Latitude</th>\n",
       "      <th>Longitude</th>\n",
       "      <th>Depth</th>\n",
       "      <th>State</th>\n",
       "      <th>Status</th>\n",
       "      <th>Time_to_event</th>\n",
       "    </tr>\n",
       "  </thead>\n",
       "  <tbody>\n",
       "    <tr>\n",
       "      <th>0</th>\n",
       "      <td>1970-02-03 23:08:50</td>\n",
       "      <td>1970</td>\n",
       "      <td>2</td>\n",
       "      <td>3</td>\n",
       "      <td>6.6</td>\n",
       "      <td>15.524</td>\n",
       "      <td>-99.493</td>\n",
       "      <td>21.0</td>\n",
       "      <td>GRO</td>\n",
       "      <td>1</td>\n",
       "      <td>0.0</td>\n",
       "    </tr>\n",
       "    <tr>\n",
       "      <th>1</th>\n",
       "      <td>1970-04-29 08:01:34</td>\n",
       "      <td>1970</td>\n",
       "      <td>4</td>\n",
       "      <td>29</td>\n",
       "      <td>7.3</td>\n",
       "      <td>14.463</td>\n",
       "      <td>-92.683</td>\n",
       "      <td>44.0</td>\n",
       "      <td>CHIS</td>\n",
       "      <td>1</td>\n",
       "      <td>7289564.0</td>\n",
       "    </tr>\n",
       "    <tr>\n",
       "      <th>2</th>\n",
       "      <td>1970-04-30 02:32:58</td>\n",
       "      <td>1970</td>\n",
       "      <td>4</td>\n",
       "      <td>30</td>\n",
       "      <td>6.5</td>\n",
       "      <td>14.608</td>\n",
       "      <td>-93.260</td>\n",
       "      <td>22.0</td>\n",
       "      <td>CHIS</td>\n",
       "      <td>1</td>\n",
       "      <td>66684.0</td>\n",
       "    </tr>\n",
       "    <tr>\n",
       "      <th>3</th>\n",
       "      <td>1971-09-30 02:18:00</td>\n",
       "      <td>1971</td>\n",
       "      <td>9</td>\n",
       "      <td>30</td>\n",
       "      <td>6.5</td>\n",
       "      <td>26.880</td>\n",
       "      <td>-110.800</td>\n",
       "      <td>14.0</td>\n",
       "      <td>SON</td>\n",
       "      <td>1</td>\n",
       "      <td>52110550.0</td>\n",
       "    </tr>\n",
       "    <tr>\n",
       "      <th>4</th>\n",
       "      <td>1972-10-20 02:17:46</td>\n",
       "      <td>1972</td>\n",
       "      <td>10</td>\n",
       "      <td>20</td>\n",
       "      <td>6.6</td>\n",
       "      <td>18.700</td>\n",
       "      <td>-106.756</td>\n",
       "      <td>10.0</td>\n",
       "      <td>JAL</td>\n",
       "      <td>1</td>\n",
       "      <td>85460936.0</td>\n",
       "    </tr>\n",
       "  </tbody>\n",
       "</table>\n",
       "</div>"
      ],
      "text/plain": [
       "            Date_Time  Year  Month  Day  Magnitude  Latitude  Longitude  \\\n",
       "0 1970-02-03 23:08:50  1970      2    3        6.6    15.524    -99.493   \n",
       "1 1970-04-29 08:01:34  1970      4   29        7.3    14.463    -92.683   \n",
       "2 1970-04-30 02:32:58  1970      4   30        6.5    14.608    -93.260   \n",
       "3 1971-09-30 02:18:00  1971      9   30        6.5    26.880   -110.800   \n",
       "4 1972-10-20 02:17:46  1972     10   20        6.6    18.700   -106.756   \n",
       "\n",
       "   Depth State  Status  Time_to_event  \n",
       "0   21.0   GRO       1            0.0  \n",
       "1   44.0  CHIS       1      7289564.0  \n",
       "2   22.0  CHIS       1        66684.0  \n",
       "3   14.0   SON       1     52110550.0  \n",
       "4   10.0   JAL       1     85460936.0  "
      ]
     },
     "execution_count": 8,
     "metadata": {},
     "output_type": "execute_result"
    }
   ],
   "source": [
    "#We define the function to calculate the times to event. \n",
    "#We just need to pass the dataframe and our initial starting date.\n",
    "\n",
    "def time_to_event_calculations(df, start_date):\n",
    "    #Let's iterate over all the states. This way we can make the calculations for every state at a time.\n",
    "    for state in df.State.unique():\n",
    "        i = 0\n",
    "        j = 0\n",
    "        count_1 = 0\n",
    "        count_2 = 0\n",
    "        #Now we iterate for every row where the 'State' column matches our iterating state\n",
    "        for index, row in df.loc[df['State'] == state].iterrows():\n",
    "            #Now that we have the state class, we separate the calculation by status class (magnitude >=6.0 or <6.0)\n",
    "            if row['Magnitude'] >= 6.0:\n",
    "                if count_1 == 0:\n",
    "                    #We calculate the time in the first iteration using the start_date as base\n",
    "                    diff = row['Date_Time'] - start_date\n",
    "                if count_1 != 0:\n",
    "                    #For any subsequent calculation, we use the previous event in the class as the start_date\n",
    "                    diff = row['Date_Time'] - df.loc[i, 'Date_Time']\n",
    "                #We assign the calculation in seconds to the corresponding row in the df\n",
    "                diff = diff.total_seconds()\n",
    "                df.loc[index, 'Time_to_event'] = diff\n",
    "                i = index\n",
    "                count_1 = 1\n",
    "            #We do the same for the status class of magnitude < 6.0\n",
    "            if row['Magnitude'] < 6.0:\n",
    "                if count_2 == 0:\n",
    "                    diff = row['Date_Time'] - start_date\n",
    "                if count_2 != 0:\n",
    "                    diff = row['Date_Time'] - df.loc[j, 'Date_Time']\n",
    "                diff = diff.total_seconds()\n",
    "                df.loc[index, 'Time_to_event'] = diff\n",
    "                j = index\n",
    "                count_2 = 1\n",
    "    return df\n",
    "\n",
    "#We use the created function to make the calculations in seconds and assign them to the 'Time_to_event' column\n",
    "quakes_data = time_to_event_calculations(quakes_data, start_date)\n",
    "quakes_data.head()"
   ]
  },
  {
   "cell_type": "markdown",
   "id": "59d22048",
   "metadata": {},
   "source": [
    "According to what we stated previously, we have now the correct values for the 'Time_to_event' feature. But, if we look carefully at rows with index 1 and 2 of the dataframe shown above, we can see that both rows correspond to the same state and almost same latitude and longitude. If we check the value in 'Time_to_event' for row number 2, we see 66684 seconds (~0.77 days). This implies that this event is a foreshock of the first one. To try to avoide this 'duplicity' of information we will establish a threshold and eliminate rows with low values in 'Time_to_event'. First, let's check how many rows we find within different thresholds."
   ]
  },
  {
   "cell_type": "code",
   "execution_count": 9,
   "id": "ef9bc67a",
   "metadata": {},
   "outputs": [
    {
     "name": "stdout",
     "output_type": "stream",
     "text": [
      "The number of rows with a value lower than 1 day is: 23514\n",
      "The number of rows with a value lower than 7 days is: 34906\n"
     ]
    }
   ],
   "source": [
    "#Let's check rows for a threshold of 1 day and 7 days respectively\n",
    "print('The number of rows with a value lower than 1 day is:', quakes_data.loc[quakes_data['Time_to_event'] < 86400]['Time_to_event'].count())\n",
    "print('The number of rows with a value lower than 7 days is:', quakes_data.loc[quakes_data['Time_to_event'] <= 604800]['Time_to_event'].count())"
   ]
  },
  {
   "cell_type": "markdown",
   "id": "47dab12b",
   "metadata": {},
   "source": [
    "As we can see, either threshold means dropping a lot of rows. For the sake of the exercise, we will use the 1-day threshold. Doing this also means that we will have to do the calculations again for the rows left. We expect that after this new calculation we don't have any times lower than 86400 seconds."
   ]
  },
  {
   "cell_type": "code",
   "execution_count": 10,
   "id": "f1c23711",
   "metadata": {},
   "outputs": [
    {
     "data": {
      "text/plain": [
       "(16424, 11)"
      ]
     },
     "execution_count": 10,
     "metadata": {},
     "output_type": "execute_result"
    }
   ],
   "source": [
    "#Let's drop all rows with values less than 86400 seconds, except our start data which has a value of 0.\n",
    "quakes_data.drop(quakes_data.loc[(quakes_data['Time_to_event'] <= 86400) & (quakes_data['Time_to_event'] > 0)].index, inplace = True)\n",
    "quakes_data.shape"
   ]
  },
  {
   "cell_type": "code",
   "execution_count": 11,
   "id": "cceb6187",
   "metadata": {},
   "outputs": [
    {
     "data": {
      "text/plain": [
       "Timestamp('1970-02-03 23:08:50')"
      ]
     },
     "execution_count": 11,
     "metadata": {},
     "output_type": "execute_result"
    }
   ],
   "source": [
    "#Let's update the start date and check if it changed.\n",
    "start_date = quakes_data.iloc[0,0]\n",
    "start_date"
   ]
  },
  {
   "cell_type": "code",
   "execution_count": 12,
   "id": "16b94a9c",
   "metadata": {},
   "outputs": [
    {
     "data": {
      "text/html": [
       "<div>\n",
       "<style scoped>\n",
       "    .dataframe tbody tr th:only-of-type {\n",
       "        vertical-align: middle;\n",
       "    }\n",
       "\n",
       "    .dataframe tbody tr th {\n",
       "        vertical-align: top;\n",
       "    }\n",
       "\n",
       "    .dataframe thead th {\n",
       "        text-align: right;\n",
       "    }\n",
       "</style>\n",
       "<table border=\"1\" class=\"dataframe\">\n",
       "  <thead>\n",
       "    <tr style=\"text-align: right;\">\n",
       "      <th></th>\n",
       "      <th>Date_Time</th>\n",
       "      <th>Year</th>\n",
       "      <th>Month</th>\n",
       "      <th>Day</th>\n",
       "      <th>Magnitude</th>\n",
       "      <th>Latitude</th>\n",
       "      <th>Longitude</th>\n",
       "      <th>Depth</th>\n",
       "      <th>State</th>\n",
       "      <th>Status</th>\n",
       "      <th>Time_to_event</th>\n",
       "    </tr>\n",
       "  </thead>\n",
       "  <tbody>\n",
       "    <tr>\n",
       "      <th>0</th>\n",
       "      <td>1970-02-03 23:08:50</td>\n",
       "      <td>1970</td>\n",
       "      <td>2</td>\n",
       "      <td>3</td>\n",
       "      <td>6.6</td>\n",
       "      <td>15.524</td>\n",
       "      <td>-99.493</td>\n",
       "      <td>21.0</td>\n",
       "      <td>GRO</td>\n",
       "      <td>1</td>\n",
       "      <td>0.0</td>\n",
       "    </tr>\n",
       "    <tr>\n",
       "      <th>1</th>\n",
       "      <td>1970-04-29 08:01:34</td>\n",
       "      <td>1970</td>\n",
       "      <td>4</td>\n",
       "      <td>29</td>\n",
       "      <td>7.3</td>\n",
       "      <td>14.463</td>\n",
       "      <td>-92.683</td>\n",
       "      <td>44.0</td>\n",
       "      <td>CHIS</td>\n",
       "      <td>1</td>\n",
       "      <td>7289564.0</td>\n",
       "    </tr>\n",
       "    <tr>\n",
       "      <th>3</th>\n",
       "      <td>1971-09-30 02:18:00</td>\n",
       "      <td>1971</td>\n",
       "      <td>9</td>\n",
       "      <td>30</td>\n",
       "      <td>6.5</td>\n",
       "      <td>26.880</td>\n",
       "      <td>-110.800</td>\n",
       "      <td>14.0</td>\n",
       "      <td>SON</td>\n",
       "      <td>1</td>\n",
       "      <td>52110550.0</td>\n",
       "    </tr>\n",
       "    <tr>\n",
       "      <th>4</th>\n",
       "      <td>1972-10-20 02:17:46</td>\n",
       "      <td>1972</td>\n",
       "      <td>10</td>\n",
       "      <td>20</td>\n",
       "      <td>6.6</td>\n",
       "      <td>18.700</td>\n",
       "      <td>-106.756</td>\n",
       "      <td>10.0</td>\n",
       "      <td>JAL</td>\n",
       "      <td>1</td>\n",
       "      <td>85460936.0</td>\n",
       "    </tr>\n",
       "    <tr>\n",
       "      <th>5</th>\n",
       "      <td>1972-11-12 22:43:45</td>\n",
       "      <td>1972</td>\n",
       "      <td>11</td>\n",
       "      <td>12</td>\n",
       "      <td>6.5</td>\n",
       "      <td>15.541</td>\n",
       "      <td>-95.040</td>\n",
       "      <td>14.0</td>\n",
       "      <td>OAX</td>\n",
       "      <td>1</td>\n",
       "      <td>87521695.0</td>\n",
       "    </tr>\n",
       "  </tbody>\n",
       "</table>\n",
       "</div>"
      ],
      "text/plain": [
       "            Date_Time  Year  Month  Day  Magnitude  Latitude  Longitude  \\\n",
       "0 1970-02-03 23:08:50  1970      2    3        6.6    15.524    -99.493   \n",
       "1 1970-04-29 08:01:34  1970      4   29        7.3    14.463    -92.683   \n",
       "3 1971-09-30 02:18:00  1971      9   30        6.5    26.880   -110.800   \n",
       "4 1972-10-20 02:17:46  1972     10   20        6.6    18.700   -106.756   \n",
       "5 1972-11-12 22:43:45  1972     11   12        6.5    15.541    -95.040   \n",
       "\n",
       "   Depth State  Status  Time_to_event  \n",
       "0   21.0   GRO       1            0.0  \n",
       "1   44.0  CHIS       1      7289564.0  \n",
       "3   14.0   SON       1     52110550.0  \n",
       "4   10.0   JAL       1     85460936.0  \n",
       "5   14.0   OAX       1     87521695.0  "
      ]
     },
     "execution_count": 12,
     "metadata": {},
     "output_type": "execute_result"
    }
   ],
   "source": [
    "#The start date is the same so we can proceed to make calculations again.\n",
    "quakes_data = time_to_event_calculations(quakes_data, start_date)\n",
    "quakes_data.head()"
   ]
  },
  {
   "cell_type": "markdown",
   "id": "18be5b09",
   "metadata": {},
   "source": [
    "Now that we have our data ready, let's just change seconds for days in the 'Time_to_event' column."
   ]
  },
  {
   "cell_type": "code",
   "execution_count": 13,
   "id": "96ae27c0",
   "metadata": {},
   "outputs": [
    {
     "data": {
      "text/html": [
       "<div>\n",
       "<style scoped>\n",
       "    .dataframe tbody tr th:only-of-type {\n",
       "        vertical-align: middle;\n",
       "    }\n",
       "\n",
       "    .dataframe tbody tr th {\n",
       "        vertical-align: top;\n",
       "    }\n",
       "\n",
       "    .dataframe thead th {\n",
       "        text-align: right;\n",
       "    }\n",
       "</style>\n",
       "<table border=\"1\" class=\"dataframe\">\n",
       "  <thead>\n",
       "    <tr style=\"text-align: right;\">\n",
       "      <th></th>\n",
       "      <th>Date_Time</th>\n",
       "      <th>Year</th>\n",
       "      <th>Month</th>\n",
       "      <th>Day</th>\n",
       "      <th>Magnitude</th>\n",
       "      <th>Latitude</th>\n",
       "      <th>Longitude</th>\n",
       "      <th>Depth</th>\n",
       "      <th>State</th>\n",
       "      <th>Status</th>\n",
       "      <th>Time_to_event</th>\n",
       "    </tr>\n",
       "  </thead>\n",
       "  <tbody>\n",
       "    <tr>\n",
       "      <th>0</th>\n",
       "      <td>1970-02-03 23:08:50</td>\n",
       "      <td>1970</td>\n",
       "      <td>2</td>\n",
       "      <td>3</td>\n",
       "      <td>6.6</td>\n",
       "      <td>15.524</td>\n",
       "      <td>-99.493</td>\n",
       "      <td>21.0</td>\n",
       "      <td>GRO</td>\n",
       "      <td>1</td>\n",
       "      <td>0.00</td>\n",
       "    </tr>\n",
       "    <tr>\n",
       "      <th>1</th>\n",
       "      <td>1970-04-29 08:01:34</td>\n",
       "      <td>1970</td>\n",
       "      <td>4</td>\n",
       "      <td>29</td>\n",
       "      <td>7.3</td>\n",
       "      <td>14.463</td>\n",
       "      <td>-92.683</td>\n",
       "      <td>44.0</td>\n",
       "      <td>CHIS</td>\n",
       "      <td>1</td>\n",
       "      <td>84.37</td>\n",
       "    </tr>\n",
       "    <tr>\n",
       "      <th>2</th>\n",
       "      <td>1971-09-30 02:18:00</td>\n",
       "      <td>1971</td>\n",
       "      <td>9</td>\n",
       "      <td>30</td>\n",
       "      <td>6.5</td>\n",
       "      <td>26.880</td>\n",
       "      <td>-110.800</td>\n",
       "      <td>14.0</td>\n",
       "      <td>SON</td>\n",
       "      <td>1</td>\n",
       "      <td>603.13</td>\n",
       "    </tr>\n",
       "    <tr>\n",
       "      <th>3</th>\n",
       "      <td>1972-10-20 02:17:46</td>\n",
       "      <td>1972</td>\n",
       "      <td>10</td>\n",
       "      <td>20</td>\n",
       "      <td>6.6</td>\n",
       "      <td>18.700</td>\n",
       "      <td>-106.756</td>\n",
       "      <td>10.0</td>\n",
       "      <td>JAL</td>\n",
       "      <td>1</td>\n",
       "      <td>989.13</td>\n",
       "    </tr>\n",
       "    <tr>\n",
       "      <th>4</th>\n",
       "      <td>1972-11-12 22:43:45</td>\n",
       "      <td>1972</td>\n",
       "      <td>11</td>\n",
       "      <td>12</td>\n",
       "      <td>6.5</td>\n",
       "      <td>15.541</td>\n",
       "      <td>-95.040</td>\n",
       "      <td>14.0</td>\n",
       "      <td>OAX</td>\n",
       "      <td>1</td>\n",
       "      <td>1012.98</td>\n",
       "    </tr>\n",
       "  </tbody>\n",
       "</table>\n",
       "</div>"
      ],
      "text/plain": [
       "            Date_Time  Year  Month  Day  Magnitude  Latitude  Longitude  \\\n",
       "0 1970-02-03 23:08:50  1970      2    3        6.6    15.524    -99.493   \n",
       "1 1970-04-29 08:01:34  1970      4   29        7.3    14.463    -92.683   \n",
       "2 1971-09-30 02:18:00  1971      9   30        6.5    26.880   -110.800   \n",
       "3 1972-10-20 02:17:46  1972     10   20        6.6    18.700   -106.756   \n",
       "4 1972-11-12 22:43:45  1972     11   12        6.5    15.541    -95.040   \n",
       "\n",
       "   Depth State  Status  Time_to_event  \n",
       "0   21.0   GRO       1           0.00  \n",
       "1   44.0  CHIS       1          84.37  \n",
       "2   14.0   SON       1         603.13  \n",
       "3   10.0   JAL       1         989.13  \n",
       "4   14.0   OAX       1        1012.98  "
      ]
     },
     "execution_count": 13,
     "metadata": {},
     "output_type": "execute_result"
    }
   ],
   "source": [
    "quakes_data['Time_to_event'] = round(quakes_data['Time_to_event'] / 86400, 2)\n",
    "quakes_data.reset_index(drop=True, inplace=True)\n",
    "quakes_data.head()"
   ]
  },
  {
   "cell_type": "markdown",
   "id": "d1f0112f",
   "metadata": {},
   "source": [
    "Finally, let's make another feature that we will use in our model. This feature will represent the proximity that each area (state) has with one of the four tectonic plates in Mexico. Since there are 4 plates, this feature will be categorical with 4 classes. Let's create this feature and include it in our dataframe."
   ]
  },
  {
   "cell_type": "code",
   "execution_count": 14,
   "id": "376bf2ac",
   "metadata": {},
   "outputs": [
    {
     "name": "stdout",
     "output_type": "stream",
     "text": [
      "['YUC', 'NL', 'QR', 'TAB', 'TAMS', 'PUE', 'GTO', 'SLP', 'TLAX', 'COAH', 'CHIH', 'CAMP', 'VER', 'CDMX', 'ZAC', 'MOR', 'SON', 'DGO', 'QRO', 'MEX', 'HGO']\n"
     ]
    }
   ],
   "source": [
    "#Let's create the four categories we will use for this new feature.\n",
    "rivera = ['SIN', 'NAY', 'JAL']\n",
    "cocos = ['COL', 'MICH', 'GRO', 'OAX', 'CHIS']\n",
    "pacific = ['BC', 'BCS']\n",
    "north_america = list(set(quakes_data['State'].values) - set(rivera + cocos + pacific))\n",
    "print(north_america)"
   ]
  },
  {
   "cell_type": "code",
   "execution_count": 15,
   "id": "94cf0e2b",
   "metadata": {},
   "outputs": [
    {
     "data": {
      "text/plain": [
       "cocos            12012\n",
       "north_america     1923\n",
       "rivera            1247\n",
       "pacific           1242\n",
       "Name: Plate, dtype: int64"
      ]
     },
     "execution_count": 15,
     "metadata": {},
     "output_type": "execute_result"
    }
   ],
   "source": [
    "#Now let's create the new feature and assign its corresponding value based on the categories.\n",
    "quakes_data.insert(9, 'Plate', '')\n",
    "plates_list = [rivera, cocos, pacific, north_america]\n",
    "plates_categories = ['rivera', 'cocos', 'pacific', 'north_america']\n",
    "for i in range(len(plates_list)):\n",
    "    quakes_data['Plate'] = np.where((quakes_data.State.isin(plates_list[i])), plates_categories[i],quakes_data.Plate)\n",
    "quakes_data.Plate.value_counts()"
   ]
  },
  {
   "cell_type": "code",
   "execution_count": 16,
   "id": "0fae894a",
   "metadata": {},
   "outputs": [
    {
     "data": {
      "text/html": [
       "<div>\n",
       "<style scoped>\n",
       "    .dataframe tbody tr th:only-of-type {\n",
       "        vertical-align: middle;\n",
       "    }\n",
       "\n",
       "    .dataframe tbody tr th {\n",
       "        vertical-align: top;\n",
       "    }\n",
       "\n",
       "    .dataframe thead th {\n",
       "        text-align: right;\n",
       "    }\n",
       "</style>\n",
       "<table border=\"1\" class=\"dataframe\">\n",
       "  <thead>\n",
       "    <tr style=\"text-align: right;\">\n",
       "      <th></th>\n",
       "      <th>Date_Time</th>\n",
       "      <th>Year</th>\n",
       "      <th>Month</th>\n",
       "      <th>Day</th>\n",
       "      <th>Magnitude</th>\n",
       "      <th>Latitude</th>\n",
       "      <th>Longitude</th>\n",
       "      <th>Depth</th>\n",
       "      <th>State</th>\n",
       "      <th>Plate</th>\n",
       "      <th>Status</th>\n",
       "      <th>Time_to_event</th>\n",
       "    </tr>\n",
       "  </thead>\n",
       "  <tbody>\n",
       "    <tr>\n",
       "      <th>0</th>\n",
       "      <td>1970-02-03 23:08:50</td>\n",
       "      <td>1970</td>\n",
       "      <td>2</td>\n",
       "      <td>3</td>\n",
       "      <td>6.6</td>\n",
       "      <td>15.524</td>\n",
       "      <td>-99.493</td>\n",
       "      <td>21.0</td>\n",
       "      <td>GRO</td>\n",
       "      <td>cocos</td>\n",
       "      <td>1</td>\n",
       "      <td>0.00</td>\n",
       "    </tr>\n",
       "    <tr>\n",
       "      <th>1</th>\n",
       "      <td>1970-04-29 08:01:34</td>\n",
       "      <td>1970</td>\n",
       "      <td>4</td>\n",
       "      <td>29</td>\n",
       "      <td>7.3</td>\n",
       "      <td>14.463</td>\n",
       "      <td>-92.683</td>\n",
       "      <td>44.0</td>\n",
       "      <td>CHIS</td>\n",
       "      <td>cocos</td>\n",
       "      <td>1</td>\n",
       "      <td>84.37</td>\n",
       "    </tr>\n",
       "    <tr>\n",
       "      <th>2</th>\n",
       "      <td>1971-09-30 02:18:00</td>\n",
       "      <td>1971</td>\n",
       "      <td>9</td>\n",
       "      <td>30</td>\n",
       "      <td>6.5</td>\n",
       "      <td>26.880</td>\n",
       "      <td>-110.800</td>\n",
       "      <td>14.0</td>\n",
       "      <td>SON</td>\n",
       "      <td>north_america</td>\n",
       "      <td>1</td>\n",
       "      <td>603.13</td>\n",
       "    </tr>\n",
       "    <tr>\n",
       "      <th>3</th>\n",
       "      <td>1972-10-20 02:17:46</td>\n",
       "      <td>1972</td>\n",
       "      <td>10</td>\n",
       "      <td>20</td>\n",
       "      <td>6.6</td>\n",
       "      <td>18.700</td>\n",
       "      <td>-106.756</td>\n",
       "      <td>10.0</td>\n",
       "      <td>JAL</td>\n",
       "      <td>rivera</td>\n",
       "      <td>1</td>\n",
       "      <td>989.13</td>\n",
       "    </tr>\n",
       "    <tr>\n",
       "      <th>4</th>\n",
       "      <td>1972-11-12 22:43:45</td>\n",
       "      <td>1972</td>\n",
       "      <td>11</td>\n",
       "      <td>12</td>\n",
       "      <td>6.5</td>\n",
       "      <td>15.541</td>\n",
       "      <td>-95.040</td>\n",
       "      <td>14.0</td>\n",
       "      <td>OAX</td>\n",
       "      <td>cocos</td>\n",
       "      <td>1</td>\n",
       "      <td>1012.98</td>\n",
       "    </tr>\n",
       "  </tbody>\n",
       "</table>\n",
       "</div>"
      ],
      "text/plain": [
       "            Date_Time  Year  Month  Day  Magnitude  Latitude  Longitude  \\\n",
       "0 1970-02-03 23:08:50  1970      2    3        6.6    15.524    -99.493   \n",
       "1 1970-04-29 08:01:34  1970      4   29        7.3    14.463    -92.683   \n",
       "2 1971-09-30 02:18:00  1971      9   30        6.5    26.880   -110.800   \n",
       "3 1972-10-20 02:17:46  1972     10   20        6.6    18.700   -106.756   \n",
       "4 1972-11-12 22:43:45  1972     11   12        6.5    15.541    -95.040   \n",
       "\n",
       "   Depth State          Plate  Status  Time_to_event  \n",
       "0   21.0   GRO          cocos       1           0.00  \n",
       "1   44.0  CHIS          cocos       1          84.37  \n",
       "2   14.0   SON  north_america       1         603.13  \n",
       "3   10.0   JAL         rivera       1         989.13  \n",
       "4   14.0   OAX          cocos       1        1012.98  "
      ]
     },
     "execution_count": 16,
     "metadata": {},
     "output_type": "execute_result"
    }
   ],
   "source": [
    "quakes_data.head()"
   ]
  },
  {
   "cell_type": "markdown",
   "id": "ff093df5",
   "metadata": {},
   "source": [
    "As we can see, the dominant category is cocos plate which only considers 5 states.<br><br>\n",
    "Now, we have our data ready to apply some preprocessing steps.\n",
    "Let's first segregate our data into features (X) and labels (y)"
   ]
  },
  {
   "cell_type": "code",
   "execution_count": 17,
   "id": "13e51310",
   "metadata": {},
   "outputs": [],
   "source": [
    "#We will leave out 'Date_Time' and 'Year' columns and consider the rest of the features.\n",
    "X_cols = ['Month', 'Day', 'Magnitude', 'Latitude', 'Longitude', 'Depth', 'State', 'Plate']\n",
    "X = quakes_data[X_cols]\n",
    "y = quakes_data[['Status', 'Time_to_event']]"
   ]
  },
  {
   "cell_type": "markdown",
   "id": "14824dc3",
   "metadata": {},
   "source": [
    "We mentioned before that we are trying to apply survival analysis to our problem, so we need to consider our 'Status' column as type boolean and our 'Days_to_event' column as type float. Let's change the data types accordingly."
   ]
  },
  {
   "cell_type": "code",
   "execution_count": 18,
   "id": "6d8968c0",
   "metadata": {},
   "outputs": [],
   "source": [
    "#We will also change 'State' column to type 'category' to be able to encode later.\n",
    "X['State'] = X['State'].astype('category')\n",
    "X['Plate'] = X['Plate'].astype('category')\n",
    "y['Status'] = y['Status'].astype('boolean')\n",
    "y['Time_to_event'] = y['Time_to_event'].astype('float')"
   ]
  },
  {
   "cell_type": "markdown",
   "id": "03689b22",
   "metadata": {},
   "source": [
    "Additionally we will have to transform our 'y' to a structured array. We will do first this before encoding our categorical features."
   ]
  },
  {
   "cell_type": "code",
   "execution_count": 19,
   "id": "a76adf61",
   "metadata": {},
   "outputs": [],
   "source": [
    "y_array = y[['Status', 'Time_to_event']].to_numpy()\n",
    "\n",
    "#List of tuples\n",
    "aux = [(e1,e2) for e1,e2 in y_array]\n",
    "\n",
    "#Structured array\n",
    "y_array = np.array(aux, dtype=[('Status', '?'), ('Time_to_event', '<f8')])"
   ]
  },
  {
   "cell_type": "markdown",
   "id": "6c72921c",
   "metadata": {},
   "source": [
    "We are ready now to encode our categorical features. In this case we have to encode the 'State' and 'Plate' columns since they are categorical features."
   ]
  },
  {
   "cell_type": "code",
   "execution_count": 20,
   "id": "dd1a05b1",
   "metadata": {},
   "outputs": [
    {
     "data": {
      "text/html": [
       "<div>\n",
       "<style scoped>\n",
       "    .dataframe tbody tr th:only-of-type {\n",
       "        vertical-align: middle;\n",
       "    }\n",
       "\n",
       "    .dataframe tbody tr th {\n",
       "        vertical-align: top;\n",
       "    }\n",
       "\n",
       "    .dataframe thead th {\n",
       "        text-align: right;\n",
       "    }\n",
       "</style>\n",
       "<table border=\"1\" class=\"dataframe\">\n",
       "  <thead>\n",
       "    <tr style=\"text-align: right;\">\n",
       "      <th></th>\n",
       "      <th>Month</th>\n",
       "      <th>Day</th>\n",
       "      <th>Magnitude</th>\n",
       "      <th>Latitude</th>\n",
       "      <th>Longitude</th>\n",
       "      <th>Depth</th>\n",
       "      <th>State=BCS</th>\n",
       "      <th>State=CAMP</th>\n",
       "      <th>State=CDMX</th>\n",
       "      <th>State=CHIH</th>\n",
       "      <th>...</th>\n",
       "      <th>State=SON</th>\n",
       "      <th>State=TAB</th>\n",
       "      <th>State=TAMS</th>\n",
       "      <th>State=TLAX</th>\n",
       "      <th>State=VER</th>\n",
       "      <th>State=YUC</th>\n",
       "      <th>State=ZAC</th>\n",
       "      <th>Plate=north_america</th>\n",
       "      <th>Plate=pacific</th>\n",
       "      <th>Plate=rivera</th>\n",
       "    </tr>\n",
       "  </thead>\n",
       "  <tbody>\n",
       "    <tr>\n",
       "      <th>0</th>\n",
       "      <td>2</td>\n",
       "      <td>3</td>\n",
       "      <td>6.6</td>\n",
       "      <td>15.524</td>\n",
       "      <td>-99.493</td>\n",
       "      <td>21.0</td>\n",
       "      <td>0.0</td>\n",
       "      <td>0.0</td>\n",
       "      <td>0.0</td>\n",
       "      <td>0.0</td>\n",
       "      <td>...</td>\n",
       "      <td>0.0</td>\n",
       "      <td>0.0</td>\n",
       "      <td>0.0</td>\n",
       "      <td>0.0</td>\n",
       "      <td>0.0</td>\n",
       "      <td>0.0</td>\n",
       "      <td>0.0</td>\n",
       "      <td>0.0</td>\n",
       "      <td>0.0</td>\n",
       "      <td>0.0</td>\n",
       "    </tr>\n",
       "    <tr>\n",
       "      <th>1</th>\n",
       "      <td>4</td>\n",
       "      <td>29</td>\n",
       "      <td>7.3</td>\n",
       "      <td>14.463</td>\n",
       "      <td>-92.683</td>\n",
       "      <td>44.0</td>\n",
       "      <td>0.0</td>\n",
       "      <td>0.0</td>\n",
       "      <td>0.0</td>\n",
       "      <td>0.0</td>\n",
       "      <td>...</td>\n",
       "      <td>0.0</td>\n",
       "      <td>0.0</td>\n",
       "      <td>0.0</td>\n",
       "      <td>0.0</td>\n",
       "      <td>0.0</td>\n",
       "      <td>0.0</td>\n",
       "      <td>0.0</td>\n",
       "      <td>0.0</td>\n",
       "      <td>0.0</td>\n",
       "      <td>0.0</td>\n",
       "    </tr>\n",
       "    <tr>\n",
       "      <th>2</th>\n",
       "      <td>9</td>\n",
       "      <td>30</td>\n",
       "      <td>6.5</td>\n",
       "      <td>26.880</td>\n",
       "      <td>-110.800</td>\n",
       "      <td>14.0</td>\n",
       "      <td>0.0</td>\n",
       "      <td>0.0</td>\n",
       "      <td>0.0</td>\n",
       "      <td>0.0</td>\n",
       "      <td>...</td>\n",
       "      <td>1.0</td>\n",
       "      <td>0.0</td>\n",
       "      <td>0.0</td>\n",
       "      <td>0.0</td>\n",
       "      <td>0.0</td>\n",
       "      <td>0.0</td>\n",
       "      <td>0.0</td>\n",
       "      <td>1.0</td>\n",
       "      <td>0.0</td>\n",
       "      <td>0.0</td>\n",
       "    </tr>\n",
       "    <tr>\n",
       "      <th>3</th>\n",
       "      <td>10</td>\n",
       "      <td>20</td>\n",
       "      <td>6.6</td>\n",
       "      <td>18.700</td>\n",
       "      <td>-106.756</td>\n",
       "      <td>10.0</td>\n",
       "      <td>0.0</td>\n",
       "      <td>0.0</td>\n",
       "      <td>0.0</td>\n",
       "      <td>0.0</td>\n",
       "      <td>...</td>\n",
       "      <td>0.0</td>\n",
       "      <td>0.0</td>\n",
       "      <td>0.0</td>\n",
       "      <td>0.0</td>\n",
       "      <td>0.0</td>\n",
       "      <td>0.0</td>\n",
       "      <td>0.0</td>\n",
       "      <td>0.0</td>\n",
       "      <td>0.0</td>\n",
       "      <td>1.0</td>\n",
       "    </tr>\n",
       "    <tr>\n",
       "      <th>4</th>\n",
       "      <td>11</td>\n",
       "      <td>12</td>\n",
       "      <td>6.5</td>\n",
       "      <td>15.541</td>\n",
       "      <td>-95.040</td>\n",
       "      <td>14.0</td>\n",
       "      <td>0.0</td>\n",
       "      <td>0.0</td>\n",
       "      <td>0.0</td>\n",
       "      <td>0.0</td>\n",
       "      <td>...</td>\n",
       "      <td>0.0</td>\n",
       "      <td>0.0</td>\n",
       "      <td>0.0</td>\n",
       "      <td>0.0</td>\n",
       "      <td>0.0</td>\n",
       "      <td>0.0</td>\n",
       "      <td>0.0</td>\n",
       "      <td>0.0</td>\n",
       "      <td>0.0</td>\n",
       "      <td>0.0</td>\n",
       "    </tr>\n",
       "  </tbody>\n",
       "</table>\n",
       "<p>5 rows × 39 columns</p>\n",
       "</div>"
      ],
      "text/plain": [
       "   Month  Day  Magnitude  Latitude  Longitude  Depth  State=BCS  State=CAMP  \\\n",
       "0      2    3        6.6    15.524    -99.493   21.0        0.0         0.0   \n",
       "1      4   29        7.3    14.463    -92.683   44.0        0.0         0.0   \n",
       "2      9   30        6.5    26.880   -110.800   14.0        0.0         0.0   \n",
       "3     10   20        6.6    18.700   -106.756   10.0        0.0         0.0   \n",
       "4     11   12        6.5    15.541    -95.040   14.0        0.0         0.0   \n",
       "\n",
       "   State=CDMX  State=CHIH  ...  State=SON  State=TAB  State=TAMS  State=TLAX  \\\n",
       "0         0.0         0.0  ...        0.0        0.0         0.0         0.0   \n",
       "1         0.0         0.0  ...        0.0        0.0         0.0         0.0   \n",
       "2         0.0         0.0  ...        1.0        0.0         0.0         0.0   \n",
       "3         0.0         0.0  ...        0.0        0.0         0.0         0.0   \n",
       "4         0.0         0.0  ...        0.0        0.0         0.0         0.0   \n",
       "\n",
       "   State=VER  State=YUC  State=ZAC  Plate=north_america  Plate=pacific  \\\n",
       "0        0.0        0.0        0.0                  0.0            0.0   \n",
       "1        0.0        0.0        0.0                  0.0            0.0   \n",
       "2        0.0        0.0        0.0                  1.0            0.0   \n",
       "3        0.0        0.0        0.0                  0.0            0.0   \n",
       "4        0.0        0.0        0.0                  0.0            0.0   \n",
       "\n",
       "   Plate=rivera  \n",
       "0           0.0  \n",
       "1           0.0  \n",
       "2           0.0  \n",
       "3           1.0  \n",
       "4           0.0  \n",
       "\n",
       "[5 rows x 39 columns]"
      ]
     },
     "execution_count": 20,
     "metadata": {},
     "output_type": "execute_result"
    }
   ],
   "source": [
    "from sksurv.preprocessing import OneHotEncoder\n",
    "\n",
    "X_scaled = OneHotEncoder().fit_transform(X)\n",
    "X_scaled.head()"
   ]
  },
  {
   "cell_type": "markdown",
   "id": "ff077d4b",
   "metadata": {},
   "source": [
    "We have our data ready to do a train_test_split. We will consider an 80% train set and 20% test set and we will seed at 0 for reproducibility."
   ]
  },
  {
   "cell_type": "code",
   "execution_count": 21,
   "id": "872cb8bd",
   "metadata": {},
   "outputs": [],
   "source": [
    "from sklearn.model_selection import train_test_split\n",
    "\n",
    "X_train, X_test, y_train, y_test = train_test_split(\n",
    "    X_scaled, y_array, test_size=0.2, random_state=0)"
   ]
  },
  {
   "cell_type": "code",
   "execution_count": 22,
   "id": "a1bd23ee",
   "metadata": {},
   "outputs": [
    {
     "data": {
      "text/plain": [
       "(((13139, 39), (13139,)), ((3285, 39), (3285,)))"
      ]
     },
     "execution_count": 22,
     "metadata": {},
     "output_type": "execute_result"
    }
   ],
   "source": [
    "(X_train.shape, y_train.shape), (X_test.shape, y_test.shape)"
   ]
  },
  {
   "cell_type": "markdown",
   "id": "660b39cc",
   "metadata": {},
   "source": [
    "Let's first use a Kaplan Meier estimator to plot a step function which will show us the survival probability or in this case the  big earthquake-free probability along time"
   ]
  },
  {
   "cell_type": "code",
   "execution_count": 23,
   "id": "3da33a6e",
   "metadata": {},
   "outputs": [
    {
     "data": {
      "text/plain": [
       "Text(0.5, 0, 'time $t$')"
      ]
     },
     "execution_count": 23,
     "metadata": {},
     "output_type": "execute_result"
    },
    {
     "data": {
      "image/png": "[encoded data removed]",
      "text/plain": [
       "<Figure size 432x288 with 1 Axes>"
      ]
     },
     "metadata": {
      "needs_background": "light"
     },
     "output_type": "display_data"
    }
   ],
   "source": [
    "from sksurv.nonparametric import kaplan_meier_estimator\n",
    "\n",
    "time, survival_prob = kaplan_meier_estimator(y_array['Status'], y_array['Time_to_event'])\n",
    "plt.step(time, survival_prob, where='post')\n",
    "plt.ylabel('Probability of no big earthquake')\n",
    "plt.xlabel('time $t$')"
   ]
  },
  {
   "cell_type": "markdown",
   "id": "c1a68c29",
   "metadata": {},
   "source": [
    "It looks like most of the big events happened within 4000 days (~11 years) from the previous one. "
   ]
  },
  {
   "cell_type": "markdown",
   "id": "2b047b6b",
   "metadata": {},
   "source": [
    "Now, for an initial test, let's train a Cox’s proportional hazard’s model and check the concordance index, which is a measure of rank correlation between predicted risk scores and observed time points."
   ]
  },
  {
   "cell_type": "code",
   "execution_count": 24,
   "id": "dab03b68",
   "metadata": {},
   "outputs": [
    {
     "data": {
      "text/plain": [
       "CoxPHSurvivalAnalysis()"
      ]
     },
     "execution_count": 24,
     "metadata": {},
     "output_type": "execute_result"
    }
   ],
   "source": [
    "from sksurv.linear_model import CoxPHSurvivalAnalysis\n",
    "\n",
    "estimator = CoxPHSurvivalAnalysis()\n",
    "estimator.fit(X_train, y_train)"
   ]
  },
  {
   "cell_type": "code",
   "execution_count": 25,
   "id": "eef6c32f",
   "metadata": {},
   "outputs": [
    {
     "data": {
      "text/plain": [
       "0.7102963851293472"
      ]
     },
     "execution_count": 25,
     "metadata": {},
     "output_type": "execute_result"
    }
   ],
   "source": [
    "estimator.score(X_test, y_test)"
   ]
  }
 ],
 "metadata": {
  "kernelspec": {
   "display_name": "Python 3 (ipykernel)",
   "language": "python",
   "name": "python3"
  },
  "language_info": {
   "codemirror_mode": {
    "name": "ipython",
    "version": 3
   },
   "file_extension": ".py",
   "mimetype": "text/x-python",
   "name": "python",
   "nbconvert_exporter": "python",
   "pygments_lexer": "ipython3",
   "version": "3.8.8"
  }
 },
 "nbformat": 4,
 "nbformat_minor": 5
}
