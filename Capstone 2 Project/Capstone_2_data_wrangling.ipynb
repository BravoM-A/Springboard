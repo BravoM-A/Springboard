{
 "cells": [
  {
   "cell_type": "markdown",
   "id": "332ac43a",
   "metadata": {},
   "source": [
    "In the last 40 years, Mexico has suffered 137 earthquakes with a magnitude of M6.0 or higher.\n",
    "\n",
    "In 1985, with a magnitude of M8.1, one of the biggest earthquakes inside Mexican territory happened in Michoacan state and had a very big impact in Mexico city. This event accounted for more than 10,000 deaths and 30,000+ injured. Additionally, 3,000+ buildings were demolished and 100,000 more were damaged. Since then, billions of pesos have been lost and thousands of people have suffered the impact of the different earthquakes that have occurred mainly in the south and the Pacific coast (i.e. Guerrero and Oaxaca states) as well as the  center (i.e. Mexico city) areas. Coincidentally, in 2017, exactly 32 years after the event in 1985; on the same date, another earthquake of magnitude M7.1 hit Mexico city, leaving a total of 370 deaths and more than 6,000 people injured.\n",
    "\n",
    "Due to the recurring events, the need to try to anticipate these disasters, as well as being better prepared for them, an improved response program should be developed. An early alert system based on event predictions should be part of this program. This is why we will attempt to create a reliable regression model utilizing the information that we have available.\n",
    "\n",
    "As a start, a dataset containing almost 40,000 earthquake observations from 1970 to 2022 was obtained from UNAM university data collection in Mexico (http://www2.ssn.unam.mx:8080/catalogo/).\n",
    "\n",
    "In this step of the process, we will review the dataset that we have available."
   ]
  },
  {
   "cell_type": "code",
   "execution_count": 1,
   "id": "49bd0d1d",
   "metadata": {},
   "outputs": [],
   "source": [
    "#First, we import the necessary libraries\n",
    "import pandas as pd\n",
    "import matplotlib.pyplot as plt\n",
    "import seaborn as sns\n",
    "import os\n",
    "import numpy as np\n",
    "\n",
    "from library.sb_utils import save_file"
   ]
  },
  {
   "cell_type": "code",
   "execution_count": 2,
   "id": "9a113716",
   "metadata": {},
   "outputs": [
    {
     "data": {
      "text/html": [
       "<div>\n",
       "<style scoped>\n",
       "    .dataframe tbody tr th:only-of-type {\n",
       "        vertical-align: middle;\n",
       "    }\n",
       "\n",
       "    .dataframe tbody tr th {\n",
       "        vertical-align: top;\n",
       "    }\n",
       "\n",
       "    .dataframe thead th {\n",
       "        text-align: right;\n",
       "    }\n",
       "</style>\n",
       "<table border=\"1\" class=\"dataframe\">\n",
       "  <thead>\n",
       "    <tr style=\"text-align: right;\">\n",
       "      <th></th>\n",
       "      <th>Date</th>\n",
       "      <th>Time</th>\n",
       "      <th>Magnitude</th>\n",
       "      <th>Latitude</th>\n",
       "      <th>Longitude</th>\n",
       "      <th>Depth</th>\n",
       "      <th>Location reference</th>\n",
       "      <th>Date UTC</th>\n",
       "      <th>Time UTC</th>\n",
       "      <th>Status</th>\n",
       "      <th>State</th>\n",
       "    </tr>\n",
       "  </thead>\n",
       "  <tbody>\n",
       "    <tr>\n",
       "      <th>0</th>\n",
       "      <td>1970/02/03</td>\n",
       "      <td>23:08:50</td>\n",
       "      <td>6.6</td>\n",
       "      <td>15.524</td>\n",
       "      <td>-99.493</td>\n",
       "      <td>21.0</td>\n",
       "      <td>141 km al SUR de SAN MARCOS, GRO</td>\n",
       "      <td>1970/02/04</td>\n",
       "      <td>5:08:50</td>\n",
       "      <td>revisado</td>\n",
       "      <td>GRO</td>\n",
       "    </tr>\n",
       "    <tr>\n",
       "      <th>1</th>\n",
       "      <td>1970/04/29</td>\n",
       "      <td>8:01:34</td>\n",
       "      <td>7.3</td>\n",
       "      <td>14.463</td>\n",
       "      <td>-92.683</td>\n",
       "      <td>44.0</td>\n",
       "      <td>62 km al SUROESTE de CD HIDALGO, CHIS</td>\n",
       "      <td>1970/04/29</td>\n",
       "      <td>14:01:34</td>\n",
       "      <td>revisado</td>\n",
       "      <td>CHIS</td>\n",
       "    </tr>\n",
       "    <tr>\n",
       "      <th>2</th>\n",
       "      <td>1970/04/30</td>\n",
       "      <td>2:32:58</td>\n",
       "      <td>6.5</td>\n",
       "      <td>14.608</td>\n",
       "      <td>-93.260</td>\n",
       "      <td>22.0</td>\n",
       "      <td>100 km al SUROESTE de MAPASTEPEC, CHIS</td>\n",
       "      <td>1970/04/30</td>\n",
       "      <td>8:32:58</td>\n",
       "      <td>revisado</td>\n",
       "      <td>CHIS</td>\n",
       "    </tr>\n",
       "    <tr>\n",
       "      <th>3</th>\n",
       "      <td>1971/09/30</td>\n",
       "      <td>2:18:00</td>\n",
       "      <td>6.5</td>\n",
       "      <td>26.880</td>\n",
       "      <td>-110.800</td>\n",
       "      <td>14.0</td>\n",
       "      <td>92 km al SUROESTE de PUEBLO YAQUI, SON</td>\n",
       "      <td>1971/09/30</td>\n",
       "      <td>8:18:00</td>\n",
       "      <td>revisado</td>\n",
       "      <td>SON</td>\n",
       "    </tr>\n",
       "    <tr>\n",
       "      <th>4</th>\n",
       "      <td>1972/10/20</td>\n",
       "      <td>2:17:46</td>\n",
       "      <td>6.6</td>\n",
       "      <td>18.700</td>\n",
       "      <td>-106.756</td>\n",
       "      <td>10.0</td>\n",
       "      <td>238 km al OESTE de CIHUATLAN, JAL</td>\n",
       "      <td>1972/10/20</td>\n",
       "      <td>8:17:46</td>\n",
       "      <td>revisado</td>\n",
       "      <td>JAL</td>\n",
       "    </tr>\n",
       "  </tbody>\n",
       "</table>\n",
       "</div>"
      ],
      "text/plain": [
       "         Date      Time  Magnitude  Latitude  Longitude  Depth  \\\n",
       "0  1970/02/03  23:08:50        6.6    15.524    -99.493   21.0   \n",
       "1  1970/04/29   8:01:34        7.3    14.463    -92.683   44.0   \n",
       "2  1970/04/30   2:32:58        6.5    14.608    -93.260   22.0   \n",
       "3  1971/09/30   2:18:00        6.5    26.880   -110.800   14.0   \n",
       "4  1972/10/20   2:17:46        6.6    18.700   -106.756   10.0   \n",
       "\n",
       "                       Location reference    Date UTC  Time UTC    Status  \\\n",
       "0        141 km al SUR de SAN MARCOS, GRO  1970/02/04   5:08:50  revisado   \n",
       "1   62 km al SUROESTE de CD HIDALGO, CHIS  1970/04/29  14:01:34  revisado   \n",
       "2  100 km al SUROESTE de MAPASTEPEC, CHIS  1970/04/30   8:32:58  revisado   \n",
       "3  92 km al SUROESTE de PUEBLO YAQUI, SON  1971/09/30   8:18:00  revisado   \n",
       "4       238 km al OESTE de CIHUATLAN, JAL  1972/10/20   8:17:46  revisado   \n",
       "\n",
       "  State  \n",
       "0   GRO  \n",
       "1  CHIS  \n",
       "2  CHIS  \n",
       "3   SON  \n",
       "4   JAL  "
      ]
     },
     "execution_count": 2,
     "metadata": {},
     "output_type": "execute_result"
    }
   ],
   "source": [
    "quakes_data = pd.read_csv('/Users/apple/Desktop/Data Science/Springboard Career Track/Section 7/Capstone Project Docs/Dataset/SSNMX_catalogo_19700101_20220319_m40_99.csv')\n",
    "#We check the first few rows\n",
    "quakes_data.head()"
   ]
  },
  {
   "cell_type": "markdown",
   "id": "05f9cb6f",
   "metadata": {},
   "source": [
    "Now, we review that shape of our dataset and then we check if there are any missing values in any of the features."
   ]
  },
  {
   "cell_type": "code",
   "execution_count": 3,
   "id": "525d7ffc",
   "metadata": {},
   "outputs": [
    {
     "data": {
      "text/plain": [
       "(39948, 11)"
      ]
     },
     "execution_count": 3,
     "metadata": {},
     "output_type": "execute_result"
    }
   ],
   "source": [
    "quakes_data.shape"
   ]
  },
  {
   "cell_type": "code",
   "execution_count": 4,
   "id": "5a3e07b4",
   "metadata": {},
   "outputs": [
    {
     "name": "stdout",
     "output_type": "stream",
     "text": [
      "<class 'pandas.core.frame.DataFrame'>\n",
      "RangeIndex: 39948 entries, 0 to 39947\n",
      "Data columns (total 11 columns):\n",
      " #   Column              Non-Null Count  Dtype  \n",
      "---  ------              --------------  -----  \n",
      " 0   Date                39948 non-null  object \n",
      " 1   Time                39948 non-null  object \n",
      " 2   Magnitude           39948 non-null  float64\n",
      " 3   Latitude            39948 non-null  float64\n",
      " 4   Longitude           39948 non-null  float64\n",
      " 5   Depth               39948 non-null  float64\n",
      " 6   Location reference  39948 non-null  object \n",
      " 7   Date UTC            39948 non-null  object \n",
      " 8   Time UTC            39948 non-null  object \n",
      " 9   Status              39948 non-null  object \n",
      " 10  State               39948 non-null  object \n",
      "dtypes: float64(4), object(7)\n",
      "memory usage: 3.4+ MB\n"
     ]
    }
   ],
   "source": [
    "quakes_data.info()"
   ]
  },
  {
   "cell_type": "markdown",
   "id": "302a7e32",
   "metadata": {},
   "source": [
    "We have a table of 39948 observations and 11 features. We have 4 features with a numerical value (Magnitude, Latitude, Longitude and Depth),\n",
    "and 7 other which are strings. At first glance, it seems that we could drop some features that do not add much valuable information to our\n",
    "purpose. Let's drop columns 'Date UTC' and 'Time UTC' and keep 'Date' and 'Time' since they have the same information but in Mexico's local time. Additionally, let's drop 'Status' column since it only indicates that the event was recorded."
   ]
  },
  {
   "cell_type": "code",
   "execution_count": 5,
   "id": "5a119080",
   "metadata": {},
   "outputs": [
    {
     "name": "stdout",
     "output_type": "stream",
     "text": [
      "<class 'pandas.core.frame.DataFrame'>\n",
      "RangeIndex: 39948 entries, 0 to 39947\n",
      "Data columns (total 8 columns):\n",
      " #   Column              Non-Null Count  Dtype  \n",
      "---  ------              --------------  -----  \n",
      " 0   Date                39948 non-null  object \n",
      " 1   Time                39948 non-null  object \n",
      " 2   Magnitude           39948 non-null  float64\n",
      " 3   Latitude            39948 non-null  float64\n",
      " 4   Longitude           39948 non-null  float64\n",
      " 5   Depth               39948 non-null  float64\n",
      " 6   Location reference  39948 non-null  object \n",
      " 7   State               39948 non-null  object \n",
      "dtypes: float64(4), object(4)\n",
      "memory usage: 2.4+ MB\n"
     ]
    }
   ],
   "source": [
    "quakes_data = quakes_data.drop(columns=['Date UTC', 'Time UTC', 'Status'])\n",
    "quakes_data.info()"
   ]
  },
  {
   "cell_type": "markdown",
   "id": "fb6d5488",
   "metadata": {},
   "source": [
    "Now we check the data to confirm if we have any duplicate values."
   ]
  },
  {
   "cell_type": "code",
   "execution_count": 6,
   "id": "3e07fdf3",
   "metadata": {},
   "outputs": [
    {
     "data": {
      "text/plain": [
       "False"
      ]
     },
     "execution_count": 6,
     "metadata": {},
     "output_type": "execute_result"
    }
   ],
   "source": [
    "quakes_data.duplicated().any()"
   ]
  },
  {
   "cell_type": "markdown",
   "id": "b7bb0ad1",
   "metadata": {},
   "source": [
    "There are no duplicate values in our set so we can proceed to the next step.\n",
    "\n",
    "Let's add now 2 more columns to the dataset: 'Year' and 'Month'. These 2 columns will enable us to later group our information and get more insights from it."
   ]
  },
  {
   "cell_type": "code",
   "execution_count": 7,
   "id": "93755b01",
   "metadata": {},
   "outputs": [
    {
     "name": "stdout",
     "output_type": "stream",
     "text": [
      "<class 'pandas.core.frame.DataFrame'>\n",
      "RangeIndex: 39948 entries, 0 to 39947\n",
      "Data columns (total 10 columns):\n",
      " #   Column              Non-Null Count  Dtype         \n",
      "---  ------              --------------  -----         \n",
      " 0   Date                39948 non-null  datetime64[ns]\n",
      " 1   Time                39948 non-null  object        \n",
      " 2   Magnitude           39948 non-null  float64       \n",
      " 3   Latitude            39948 non-null  float64       \n",
      " 4   Longitude           39948 non-null  float64       \n",
      " 5   Depth               39948 non-null  float64       \n",
      " 6   Location reference  39948 non-null  object        \n",
      " 7   State               39948 non-null  object        \n",
      " 8   Year                39948 non-null  period[A-DEC] \n",
      " 9   Month               39948 non-null  period[M]     \n",
      "dtypes: datetime64[ns](1), float64(4), object(3), period[A-DEC](1), period[M](1)\n",
      "memory usage: 3.0+ MB\n"
     ]
    }
   ],
   "source": [
    "quakes_data['Date'] = pd.to_datetime(quakes_data.Date)\n",
    "quakes_data['Year'] = quakes_data['Date'].dt.to_period('Y')\n",
    "quakes_data['Month'] = quakes_data['Date'].dt.to_period('M')\n",
    "quakes_data.info()"
   ]
  },
  {
   "cell_type": "code",
   "execution_count": 8,
   "id": "c0f41305",
   "metadata": {},
   "outputs": [
    {
     "data": {
      "text/html": [
       "<div>\n",
       "<style scoped>\n",
       "    .dataframe tbody tr th:only-of-type {\n",
       "        vertical-align: middle;\n",
       "    }\n",
       "\n",
       "    .dataframe tbody tr th {\n",
       "        vertical-align: top;\n",
       "    }\n",
       "\n",
       "    .dataframe thead th {\n",
       "        text-align: right;\n",
       "    }\n",
       "</style>\n",
       "<table border=\"1\" class=\"dataframe\">\n",
       "  <thead>\n",
       "    <tr style=\"text-align: right;\">\n",
       "      <th></th>\n",
       "      <th>Date</th>\n",
       "      <th>Time</th>\n",
       "      <th>Magnitude</th>\n",
       "      <th>Latitude</th>\n",
       "      <th>Longitude</th>\n",
       "      <th>Depth</th>\n",
       "      <th>Location reference</th>\n",
       "      <th>State</th>\n",
       "      <th>Year</th>\n",
       "      <th>Month</th>\n",
       "    </tr>\n",
       "  </thead>\n",
       "  <tbody>\n",
       "    <tr>\n",
       "      <th>0</th>\n",
       "      <td>1970-02-03</td>\n",
       "      <td>23:08:50</td>\n",
       "      <td>6.6</td>\n",
       "      <td>15.524</td>\n",
       "      <td>-99.493</td>\n",
       "      <td>21.0</td>\n",
       "      <td>141 km al SUR de SAN MARCOS, GRO</td>\n",
       "      <td>GRO</td>\n",
       "      <td>1970</td>\n",
       "      <td>1970-02</td>\n",
       "    </tr>\n",
       "    <tr>\n",
       "      <th>1</th>\n",
       "      <td>1970-04-29</td>\n",
       "      <td>8:01:34</td>\n",
       "      <td>7.3</td>\n",
       "      <td>14.463</td>\n",
       "      <td>-92.683</td>\n",
       "      <td>44.0</td>\n",
       "      <td>62 km al SUROESTE de CD HIDALGO, CHIS</td>\n",
       "      <td>CHIS</td>\n",
       "      <td>1970</td>\n",
       "      <td>1970-04</td>\n",
       "    </tr>\n",
       "    <tr>\n",
       "      <th>2</th>\n",
       "      <td>1970-04-30</td>\n",
       "      <td>2:32:58</td>\n",
       "      <td>6.5</td>\n",
       "      <td>14.608</td>\n",
       "      <td>-93.260</td>\n",
       "      <td>22.0</td>\n",
       "      <td>100 km al SUROESTE de MAPASTEPEC, CHIS</td>\n",
       "      <td>CHIS</td>\n",
       "      <td>1970</td>\n",
       "      <td>1970-04</td>\n",
       "    </tr>\n",
       "    <tr>\n",
       "      <th>3</th>\n",
       "      <td>1971-09-30</td>\n",
       "      <td>2:18:00</td>\n",
       "      <td>6.5</td>\n",
       "      <td>26.880</td>\n",
       "      <td>-110.800</td>\n",
       "      <td>14.0</td>\n",
       "      <td>92 km al SUROESTE de PUEBLO YAQUI, SON</td>\n",
       "      <td>SON</td>\n",
       "      <td>1971</td>\n",
       "      <td>1971-09</td>\n",
       "    </tr>\n",
       "    <tr>\n",
       "      <th>4</th>\n",
       "      <td>1972-10-20</td>\n",
       "      <td>2:17:46</td>\n",
       "      <td>6.6</td>\n",
       "      <td>18.700</td>\n",
       "      <td>-106.756</td>\n",
       "      <td>10.0</td>\n",
       "      <td>238 km al OESTE de CIHUATLAN, JAL</td>\n",
       "      <td>JAL</td>\n",
       "      <td>1972</td>\n",
       "      <td>1972-10</td>\n",
       "    </tr>\n",
       "  </tbody>\n",
       "</table>\n",
       "</div>"
      ],
      "text/plain": [
       "        Date      Time  Magnitude  Latitude  Longitude  Depth  \\\n",
       "0 1970-02-03  23:08:50        6.6    15.524    -99.493   21.0   \n",
       "1 1970-04-29   8:01:34        7.3    14.463    -92.683   44.0   \n",
       "2 1970-04-30   2:32:58        6.5    14.608    -93.260   22.0   \n",
       "3 1971-09-30   2:18:00        6.5    26.880   -110.800   14.0   \n",
       "4 1972-10-20   2:17:46        6.6    18.700   -106.756   10.0   \n",
       "\n",
       "                       Location reference State  Year    Month  \n",
       "0        141 km al SUR de SAN MARCOS, GRO   GRO  1970  1970-02  \n",
       "1   62 km al SUROESTE de CD HIDALGO, CHIS  CHIS  1970  1970-04  \n",
       "2  100 km al SUROESTE de MAPASTEPEC, CHIS  CHIS  1970  1970-04  \n",
       "3  92 km al SUROESTE de PUEBLO YAQUI, SON   SON  1971  1971-09  \n",
       "4       238 km al OESTE de CIHUATLAN, JAL   JAL  1972  1972-10  "
      ]
     },
     "execution_count": 8,
     "metadata": {},
     "output_type": "execute_result"
    }
   ],
   "source": [
    "quakes_data.head()"
   ]
  },
  {
   "cell_type": "markdown",
   "id": "2c2b6aa7",
   "metadata": {},
   "source": [
    "Now let's get some information on which locations (States) are the ones with more events in history (since 1970)."
   ]
  },
  {
   "cell_type": "code",
   "execution_count": 9,
   "id": "c724a0ea",
   "metadata": {},
   "outputs": [
    {
     "data": {
      "image/png": "[encoded data removed]",
      "text/plain": [
       "<Figure size 576x576 with 1 Axes>"
      ]
     },
     "metadata": {
      "needs_background": "light"
     },
     "output_type": "display_data"
    }
   ],
   "source": [
    "quakes_data.groupby('State')[['State']].value_counts().sort_values(ascending=False).plot(kind='barh', figsize=(8, 8), title='No. of earthquakes by State since 1970')\n",
    "plt.xlabel('No. of events');"
   ]
  },
  {
   "cell_type": "markdown",
   "id": "ce69486e",
   "metadata": {},
   "source": [
    "Clearly the states of Oaxaca, Chiapas and Guerrero are the ones with more seismic activity in the mexican territory.\n",
    "This is no surprise since they are located in the Pacific coast on top of the Cocos and Rivera plates.\n",
    "\n",
    "Now, we do a similar plot but this time to check the number of events by year."
   ]
  },
  {
   "cell_type": "code",
   "execution_count": 10,
   "id": "4e49ab8a",
   "metadata": {},
   "outputs": [
    {
     "data": {
      "image/png": "[encoded data removed]",
      "text/plain": [
       "<Figure size 864x576 with 1 Axes>"
      ]
     },
     "metadata": {
      "needs_background": "light"
     },
     "output_type": "display_data"
    }
   ],
   "source": [
    "quakes_data.groupby('Year')[['Year']].value_counts().plot(kind='bar', figsize=(12, 8), title='No. of earthquakes by Year since 1970')\n",
    "plt.ylabel('No. of events');"
   ]
  },
  {
   "cell_type": "markdown",
   "id": "773a9424",
   "metadata": {},
   "source": [
    "In this case, we see that since 2017, the number of registered earthquakes have increased considerably. But this may be due to a change in recording method, or technology improvement or any other unrelated reason to a real increase in the number of events. For now, we will leave this information as it is.\n",
    "\n",
    "As a next step, let's check the distribution of the Magnitude of the events by State."
   ]
  },
  {
   "cell_type": "code",
   "execution_count": 11,
   "id": "1de8801b",
   "metadata": {},
   "outputs": [
    {
     "data": {
      "image/png": "[encoded data removed]",
      "text/plain": [
       "<Figure size 864x576 with 1 Axes>"
      ]
     },
     "metadata": {
      "needs_background": "light"
     },
     "output_type": "display_data"
    }
   ],
   "source": [
    "plt.subplots(figsize=(12, 8))\n",
    "sns.boxplot(x='State', y='Magnitude', data=quakes_data)\n",
    "plt.xticks(rotation='vertical')\n",
    "plt.title('Earthquakes Magnitude Distribution by State')\n",
    "plt.ylabel('Earthquake magnitude')\n",
    "plt.xlabel('State');"
   ]
  },
  {
   "cell_type": "markdown",
   "id": "bed26475",
   "metadata": {},
   "source": [
    "Here we can confirm again that most of the states located in the Pacific coast are the ones that have the most events with higher Magnitude. It may be good idea to analyze these states more in detail during the Exploratory Analysis.\n",
    "\n",
    "Now we make a summary table grouped by state and showing the different magnitude values of the events in separate columns."
   ]
  },
  {
   "cell_type": "code",
   "execution_count": 12,
   "id": "a73285bd",
   "metadata": {},
   "outputs": [
    {
     "data": {
      "text/html": [
       "<div>\n",
       "<style scoped>\n",
       "    .dataframe tbody tr th:only-of-type {\n",
       "        vertical-align: middle;\n",
       "    }\n",
       "\n",
       "    .dataframe tbody tr th {\n",
       "        vertical-align: top;\n",
       "    }\n",
       "\n",
       "    .dataframe thead th {\n",
       "        text-align: right;\n",
       "    }\n",
       "</style>\n",
       "<table border=\"1\" class=\"dataframe\">\n",
       "  <thead>\n",
       "    <tr style=\"text-align: right;\">\n",
       "      <th></th>\n",
       "      <th>State</th>\n",
       "      <th>Total_events</th>\n",
       "      <th>M4_to_M5</th>\n",
       "      <th>M5_to_M6</th>\n",
       "      <th>Higher_than_M6</th>\n",
       "    </tr>\n",
       "  </thead>\n",
       "  <tbody>\n",
       "    <tr>\n",
       "      <th>0</th>\n",
       "      <td>BC</td>\n",
       "      <td>972</td>\n",
       "      <td>917</td>\n",
       "      <td>50</td>\n",
       "      <td>5</td>\n",
       "    </tr>\n",
       "    <tr>\n",
       "      <th>1</th>\n",
       "      <td>BCS</td>\n",
       "      <td>994</td>\n",
       "      <td>867</td>\n",
       "      <td>110</td>\n",
       "      <td>17</td>\n",
       "    </tr>\n",
       "    <tr>\n",
       "      <th>2</th>\n",
       "      <td>CAMP</td>\n",
       "      <td>10</td>\n",
       "      <td>10</td>\n",
       "      <td>0</td>\n",
       "      <td>0</td>\n",
       "    </tr>\n",
       "    <tr>\n",
       "      <th>3</th>\n",
       "      <td>CDMX</td>\n",
       "      <td>1</td>\n",
       "      <td>1</td>\n",
       "      <td>0</td>\n",
       "      <td>0</td>\n",
       "    </tr>\n",
       "    <tr>\n",
       "      <th>4</th>\n",
       "      <td>CHIH</td>\n",
       "      <td>186</td>\n",
       "      <td>185</td>\n",
       "      <td>1</td>\n",
       "      <td>0</td>\n",
       "    </tr>\n",
       "  </tbody>\n",
       "</table>\n",
       "</div>"
      ],
      "text/plain": [
       "  State  Total_events  M4_to_M5  M5_to_M6  Higher_than_M6\n",
       "0    BC           972       917        50               5\n",
       "1   BCS           994       867       110              17\n",
       "2  CAMP            10        10         0               0\n",
       "3  CDMX             1         1         0               0\n",
       "4  CHIH           186       185         1               0"
      ]
     },
     "execution_count": 12,
     "metadata": {},
     "output_type": "execute_result"
    }
   ],
   "source": [
    "summary_st_mag = quakes_data.groupby(by='State')['Date'].count().to_frame()\n",
    "summary_st_mag.rename(columns={'Date':'Total_events'}, inplace=True)\n",
    "summary_st_mag['M4_to_M5']=quakes_data.groupby(by='State')['Magnitude'].apply(lambda x: ((x>=4.0)& (x<5.0)).sum())\n",
    "summary_st_mag['M5_to_M6']=quakes_data.groupby(by='State')['Magnitude'].apply(lambda x: ((x>=5.0)& (x<6.0)).sum())\n",
    "summary_st_mag['Higher_than_M6']=quakes_data.groupby(by='State')['Magnitude'].apply(lambda x: (x>=6.0).sum())\n",
    "summary_st_mag.reset_index().head()"
   ]
  },
  {
   "cell_type": "markdown",
   "id": "c7626407",
   "metadata": {},
   "source": [
    "Also, we make a summary table grouped by Month and showing the average and max magnitudes for the respective month."
   ]
  },
  {
   "cell_type": "code",
   "execution_count": 13,
   "id": "51782e79",
   "metadata": {},
   "outputs": [
    {
     "data": {
      "text/html": [
       "<div>\n",
       "<style scoped>\n",
       "    .dataframe tbody tr th:only-of-type {\n",
       "        vertical-align: middle;\n",
       "    }\n",
       "\n",
       "    .dataframe tbody tr th {\n",
       "        vertical-align: top;\n",
       "    }\n",
       "\n",
       "    .dataframe thead th {\n",
       "        text-align: right;\n",
       "    }\n",
       "</style>\n",
       "<table border=\"1\" class=\"dataframe\">\n",
       "  <thead>\n",
       "    <tr style=\"text-align: right;\">\n",
       "      <th></th>\n",
       "      <th>Month</th>\n",
       "      <th>Total_events</th>\n",
       "      <th>Avg_Magnitude</th>\n",
       "      <th>Max_Magnitude</th>\n",
       "    </tr>\n",
       "  </thead>\n",
       "  <tbody>\n",
       "    <tr>\n",
       "      <th>0</th>\n",
       "      <td>1970-02</td>\n",
       "      <td>1</td>\n",
       "      <td>6.6</td>\n",
       "      <td>6.6</td>\n",
       "    </tr>\n",
       "    <tr>\n",
       "      <th>1</th>\n",
       "      <td>1970-04</td>\n",
       "      <td>2</td>\n",
       "      <td>6.9</td>\n",
       "      <td>7.3</td>\n",
       "    </tr>\n",
       "    <tr>\n",
       "      <th>2</th>\n",
       "      <td>1971-09</td>\n",
       "      <td>1</td>\n",
       "      <td>6.5</td>\n",
       "      <td>6.5</td>\n",
       "    </tr>\n",
       "    <tr>\n",
       "      <th>3</th>\n",
       "      <td>1972-10</td>\n",
       "      <td>1</td>\n",
       "      <td>6.6</td>\n",
       "      <td>6.6</td>\n",
       "    </tr>\n",
       "    <tr>\n",
       "      <th>4</th>\n",
       "      <td>1972-11</td>\n",
       "      <td>1</td>\n",
       "      <td>6.5</td>\n",
       "      <td>6.5</td>\n",
       "    </tr>\n",
       "  </tbody>\n",
       "</table>\n",
       "</div>"
      ],
      "text/plain": [
       "     Month  Total_events  Avg_Magnitude  Max_Magnitude\n",
       "0  1970-02             1            6.6            6.6\n",
       "1  1970-04             2            6.9            7.3\n",
       "2  1971-09             1            6.5            6.5\n",
       "3  1972-10             1            6.6            6.6\n",
       "4  1972-11             1            6.5            6.5"
      ]
     },
     "execution_count": 13,
     "metadata": {},
     "output_type": "execute_result"
    }
   ],
   "source": [
    "summary_mth_mag = quakes_data.groupby(by='Month')['Date'].count().to_frame()\n",
    "summary_mth_mag.rename(columns={'Date':'Total_events'}, inplace=True)\n",
    "summary_mth_mag['Avg_Magnitude'] = quakes_data.groupby(by='Month')[['Magnitude']].mean()\n",
    "summary_mth_mag['Max_Magnitude'] = quakes_data.groupby(by='Month')[['Magnitude']].max()\n",
    "summary_mth_mag.reset_index().head()"
   ]
  },
  {
   "cell_type": "markdown",
   "id": "3f0f5678",
   "metadata": {},
   "source": [
    "Finally, we have 3 tables with the information we need to proceed into the next step.\n",
    "We just need to save the sets we created."
   ]
  },
  {
   "cell_type": "code",
   "execution_count": 14,
   "id": "7ad63090",
   "metadata": {},
   "outputs": [],
   "source": [
    "#Save the quakes_data set\n",
    "datapath = '/Users/apple/Desktop/Data Science/Springboard Career Track/Section 7/Capstone Project Docs/derived_data/'\n",
    "quakes_data.to_csv(datapath+'quakes_data_cleaned.csv')"
   ]
  },
  {
   "cell_type": "code",
   "execution_count": 15,
   "id": "f9bd45a3",
   "metadata": {},
   "outputs": [],
   "source": [
    "#Save the summary_st_mag set\n",
    "datapath = '/Users/apple/Desktop/Data Science/Springboard Career Track/Section 7/Capstone Project Docs/derived_data/'\n",
    "summary_st_mag.to_csv(datapath+'summary_st_mag.csv')"
   ]
  },
  {
   "cell_type": "code",
   "execution_count": 16,
   "id": "43ec5371",
   "metadata": {},
   "outputs": [],
   "source": [
    "#Save the summary_mth_mag set\n",
    "datapath = '/Users/apple/Desktop/Data Science/Springboard Career Track/Section 7/Capstone Project Docs/derived_data/'\n",
    "summary_mth_mag.to_csv(datapath+'summary_mth_mag.csv')"
   ]
  }
 ],
 "metadata": {
  "kernelspec": {
   "display_name": "Python 3 (ipykernel)",
   "language": "python",
   "name": "python3"
  },
  "language_info": {
   "codemirror_mode": {
    "name": "ipython",
    "version": 3
   },
   "file_extension": ".py",
   "mimetype": "text/x-python",
   "name": "python",
   "nbconvert_exporter": "python",
   "pygments_lexer": "ipython3",
   "version": "3.8.8"
  }
 },
 "nbformat": 4,
 "nbformat_minor": 5
}
