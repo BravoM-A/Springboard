{
 "cells": [
  {
   "cell_type": "markdown",
   "id": "04d632c7",
   "metadata": {},
   "source": [
    "# Earthquake predictions in Mexico (Data Wrangling)"
   ]
  },
  {
   "cell_type": "markdown",
   "id": "157a78c2",
   "metadata": {},
   "source": [
    "In the last 40 years, Mexico has suffered 137 earthquakes with a magnitude of M6.0 or higher.\n",
    "\n",
    "In 1985, with a magnitude of M8.1, one of the biggest earthquakes inside Mexican territory happened in Michoacan state and had a very big impact in Mexico city. This event accounted for more than 10,000 deaths and 30,000+ injured. Additionally, 3,000+ buildings were demolished and 100,000 more were damaged. Since then, billions of pesos have been lost and thousands of people have suffered the impact of the different earthquakes that have occurred mainly in the south and the Pacific coast (i.e. Guerrero and Oaxaca states) as well as the  center (i.e. Mexico city) areas. Coincidentally, in 2017, exactly 32 years after the event in 1985; on the same date, another earthquake of magnitude M7.1 hit Mexico city, leaving a total of 370 deaths and more than 6,000 people injured.\n",
    "\n",
    "Due to the recurring events, the need to try to anticipate these disasters, as well as being better prepared for them, an improved response program should be developed. An early alert system based on event predictions should be part of this program. This is why we will attempt to create a reliable model utilizing the information that we have available. Our goal will be to try to estimate the time until the next big earthquake (time-to-event).\n",
    "\n",
    "As a start, a dataset containing almost 40,000 earthquake observations from 1970 to 2022 was obtained from UNAM university data collection in Mexico (http://www2.ssn.unam.mx:8080/catalogo/).\n",
    "\n",
    "In this step of the process, we will review the dataset that we have available."
   ]
  },
  {
   "cell_type": "code",
   "execution_count": 1,
   "id": "49bd0d1d",
   "metadata": {},
   "outputs": [],
   "source": [
    "#First, we import the necessary libraries\n",
    "import pandas as pd\n",
    "import matplotlib.pyplot as plt\n",
    "import seaborn as sns\n",
    "import os\n",
    "import numpy as np\n",
    "\n",
    "from library.sb_utils import save_file"
   ]
  },
  {
   "cell_type": "code",
   "execution_count": 2,
   "id": "9a113716",
   "metadata": {},
   "outputs": [
    {
     "data": {
      "text/html": [
       "<div>\n",
       "<style scoped>\n",
       "    .dataframe tbody tr th:only-of-type {\n",
       "        vertical-align: middle;\n",
       "    }\n",
       "\n",
       "    .dataframe tbody tr th {\n",
       "        vertical-align: top;\n",
       "    }\n",
       "\n",
       "    .dataframe thead th {\n",
       "        text-align: right;\n",
       "    }\n",
       "</style>\n",
       "<table border=\"1\" class=\"dataframe\">\n",
       "  <thead>\n",
       "    <tr style=\"text-align: right;\">\n",
       "      <th></th>\n",
       "      <th>Date</th>\n",
       "      <th>Time</th>\n",
       "      <th>Magnitude</th>\n",
       "      <th>Latitude</th>\n",
       "      <th>Longitude</th>\n",
       "      <th>Depth</th>\n",
       "      <th>Location reference</th>\n",
       "      <th>Date UTC</th>\n",
       "      <th>Time UTC</th>\n",
       "      <th>Status</th>\n",
       "      <th>State</th>\n",
       "    </tr>\n",
       "  </thead>\n",
       "  <tbody>\n",
       "    <tr>\n",
       "      <th>0</th>\n",
       "      <td>1970/02/03</td>\n",
       "      <td>23:08:50</td>\n",
       "      <td>6.6</td>\n",
       "      <td>15.524</td>\n",
       "      <td>-99.493</td>\n",
       "      <td>21.0</td>\n",
       "      <td>141 km al SUR de SAN MARCOS, GRO</td>\n",
       "      <td>1970/02/04</td>\n",
       "      <td>5:08:50</td>\n",
       "      <td>revisado</td>\n",
       "      <td>GRO</td>\n",
       "    </tr>\n",
       "    <tr>\n",
       "      <th>1</th>\n",
       "      <td>1970/04/29</td>\n",
       "      <td>8:01:34</td>\n",
       "      <td>7.3</td>\n",
       "      <td>14.463</td>\n",
       "      <td>-92.683</td>\n",
       "      <td>44.0</td>\n",
       "      <td>62 km al SUROESTE de CD HIDALGO, CHIS</td>\n",
       "      <td>1970/04/29</td>\n",
       "      <td>14:01:34</td>\n",
       "      <td>revisado</td>\n",
       "      <td>CHIS</td>\n",
       "    </tr>\n",
       "    <tr>\n",
       "      <th>2</th>\n",
       "      <td>1970/04/30</td>\n",
       "      <td>2:32:58</td>\n",
       "      <td>6.5</td>\n",
       "      <td>14.608</td>\n",
       "      <td>-93.260</td>\n",
       "      <td>22.0</td>\n",
       "      <td>100 km al SUROESTE de MAPASTEPEC, CHIS</td>\n",
       "      <td>1970/04/30</td>\n",
       "      <td>8:32:58</td>\n",
       "      <td>revisado</td>\n",
       "      <td>CHIS</td>\n",
       "    </tr>\n",
       "    <tr>\n",
       "      <th>3</th>\n",
       "      <td>1971/09/30</td>\n",
       "      <td>2:18:00</td>\n",
       "      <td>6.5</td>\n",
       "      <td>26.880</td>\n",
       "      <td>-110.800</td>\n",
       "      <td>14.0</td>\n",
       "      <td>92 km al SUROESTE de PUEBLO YAQUI, SON</td>\n",
       "      <td>1971/09/30</td>\n",
       "      <td>8:18:00</td>\n",
       "      <td>revisado</td>\n",
       "      <td>SON</td>\n",
       "    </tr>\n",
       "    <tr>\n",
       "      <th>4</th>\n",
       "      <td>1972/10/20</td>\n",
       "      <td>2:17:46</td>\n",
       "      <td>6.6</td>\n",
       "      <td>18.700</td>\n",
       "      <td>-106.756</td>\n",
       "      <td>10.0</td>\n",
       "      <td>238 km al OESTE de CIHUATLAN, JAL</td>\n",
       "      <td>1972/10/20</td>\n",
       "      <td>8:17:46</td>\n",
       "      <td>revisado</td>\n",
       "      <td>JAL</td>\n",
       "    </tr>\n",
       "  </tbody>\n",
       "</table>\n",
       "</div>"
      ],
      "text/plain": [
       "         Date      Time  Magnitude  Latitude  Longitude  Depth  \\\n",
       "0  1970/02/03  23:08:50        6.6    15.524    -99.493   21.0   \n",
       "1  1970/04/29   8:01:34        7.3    14.463    -92.683   44.0   \n",
       "2  1970/04/30   2:32:58        6.5    14.608    -93.260   22.0   \n",
       "3  1971/09/30   2:18:00        6.5    26.880   -110.800   14.0   \n",
       "4  1972/10/20   2:17:46        6.6    18.700   -106.756   10.0   \n",
       "\n",
       "                       Location reference    Date UTC  Time UTC    Status  \\\n",
       "0        141 km al SUR de SAN MARCOS, GRO  1970/02/04   5:08:50  revisado   \n",
       "1   62 km al SUROESTE de CD HIDALGO, CHIS  1970/04/29  14:01:34  revisado   \n",
       "2  100 km al SUROESTE de MAPASTEPEC, CHIS  1970/04/30   8:32:58  revisado   \n",
       "3  92 km al SUROESTE de PUEBLO YAQUI, SON  1971/09/30   8:18:00  revisado   \n",
       "4       238 km al OESTE de CIHUATLAN, JAL  1972/10/20   8:17:46  revisado   \n",
       "\n",
       "  State  \n",
       "0   GRO  \n",
       "1  CHIS  \n",
       "2  CHIS  \n",
       "3   SON  \n",
       "4   JAL  "
      ]
     },
     "execution_count": 2,
     "metadata": {},
     "output_type": "execute_result"
    }
   ],
   "source": [
    "quakes_data = pd.read_csv('../Dataset/SSNMX_catalogo_19700101_20220319_m40_99.csv')\n",
    "#We check the first few rows\n",
    "quakes_data.head()"
   ]
  },
  {
   "cell_type": "markdown",
   "id": "05f9cb6f",
   "metadata": {},
   "source": [
    "Now, we review that shape of our dataset and then we check if there are any missing values in any of the features."
   ]
  },
  {
   "cell_type": "code",
   "execution_count": 3,
   "id": "525d7ffc",
   "metadata": {},
   "outputs": [
    {
     "data": {
      "text/plain": [
       "(39948, 11)"
      ]
     },
     "execution_count": 3,
     "metadata": {},
     "output_type": "execute_result"
    }
   ],
   "source": [
    "quakes_data.shape"
   ]
  },
  {
   "cell_type": "code",
   "execution_count": 4,
   "id": "5a3e07b4",
   "metadata": {},
   "outputs": [
    {
     "name": "stdout",
     "output_type": "stream",
     "text": [
      "<class 'pandas.core.frame.DataFrame'>\n",
      "RangeIndex: 39948 entries, 0 to 39947\n",
      "Data columns (total 11 columns):\n",
      " #   Column              Non-Null Count  Dtype  \n",
      "---  ------              --------------  -----  \n",
      " 0   Date                39948 non-null  object \n",
      " 1   Time                39948 non-null  object \n",
      " 2   Magnitude           39948 non-null  float64\n",
      " 3   Latitude            39948 non-null  float64\n",
      " 4   Longitude           39948 non-null  float64\n",
      " 5   Depth               39948 non-null  float64\n",
      " 6   Location reference  39948 non-null  object \n",
      " 7   Date UTC            39948 non-null  object \n",
      " 8   Time UTC            39948 non-null  object \n",
      " 9   Status              39948 non-null  object \n",
      " 10  State               39948 non-null  object \n",
      "dtypes: float64(4), object(7)\n",
      "memory usage: 3.4+ MB\n"
     ]
    }
   ],
   "source": [
    "quakes_data.info()"
   ]
  },
  {
   "cell_type": "markdown",
   "id": "8ef0833a",
   "metadata": {},
   "source": [
    "It seems that we don't have any missing values (NaN values). Let's make sure that this is the case."
   ]
  },
  {
   "cell_type": "code",
   "execution_count": 5,
   "id": "3fd3231f",
   "metadata": {},
   "outputs": [
    {
     "data": {
      "text/plain": [
       "Date                  False\n",
       "Time                  False\n",
       "Magnitude             False\n",
       "Latitude              False\n",
       "Longitude             False\n",
       "Depth                 False\n",
       "Location reference    False\n",
       "Date UTC              False\n",
       "Time UTC              False\n",
       "Status                False\n",
       "State                 False\n",
       "dtype: bool"
      ]
     },
     "execution_count": 5,
     "metadata": {},
     "output_type": "execute_result"
    }
   ],
   "source": [
    "quakes_data.isnull().any()"
   ]
  },
  {
   "cell_type": "code",
   "execution_count": 6,
   "id": "44c041a6",
   "metadata": {},
   "outputs": [
    {
     "data": {
      "text/plain": [
       "Date                  False\n",
       "Time                  False\n",
       "Magnitude             False\n",
       "Latitude              False\n",
       "Longitude             False\n",
       "Depth                 False\n",
       "Location reference    False\n",
       "Date UTC              False\n",
       "Time UTC              False\n",
       "Status                False\n",
       "State                 False\n",
       "dtype: bool"
      ]
     },
     "execution_count": 6,
     "metadata": {},
     "output_type": "execute_result"
    }
   ],
   "source": [
    "quakes_data[(quakes_data.values == '')].any()"
   ]
  },
  {
   "cell_type": "markdown",
   "id": "c02e0bb3",
   "metadata": {},
   "source": [
    "We confirmed that in fact there are no missing values in our dataset."
   ]
  },
  {
   "cell_type": "markdown",
   "id": "302a7e32",
   "metadata": {},
   "source": [
    "We have a table of 39948 observations and 11 features. We have 4 features with a numerical value (Magnitude, Latitude, Longitude and Depth),\n",
    "and 7 other which are strings. At first glance, it seems that we could drop some features that do not add much valuable information to our\n",
    "purpose. Let's drop columns 'Date UTC' and 'Time UTC' and keep 'Date' and 'Time' since they have the same information but in Mexico's local time. Additionally, let's drop 'Status' column since it only indicates that the event was recorded."
   ]
  },
  {
   "cell_type": "code",
   "execution_count": 7,
   "id": "5a119080",
   "metadata": {},
   "outputs": [
    {
     "name": "stdout",
     "output_type": "stream",
     "text": [
      "<class 'pandas.core.frame.DataFrame'>\n",
      "RangeIndex: 39948 entries, 0 to 39947\n",
      "Data columns (total 8 columns):\n",
      " #   Column              Non-Null Count  Dtype  \n",
      "---  ------              --------------  -----  \n",
      " 0   Date                39948 non-null  object \n",
      " 1   Time                39948 non-null  object \n",
      " 2   Magnitude           39948 non-null  float64\n",
      " 3   Latitude            39948 non-null  float64\n",
      " 4   Longitude           39948 non-null  float64\n",
      " 5   Depth               39948 non-null  float64\n",
      " 6   Location reference  39948 non-null  object \n",
      " 7   State               39948 non-null  object \n",
      "dtypes: float64(4), object(4)\n",
      "memory usage: 2.4+ MB\n"
     ]
    }
   ],
   "source": [
    "quakes_data = quakes_data.drop(columns=['Date UTC', 'Time UTC', 'Status'])\n",
    "quakes_data.info()"
   ]
  },
  {
   "cell_type": "markdown",
   "id": "fb6d5488",
   "metadata": {},
   "source": [
    "Now we check the data to confirm if we have any duplicate values."
   ]
  },
  {
   "cell_type": "code",
   "execution_count": 8,
   "id": "3e07fdf3",
   "metadata": {},
   "outputs": [
    {
     "data": {
      "text/plain": [
       "False"
      ]
     },
     "execution_count": 8,
     "metadata": {},
     "output_type": "execute_result"
    }
   ],
   "source": [
    "quakes_data.duplicated().any()"
   ]
  },
  {
   "cell_type": "markdown",
   "id": "e05d98f3",
   "metadata": {},
   "source": [
    "At first glance, it seems that we don't have any duplicated values, but let's dig a little deeper to make sure of this.<br>\n",
    "We will create a new column in the dataset which contains Date and Time concatenated as a full datetime value. After that we will check again if there are no duplicates in this column."
   ]
  },
  {
   "cell_type": "code",
   "execution_count": 9,
   "id": "cb3bb2eb",
   "metadata": {},
   "outputs": [],
   "source": [
    "#Since both variables (Date and Time) are strings, we only apply the method pd.to_datetime()\n",
    "quakes_data['Date_Time'] = pd.to_datetime(quakes_data.Date + ' ' + quakes_data.Time)"
   ]
  },
  {
   "cell_type": "markdown",
   "id": "760ebb82",
   "metadata": {},
   "source": [
    "Let's check our dataframe with this new column and confirm if it is in the correct format."
   ]
  },
  {
   "cell_type": "code",
   "execution_count": 10,
   "id": "b784daa0",
   "metadata": {},
   "outputs": [
    {
     "data": {
      "text/html": [
       "<div>\n",
       "<style scoped>\n",
       "    .dataframe tbody tr th:only-of-type {\n",
       "        vertical-align: middle;\n",
       "    }\n",
       "\n",
       "    .dataframe tbody tr th {\n",
       "        vertical-align: top;\n",
       "    }\n",
       "\n",
       "    .dataframe thead th {\n",
       "        text-align: right;\n",
       "    }\n",
       "</style>\n",
       "<table border=\"1\" class=\"dataframe\">\n",
       "  <thead>\n",
       "    <tr style=\"text-align: right;\">\n",
       "      <th></th>\n",
       "      <th>Date</th>\n",
       "      <th>Time</th>\n",
       "      <th>Magnitude</th>\n",
       "      <th>Latitude</th>\n",
       "      <th>Longitude</th>\n",
       "      <th>Depth</th>\n",
       "      <th>Location reference</th>\n",
       "      <th>State</th>\n",
       "      <th>Date_Time</th>\n",
       "    </tr>\n",
       "  </thead>\n",
       "  <tbody>\n",
       "    <tr>\n",
       "      <th>0</th>\n",
       "      <td>1970/02/03</td>\n",
       "      <td>23:08:50</td>\n",
       "      <td>6.6</td>\n",
       "      <td>15.524</td>\n",
       "      <td>-99.493</td>\n",
       "      <td>21.0</td>\n",
       "      <td>141 km al SUR de SAN MARCOS, GRO</td>\n",
       "      <td>GRO</td>\n",
       "      <td>1970-02-03 23:08:50</td>\n",
       "    </tr>\n",
       "    <tr>\n",
       "      <th>1</th>\n",
       "      <td>1970/04/29</td>\n",
       "      <td>8:01:34</td>\n",
       "      <td>7.3</td>\n",
       "      <td>14.463</td>\n",
       "      <td>-92.683</td>\n",
       "      <td>44.0</td>\n",
       "      <td>62 km al SUROESTE de CD HIDALGO, CHIS</td>\n",
       "      <td>CHIS</td>\n",
       "      <td>1970-04-29 08:01:34</td>\n",
       "    </tr>\n",
       "    <tr>\n",
       "      <th>2</th>\n",
       "      <td>1970/04/30</td>\n",
       "      <td>2:32:58</td>\n",
       "      <td>6.5</td>\n",
       "      <td>14.608</td>\n",
       "      <td>-93.260</td>\n",
       "      <td>22.0</td>\n",
       "      <td>100 km al SUROESTE de MAPASTEPEC, CHIS</td>\n",
       "      <td>CHIS</td>\n",
       "      <td>1970-04-30 02:32:58</td>\n",
       "    </tr>\n",
       "    <tr>\n",
       "      <th>3</th>\n",
       "      <td>1971/09/30</td>\n",
       "      <td>2:18:00</td>\n",
       "      <td>6.5</td>\n",
       "      <td>26.880</td>\n",
       "      <td>-110.800</td>\n",
       "      <td>14.0</td>\n",
       "      <td>92 km al SUROESTE de PUEBLO YAQUI, SON</td>\n",
       "      <td>SON</td>\n",
       "      <td>1971-09-30 02:18:00</td>\n",
       "    </tr>\n",
       "    <tr>\n",
       "      <th>4</th>\n",
       "      <td>1972/10/20</td>\n",
       "      <td>2:17:46</td>\n",
       "      <td>6.6</td>\n",
       "      <td>18.700</td>\n",
       "      <td>-106.756</td>\n",
       "      <td>10.0</td>\n",
       "      <td>238 km al OESTE de CIHUATLAN, JAL</td>\n",
       "      <td>JAL</td>\n",
       "      <td>1972-10-20 02:17:46</td>\n",
       "    </tr>\n",
       "  </tbody>\n",
       "</table>\n",
       "</div>"
      ],
      "text/plain": [
       "         Date      Time  Magnitude  Latitude  Longitude  Depth  \\\n",
       "0  1970/02/03  23:08:50        6.6    15.524    -99.493   21.0   \n",
       "1  1970/04/29   8:01:34        7.3    14.463    -92.683   44.0   \n",
       "2  1970/04/30   2:32:58        6.5    14.608    -93.260   22.0   \n",
       "3  1971/09/30   2:18:00        6.5    26.880   -110.800   14.0   \n",
       "4  1972/10/20   2:17:46        6.6    18.700   -106.756   10.0   \n",
       "\n",
       "                       Location reference State           Date_Time  \n",
       "0        141 km al SUR de SAN MARCOS, GRO   GRO 1970-02-03 23:08:50  \n",
       "1   62 km al SUROESTE de CD HIDALGO, CHIS  CHIS 1970-04-29 08:01:34  \n",
       "2  100 km al SUROESTE de MAPASTEPEC, CHIS  CHIS 1970-04-30 02:32:58  \n",
       "3  92 km al SUROESTE de PUEBLO YAQUI, SON   SON 1971-09-30 02:18:00  \n",
       "4       238 km al OESTE de CIHUATLAN, JAL   JAL 1972-10-20 02:17:46  "
      ]
     },
     "execution_count": 10,
     "metadata": {},
     "output_type": "execute_result"
    }
   ],
   "source": [
    "quakes_data.head()"
   ]
  },
  {
   "cell_type": "code",
   "execution_count": 11,
   "id": "9b495fe4",
   "metadata": {},
   "outputs": [
    {
     "name": "stdout",
     "output_type": "stream",
     "text": [
      "<class 'pandas.core.frame.DataFrame'>\n",
      "RangeIndex: 39948 entries, 0 to 39947\n",
      "Data columns (total 9 columns):\n",
      " #   Column              Non-Null Count  Dtype         \n",
      "---  ------              --------------  -----         \n",
      " 0   Date                39948 non-null  object        \n",
      " 1   Time                39948 non-null  object        \n",
      " 2   Magnitude           39948 non-null  float64       \n",
      " 3   Latitude            39948 non-null  float64       \n",
      " 4   Longitude           39948 non-null  float64       \n",
      " 5   Depth               39948 non-null  float64       \n",
      " 6   Location reference  39948 non-null  object        \n",
      " 7   State               39948 non-null  object        \n",
      " 8   Date_Time           39948 non-null  datetime64[ns]\n",
      "dtypes: datetime64[ns](1), float64(4), object(4)\n",
      "memory usage: 2.7+ MB\n"
     ]
    }
   ],
   "source": [
    "quakes_data.info()"
   ]
  },
  {
   "cell_type": "code",
   "execution_count": 12,
   "id": "09cd820d",
   "metadata": {},
   "outputs": [
    {
     "data": {
      "text/plain": [
       "11"
      ]
     },
     "execution_count": 12,
     "metadata": {},
     "output_type": "execute_result"
    }
   ],
   "source": [
    "#Let's check if the new 'Date_Time' column has any duplicates\n",
    "quakes_data['Date_Time'].duplicated().sum()"
   ]
  },
  {
   "cell_type": "code",
   "execution_count": 13,
   "id": "ad4a73de",
   "metadata": {},
   "outputs": [
    {
     "data": {
      "text/html": [
       "<div>\n",
       "<style scoped>\n",
       "    .dataframe tbody tr th:only-of-type {\n",
       "        vertical-align: middle;\n",
       "    }\n",
       "\n",
       "    .dataframe tbody tr th {\n",
       "        vertical-align: top;\n",
       "    }\n",
       "\n",
       "    .dataframe thead th {\n",
       "        text-align: right;\n",
       "    }\n",
       "</style>\n",
       "<table border=\"1\" class=\"dataframe\">\n",
       "  <thead>\n",
       "    <tr style=\"text-align: right;\">\n",
       "      <th></th>\n",
       "      <th>Date</th>\n",
       "      <th>Time</th>\n",
       "      <th>Magnitude</th>\n",
       "      <th>Latitude</th>\n",
       "      <th>Longitude</th>\n",
       "      <th>Depth</th>\n",
       "      <th>Location reference</th>\n",
       "      <th>State</th>\n",
       "      <th>Date_Time</th>\n",
       "    </tr>\n",
       "  </thead>\n",
       "  <tbody>\n",
       "    <tr>\n",
       "      <th>5519</th>\n",
       "      <td>1994/12/22</td>\n",
       "      <td>4:38:20</td>\n",
       "      <td>4.3</td>\n",
       "      <td>16.6300</td>\n",
       "      <td>-99.9200</td>\n",
       "      <td>5.0</td>\n",
       "      <td>27 km al SUR de ACAPULCO, GRO</td>\n",
       "      <td>GRO</td>\n",
       "      <td>1994-12-22 04:38:20</td>\n",
       "    </tr>\n",
       "    <tr>\n",
       "      <th>6343</th>\n",
       "      <td>1996/07/04</td>\n",
       "      <td>6:42:20</td>\n",
       "      <td>4.6</td>\n",
       "      <td>16.2100</td>\n",
       "      <td>-97.7300</td>\n",
       "      <td>15.0</td>\n",
       "      <td>37 km al SURESTE de PINOTEPA NACIONAL, OAX</td>\n",
       "      <td>OAX</td>\n",
       "      <td>1996-07-04 06:42:20</td>\n",
       "    </tr>\n",
       "    <tr>\n",
       "      <th>6348</th>\n",
       "      <td>1996/07/07</td>\n",
       "      <td>1:47:31</td>\n",
       "      <td>4.5</td>\n",
       "      <td>16.1900</td>\n",
       "      <td>-99.5200</td>\n",
       "      <td>43.0</td>\n",
       "      <td>68 km al SUR de SAN MARCOS, GRO</td>\n",
       "      <td>GRO</td>\n",
       "      <td>1996-07-07 01:47:31</td>\n",
       "    </tr>\n",
       "    <tr>\n",
       "      <th>6350</th>\n",
       "      <td>1996/07/07</td>\n",
       "      <td>2:23:31</td>\n",
       "      <td>4.0</td>\n",
       "      <td>16.3000</td>\n",
       "      <td>-100.3100</td>\n",
       "      <td>33.0</td>\n",
       "      <td>77 km al SUROESTE de ACAPULCO, GRO</td>\n",
       "      <td>GRO</td>\n",
       "      <td>1996-07-07 02:23:31</td>\n",
       "    </tr>\n",
       "    <tr>\n",
       "      <th>6360</th>\n",
       "      <td>1996/07/11</td>\n",
       "      <td>2:46:17</td>\n",
       "      <td>4.4</td>\n",
       "      <td>15.7000</td>\n",
       "      <td>-96.6300</td>\n",
       "      <td>5.0</td>\n",
       "      <td>18 km al SUROESTE de S PEDRO POCHUTLA, OAX</td>\n",
       "      <td>OAX</td>\n",
       "      <td>1996-07-11 02:46:17</td>\n",
       "    </tr>\n",
       "    <tr>\n",
       "      <th>16587</th>\n",
       "      <td>2011/11/01</td>\n",
       "      <td>6:31:58</td>\n",
       "      <td>6.0</td>\n",
       "      <td>19.7400</td>\n",
       "      <td>-109.3100</td>\n",
       "      <td>15.0</td>\n",
       "      <td>354 km al SUR de CABO SAN LUCAS, BCS</td>\n",
       "      <td>BCS</td>\n",
       "      <td>2011-11-01 06:31:58</td>\n",
       "    </tr>\n",
       "    <tr>\n",
       "      <th>20145</th>\n",
       "      <td>2015/03/10</td>\n",
       "      <td>21:56:46</td>\n",
       "      <td>4.0</td>\n",
       "      <td>25.8563</td>\n",
       "      <td>-110.2520</td>\n",
       "      <td>10.0</td>\n",
       "      <td>108 km al OESTE de AHOME, SIN</td>\n",
       "      <td>SIN</td>\n",
       "      <td>2015-03-10 21:56:46</td>\n",
       "    </tr>\n",
       "    <tr>\n",
       "      <th>21334</th>\n",
       "      <td>2015/11/19</td>\n",
       "      <td>7:24:06</td>\n",
       "      <td>4.2</td>\n",
       "      <td>15.1553</td>\n",
       "      <td>-94.5492</td>\n",
       "      <td>17.8</td>\n",
       "      <td>133 km al SURESTE de SALINA CRUZ, OAX</td>\n",
       "      <td>OAX</td>\n",
       "      <td>2015-11-19 07:24:06</td>\n",
       "    </tr>\n",
       "    <tr>\n",
       "      <th>39120</th>\n",
       "      <td>2021/11/26</td>\n",
       "      <td>3:45:11</td>\n",
       "      <td>4.0</td>\n",
       "      <td>18.2000</td>\n",
       "      <td>-100.4700</td>\n",
       "      <td>49.0</td>\n",
       "      <td>23 km al SUROESTE de ARCELIA, GRO</td>\n",
       "      <td>GRO</td>\n",
       "      <td>2021-11-26 03:45:11</td>\n",
       "    </tr>\n",
       "    <tr>\n",
       "      <th>39122</th>\n",
       "      <td>2021/11/26</td>\n",
       "      <td>3:51:02</td>\n",
       "      <td>4.0</td>\n",
       "      <td>17.2100</td>\n",
       "      <td>-100.9300</td>\n",
       "      <td>31.0</td>\n",
       "      <td>32 km al OESTE de TECPAN, GRO</td>\n",
       "      <td>GRO</td>\n",
       "      <td>2021-11-26 03:51:02</td>\n",
       "    </tr>\n",
       "    <tr>\n",
       "      <th>39616</th>\n",
       "      <td>2022/01/24</td>\n",
       "      <td>13:43:12</td>\n",
       "      <td>4.0</td>\n",
       "      <td>16.6000</td>\n",
       "      <td>-94.4600</td>\n",
       "      <td>103.0</td>\n",
       "      <td>42 km al NORESTE de UNION HIDALGO, OAX</td>\n",
       "      <td>OAX</td>\n",
       "      <td>2022-01-24 13:43:12</td>\n",
       "    </tr>\n",
       "  </tbody>\n",
       "</table>\n",
       "</div>"
      ],
      "text/plain": [
       "             Date      Time  Magnitude  Latitude  Longitude  Depth  \\\n",
       "5519   1994/12/22   4:38:20        4.3   16.6300   -99.9200    5.0   \n",
       "6343   1996/07/04   6:42:20        4.6   16.2100   -97.7300   15.0   \n",
       "6348   1996/07/07   1:47:31        4.5   16.1900   -99.5200   43.0   \n",
       "6350   1996/07/07   2:23:31        4.0   16.3000  -100.3100   33.0   \n",
       "6360   1996/07/11   2:46:17        4.4   15.7000   -96.6300    5.0   \n",
       "16587  2011/11/01   6:31:58        6.0   19.7400  -109.3100   15.0   \n",
       "20145  2015/03/10  21:56:46        4.0   25.8563  -110.2520   10.0   \n",
       "21334  2015/11/19   7:24:06        4.2   15.1553   -94.5492   17.8   \n",
       "39120  2021/11/26   3:45:11        4.0   18.2000  -100.4700   49.0   \n",
       "39122  2021/11/26   3:51:02        4.0   17.2100  -100.9300   31.0   \n",
       "39616  2022/01/24  13:43:12        4.0   16.6000   -94.4600  103.0   \n",
       "\n",
       "                               Location reference State           Date_Time  \n",
       "5519                27 km al SUR de ACAPULCO, GRO   GRO 1994-12-22 04:38:20  \n",
       "6343   37 km al SURESTE de PINOTEPA NACIONAL, OAX   OAX 1996-07-04 06:42:20  \n",
       "6348              68 km al SUR de SAN MARCOS, GRO   GRO 1996-07-07 01:47:31  \n",
       "6350           77 km al SUROESTE de ACAPULCO, GRO   GRO 1996-07-07 02:23:31  \n",
       "6360   18 km al SUROESTE de S PEDRO POCHUTLA, OAX   OAX 1996-07-11 02:46:17  \n",
       "16587        354 km al SUR de CABO SAN LUCAS, BCS   BCS 2011-11-01 06:31:58  \n",
       "20145               108 km al OESTE de AHOME, SIN   SIN 2015-03-10 21:56:46  \n",
       "21334       133 km al SURESTE de SALINA CRUZ, OAX   OAX 2015-11-19 07:24:06  \n",
       "39120          23 km al SUROESTE de ARCELIA, GRO    GRO 2021-11-26 03:45:11  \n",
       "39122              32 km al OESTE de TECPAN, GRO    GRO 2021-11-26 03:51:02  \n",
       "39616     42 km al NORESTE de UNION HIDALGO, OAX    OAX 2022-01-24 13:43:12  "
      ]
     },
     "execution_count": 13,
     "metadata": {},
     "output_type": "execute_result"
    }
   ],
   "source": [
    "quakes_data[quakes_data['Date_Time'].duplicated()]"
   ]
  },
  {
   "cell_type": "code",
   "execution_count": 14,
   "id": "b8f2ea1e",
   "metadata": {},
   "outputs": [
    {
     "data": {
      "text/html": [
       "<div>\n",
       "<style scoped>\n",
       "    .dataframe tbody tr th:only-of-type {\n",
       "        vertical-align: middle;\n",
       "    }\n",
       "\n",
       "    .dataframe tbody tr th {\n",
       "        vertical-align: top;\n",
       "    }\n",
       "\n",
       "    .dataframe thead th {\n",
       "        text-align: right;\n",
       "    }\n",
       "</style>\n",
       "<table border=\"1\" class=\"dataframe\">\n",
       "  <thead>\n",
       "    <tr style=\"text-align: right;\">\n",
       "      <th></th>\n",
       "      <th>Date</th>\n",
       "      <th>Time</th>\n",
       "      <th>Magnitude</th>\n",
       "      <th>Latitude</th>\n",
       "      <th>Longitude</th>\n",
       "      <th>Depth</th>\n",
       "      <th>Location reference</th>\n",
       "      <th>State</th>\n",
       "      <th>Date_Time</th>\n",
       "    </tr>\n",
       "  </thead>\n",
       "  <tbody>\n",
       "    <tr>\n",
       "      <th>16586</th>\n",
       "      <td>2011/11/01</td>\n",
       "      <td>6:31:58</td>\n",
       "      <td>6.0</td>\n",
       "      <td>19.73</td>\n",
       "      <td>-109.30</td>\n",
       "      <td>16.0</td>\n",
       "      <td>355 km al SUR de CABO SAN LUCAS, BCS</td>\n",
       "      <td>BCS</td>\n",
       "      <td>2011-11-01 06:31:58</td>\n",
       "    </tr>\n",
       "    <tr>\n",
       "      <th>16587</th>\n",
       "      <td>2011/11/01</td>\n",
       "      <td>6:31:58</td>\n",
       "      <td>6.0</td>\n",
       "      <td>19.74</td>\n",
       "      <td>-109.31</td>\n",
       "      <td>15.0</td>\n",
       "      <td>354 km al SUR de CABO SAN LUCAS, BCS</td>\n",
       "      <td>BCS</td>\n",
       "      <td>2011-11-01 06:31:58</td>\n",
       "    </tr>\n",
       "  </tbody>\n",
       "</table>\n",
       "</div>"
      ],
      "text/plain": [
       "             Date     Time  Magnitude  Latitude  Longitude  Depth  \\\n",
       "16586  2011/11/01  6:31:58        6.0     19.73    -109.30   16.0   \n",
       "16587  2011/11/01  6:31:58        6.0     19.74    -109.31   15.0   \n",
       "\n",
       "                         Location reference State           Date_Time  \n",
       "16586  355 km al SUR de CABO SAN LUCAS, BCS   BCS 2011-11-01 06:31:58  \n",
       "16587  354 km al SUR de CABO SAN LUCAS, BCS   BCS 2011-11-01 06:31:58  "
      ]
     },
     "execution_count": 14,
     "metadata": {},
     "output_type": "execute_result"
    }
   ],
   "source": [
    "quakes_data[quakes_data['Date_Time'] == '2011-11-01 06:31:58']"
   ]
  },
  {
   "cell_type": "markdown",
   "id": "ab7a4d91",
   "metadata": {},
   "source": [
    "Just as we thought, we had some rows duplicated in date and time. The reason why we couldn't identify them when using the duplicated() method in the entire dataframe is because, as we can see in the example above, the date and time values are the same, but the values in other columns are a little different.\n",
    "Now that we are confident that we found all the duplicates, let's drop them."
   ]
  },
  {
   "cell_type": "code",
   "execution_count": 15,
   "id": "01d9272b",
   "metadata": {},
   "outputs": [],
   "source": [
    "quakes_data.drop_duplicates(subset='Date_Time', inplace=True)"
   ]
  },
  {
   "cell_type": "markdown",
   "id": "1d7fe4eb",
   "metadata": {},
   "source": [
    "There are no duplicate values in our set so we can proceed to the next step.\n",
    "\n",
    "Let's add now 3 more columns to the dataset: 'Year', 'Month' and 'Day'. These 3 columns will enable us to later group our information and get more insights from it."
   ]
  },
  {
   "cell_type": "code",
   "execution_count": 16,
   "id": "93755b01",
   "metadata": {},
   "outputs": [
    {
     "name": "stdout",
     "output_type": "stream",
     "text": [
      "<class 'pandas.core.frame.DataFrame'>\n",
      "Int64Index: 39937 entries, 0 to 39947\n",
      "Data columns (total 12 columns):\n",
      " #   Column              Non-Null Count  Dtype         \n",
      "---  ------              --------------  -----         \n",
      " 0   Date                39937 non-null  object        \n",
      " 1   Time                39937 non-null  object        \n",
      " 2   Magnitude           39937 non-null  float64       \n",
      " 3   Latitude            39937 non-null  float64       \n",
      " 4   Longitude           39937 non-null  float64       \n",
      " 5   Depth               39937 non-null  float64       \n",
      " 6   Location reference  39937 non-null  object        \n",
      " 7   State               39937 non-null  object        \n",
      " 8   Date_Time           39937 non-null  datetime64[ns]\n",
      " 9   Year                39937 non-null  int64         \n",
      " 10  Month               39937 non-null  int64         \n",
      " 11  Day                 39937 non-null  int64         \n",
      "dtypes: datetime64[ns](1), float64(4), int64(3), object(4)\n",
      "memory usage: 4.0+ MB\n"
     ]
    }
   ],
   "source": [
    "quakes_data['Year'] = pd.to_datetime(quakes_data['Date']).dt.year\n",
    "quakes_data['Month'] = pd.to_datetime(quakes_data['Date']).dt.month\n",
    "quakes_data['Day'] = pd.to_datetime(quakes_data['Date']).dt.day\n",
    "quakes_data.info()"
   ]
  },
  {
   "cell_type": "markdown",
   "id": "034c6993",
   "metadata": {},
   "source": [
    "Now let's reorder the columns on our dataframe for better visualization. Additionally, let's drop 'Date' and 'Time' columns because we won't need them, since we already have the 'Date_Time' column."
   ]
  },
  {
   "cell_type": "code",
   "execution_count": 17,
   "id": "6a908ace",
   "metadata": {},
   "outputs": [],
   "source": [
    "cols = ['Date_Time', 'Year', 'Month', 'Day', 'Magnitude', 'Latitude', 'Longitude', 'Depth', 'Location reference', 'State']\n",
    "quakes_data = quakes_data[cols]"
   ]
  },
  {
   "cell_type": "code",
   "execution_count": 18,
   "id": "c0f41305",
   "metadata": {},
   "outputs": [
    {
     "data": {
      "text/html": [
       "<div>\n",
       "<style scoped>\n",
       "    .dataframe tbody tr th:only-of-type {\n",
       "        vertical-align: middle;\n",
       "    }\n",
       "\n",
       "    .dataframe tbody tr th {\n",
       "        vertical-align: top;\n",
       "    }\n",
       "\n",
       "    .dataframe thead th {\n",
       "        text-align: right;\n",
       "    }\n",
       "</style>\n",
       "<table border=\"1\" class=\"dataframe\">\n",
       "  <thead>\n",
       "    <tr style=\"text-align: right;\">\n",
       "      <th></th>\n",
       "      <th>Date_Time</th>\n",
       "      <th>Year</th>\n",
       "      <th>Month</th>\n",
       "      <th>Day</th>\n",
       "      <th>Magnitude</th>\n",
       "      <th>Latitude</th>\n",
       "      <th>Longitude</th>\n",
       "      <th>Depth</th>\n",
       "      <th>Location reference</th>\n",
       "      <th>State</th>\n",
       "    </tr>\n",
       "  </thead>\n",
       "  <tbody>\n",
       "    <tr>\n",
       "      <th>0</th>\n",
       "      <td>1970-02-03 23:08:50</td>\n",
       "      <td>1970</td>\n",
       "      <td>2</td>\n",
       "      <td>3</td>\n",
       "      <td>6.6</td>\n",
       "      <td>15.524</td>\n",
       "      <td>-99.493</td>\n",
       "      <td>21.0</td>\n",
       "      <td>141 km al SUR de SAN MARCOS, GRO</td>\n",
       "      <td>GRO</td>\n",
       "    </tr>\n",
       "    <tr>\n",
       "      <th>1</th>\n",
       "      <td>1970-04-29 08:01:34</td>\n",
       "      <td>1970</td>\n",
       "      <td>4</td>\n",
       "      <td>29</td>\n",
       "      <td>7.3</td>\n",
       "      <td>14.463</td>\n",
       "      <td>-92.683</td>\n",
       "      <td>44.0</td>\n",
       "      <td>62 km al SUROESTE de CD HIDALGO, CHIS</td>\n",
       "      <td>CHIS</td>\n",
       "    </tr>\n",
       "    <tr>\n",
       "      <th>2</th>\n",
       "      <td>1970-04-30 02:32:58</td>\n",
       "      <td>1970</td>\n",
       "      <td>4</td>\n",
       "      <td>30</td>\n",
       "      <td>6.5</td>\n",
       "      <td>14.608</td>\n",
       "      <td>-93.260</td>\n",
       "      <td>22.0</td>\n",
       "      <td>100 km al SUROESTE de MAPASTEPEC, CHIS</td>\n",
       "      <td>CHIS</td>\n",
       "    </tr>\n",
       "    <tr>\n",
       "      <th>3</th>\n",
       "      <td>1971-09-30 02:18:00</td>\n",
       "      <td>1971</td>\n",
       "      <td>9</td>\n",
       "      <td>30</td>\n",
       "      <td>6.5</td>\n",
       "      <td>26.880</td>\n",
       "      <td>-110.800</td>\n",
       "      <td>14.0</td>\n",
       "      <td>92 km al SUROESTE de PUEBLO YAQUI, SON</td>\n",
       "      <td>SON</td>\n",
       "    </tr>\n",
       "    <tr>\n",
       "      <th>4</th>\n",
       "      <td>1972-10-20 02:17:46</td>\n",
       "      <td>1972</td>\n",
       "      <td>10</td>\n",
       "      <td>20</td>\n",
       "      <td>6.6</td>\n",
       "      <td>18.700</td>\n",
       "      <td>-106.756</td>\n",
       "      <td>10.0</td>\n",
       "      <td>238 km al OESTE de CIHUATLAN, JAL</td>\n",
       "      <td>JAL</td>\n",
       "    </tr>\n",
       "  </tbody>\n",
       "</table>\n",
       "</div>"
      ],
      "text/plain": [
       "            Date_Time  Year  Month  Day  Magnitude  Latitude  Longitude  \\\n",
       "0 1970-02-03 23:08:50  1970      2    3        6.6    15.524    -99.493   \n",
       "1 1970-04-29 08:01:34  1970      4   29        7.3    14.463    -92.683   \n",
       "2 1970-04-30 02:32:58  1970      4   30        6.5    14.608    -93.260   \n",
       "3 1971-09-30 02:18:00  1971      9   30        6.5    26.880   -110.800   \n",
       "4 1972-10-20 02:17:46  1972     10   20        6.6    18.700   -106.756   \n",
       "\n",
       "   Depth                      Location reference State  \n",
       "0   21.0        141 km al SUR de SAN MARCOS, GRO   GRO  \n",
       "1   44.0   62 km al SUROESTE de CD HIDALGO, CHIS  CHIS  \n",
       "2   22.0  100 km al SUROESTE de MAPASTEPEC, CHIS  CHIS  \n",
       "3   14.0  92 km al SUROESTE de PUEBLO YAQUI, SON   SON  \n",
       "4   10.0       238 km al OESTE de CIHUATLAN, JAL   JAL  "
      ]
     },
     "execution_count": 18,
     "metadata": {},
     "output_type": "execute_result"
    }
   ],
   "source": [
    "quakes_data.head()"
   ]
  },
  {
   "cell_type": "code",
   "execution_count": 19,
   "id": "6dbeed89",
   "metadata": {},
   "outputs": [
    {
     "data": {
      "text/plain": [
       "(39937, 10)"
      ]
     },
     "execution_count": 19,
     "metadata": {},
     "output_type": "execute_result"
    }
   ],
   "source": [
    "quakes_data.shape"
   ]
  },
  {
   "cell_type": "markdown",
   "id": "08ab9ff0",
   "metadata": {},
   "source": [
    "We eliminated in total 11 duplicated rows and rearranged the 10 columns we have.<br>\n",
    "Now, for the next step, let's try to get some initial insights from this data."
   ]
  },
  {
   "cell_type": "markdown",
   "id": "f3a2b37e",
   "metadata": {},
   "source": [
    "Let's get some information on which locations (States) are the ones with more events in history (since 1970)."
   ]
  },
  {
   "cell_type": "code",
   "execution_count": 20,
   "id": "c724a0ea",
   "metadata": {},
   "outputs": [
    {
     "data": {
      "image/png": "[encoded data removed]",
      "text/plain": [
       "<Figure size 576x576 with 1 Axes>"
      ]
     },
     "metadata": {
      "needs_background": "light"
     },
     "output_type": "display_data"
    }
   ],
   "source": [
    "quakes_data.groupby('State')[['State']].value_counts().sort_values(ascending=False).plot(\n",
    "    kind='barh', figsize=(8, 8), title='No. of earthquakes by State since 1970')\n",
    "plt.xlabel('No. of events');"
   ]
  },
  {
   "cell_type": "markdown",
   "id": "ce69486e",
   "metadata": {},
   "source": [
    "Clearly the states of Oaxaca, Chiapas and Guerrero are the ones with more seismic activity in the mexican territory.\n",
    "This is no surprise since they are located in the Pacific coast on top of the Cocos and Rivera plates.\n",
    "\n",
    "Now, we do a similar plot but this time to check the number of events by year."
   ]
  },
  {
   "cell_type": "code",
   "execution_count": 21,
   "id": "4e49ab8a",
   "metadata": {},
   "outputs": [
    {
     "data": {
      "image/png": "[encoded data removed]",
      "text/plain": [
       "<Figure size 864x576 with 1 Axes>"
      ]
     },
     "metadata": {
      "needs_background": "light"
     },
     "output_type": "display_data"
    }
   ],
   "source": [
    "quakes_data.groupby('Year')[['Year']].value_counts().plot(\n",
    "    kind='bar', figsize=(12, 8), title='No. of earthquakes by Year since 1970')\n",
    "plt.ylabel('No. of events');"
   ]
  },
  {
   "cell_type": "markdown",
   "id": "773a9424",
   "metadata": {},
   "source": [
    "In this case, we see that since 2017, the number of registered earthquakes have increased considerably. But this may be due to a change in recording method, or technology improvement or any other unrelated reason to a real increase in the number of events. For now, we will leave this information as it is.\n",
    "\n",
    "As a next step, let's check the distribution of the Magnitude of the events by State."
   ]
  },
  {
   "cell_type": "code",
   "execution_count": 22,
   "id": "1de8801b",
   "metadata": {},
   "outputs": [
    {
     "data": {
      "image/png": "[encoded data removed]",
      "text/plain": [
       "<Figure size 864x576 with 1 Axes>"
      ]
     },
     "metadata": {
      "needs_background": "light"
     },
     "output_type": "display_data"
    }
   ],
   "source": [
    "plt.subplots(figsize=(12, 8))\n",
    "sns.boxplot(x='State', y='Magnitude', data=quakes_data)\n",
    "plt.xticks(rotation='vertical')\n",
    "plt.title('Earthquakes Magnitude Distribution by State')\n",
    "plt.ylabel('Earthquake magnitude')\n",
    "plt.xlabel('State');"
   ]
  },
  {
   "cell_type": "markdown",
   "id": "bed26475",
   "metadata": {},
   "source": [
    "Here we can confirm again that most of the states located in the Pacific coast are the ones that have the most events with higher Magnitude. It may be good idea to analyze these states more in detail during the Exploratory Analysis.\n",
    "\n",
    "Now we make a summary table grouped by state and showing the different magnitude values of the events in separate columns."
   ]
  },
  {
   "cell_type": "code",
   "execution_count": 23,
   "id": "a73285bd",
   "metadata": {},
   "outputs": [
    {
     "data": {
      "text/html": [
       "<div>\n",
       "<style scoped>\n",
       "    .dataframe tbody tr th:only-of-type {\n",
       "        vertical-align: middle;\n",
       "    }\n",
       "\n",
       "    .dataframe tbody tr th {\n",
       "        vertical-align: top;\n",
       "    }\n",
       "\n",
       "    .dataframe thead th {\n",
       "        text-align: right;\n",
       "    }\n",
       "</style>\n",
       "<table border=\"1\" class=\"dataframe\">\n",
       "  <thead>\n",
       "    <tr style=\"text-align: right;\">\n",
       "      <th></th>\n",
       "      <th>State</th>\n",
       "      <th>Date_Time</th>\n",
       "      <th>M4_to_M5</th>\n",
       "      <th>M5_to_M6</th>\n",
       "      <th>Higher_than_M6</th>\n",
       "    </tr>\n",
       "  </thead>\n",
       "  <tbody>\n",
       "    <tr>\n",
       "      <th>0</th>\n",
       "      <td>BC</td>\n",
       "      <td>972</td>\n",
       "      <td>917</td>\n",
       "      <td>50</td>\n",
       "      <td>5</td>\n",
       "    </tr>\n",
       "    <tr>\n",
       "      <th>1</th>\n",
       "      <td>BCS</td>\n",
       "      <td>993</td>\n",
       "      <td>867</td>\n",
       "      <td>110</td>\n",
       "      <td>16</td>\n",
       "    </tr>\n",
       "    <tr>\n",
       "      <th>2</th>\n",
       "      <td>CAMP</td>\n",
       "      <td>10</td>\n",
       "      <td>10</td>\n",
       "      <td>0</td>\n",
       "      <td>0</td>\n",
       "    </tr>\n",
       "    <tr>\n",
       "      <th>3</th>\n",
       "      <td>CDMX</td>\n",
       "      <td>1</td>\n",
       "      <td>1</td>\n",
       "      <td>0</td>\n",
       "      <td>0</td>\n",
       "    </tr>\n",
       "    <tr>\n",
       "      <th>4</th>\n",
       "      <td>CHIH</td>\n",
       "      <td>186</td>\n",
       "      <td>185</td>\n",
       "      <td>1</td>\n",
       "      <td>0</td>\n",
       "    </tr>\n",
       "  </tbody>\n",
       "</table>\n",
       "</div>"
      ],
      "text/plain": [
       "  State  Date_Time  M4_to_M5  M5_to_M6  Higher_than_M6\n",
       "0    BC        972       917        50               5\n",
       "1   BCS        993       867       110              16\n",
       "2  CAMP         10        10         0               0\n",
       "3  CDMX          1         1         0               0\n",
       "4  CHIH        186       185         1               0"
      ]
     },
     "execution_count": 23,
     "metadata": {},
     "output_type": "execute_result"
    }
   ],
   "source": [
    "summary_st_mag = quakes_data.groupby(by='State')['Date_Time'].count().to_frame()\n",
    "summary_st_mag.rename(columns={'Date':'Total_events'}, inplace=True)\n",
    "summary_st_mag['M4_to_M5']=quakes_data.groupby(by='State')['Magnitude'].apply(lambda x: ((x>=4.0)& (x<5.0)).sum())\n",
    "summary_st_mag['M5_to_M6']=quakes_data.groupby(by='State')['Magnitude'].apply(lambda x: ((x>=5.0)& (x<6.0)).sum())\n",
    "summary_st_mag['Higher_than_M6']=quakes_data.groupby(by='State')['Magnitude'].apply(lambda x: (x>=6.0).sum())\n",
    "summary_st_mag.reset_index().head()"
   ]
  },
  {
   "cell_type": "markdown",
   "id": "c7626407",
   "metadata": {},
   "source": [
    "Also, we make a summary table grouped by Month and showing the average and max magnitudes for the respective month."
   ]
  },
  {
   "cell_type": "code",
   "execution_count": 24,
   "id": "51782e79",
   "metadata": {},
   "outputs": [
    {
     "data": {
      "text/html": [
       "<div>\n",
       "<style scoped>\n",
       "    .dataframe tbody tr th:only-of-type {\n",
       "        vertical-align: middle;\n",
       "    }\n",
       "\n",
       "    .dataframe tbody tr th {\n",
       "        vertical-align: top;\n",
       "    }\n",
       "\n",
       "    .dataframe thead th {\n",
       "        text-align: right;\n",
       "    }\n",
       "</style>\n",
       "<table border=\"1\" class=\"dataframe\">\n",
       "  <thead>\n",
       "    <tr style=\"text-align: right;\">\n",
       "      <th></th>\n",
       "      <th>Year</th>\n",
       "      <th>Month</th>\n",
       "      <th>Date_Time</th>\n",
       "      <th>Avg_Magnitude</th>\n",
       "      <th>Max_Magnitude</th>\n",
       "    </tr>\n",
       "  </thead>\n",
       "  <tbody>\n",
       "    <tr>\n",
       "      <th>0</th>\n",
       "      <td>1970</td>\n",
       "      <td>2</td>\n",
       "      <td>1</td>\n",
       "      <td>6.6</td>\n",
       "      <td>6.6</td>\n",
       "    </tr>\n",
       "    <tr>\n",
       "      <th>1</th>\n",
       "      <td>1970</td>\n",
       "      <td>4</td>\n",
       "      <td>2</td>\n",
       "      <td>6.9</td>\n",
       "      <td>7.3</td>\n",
       "    </tr>\n",
       "    <tr>\n",
       "      <th>2</th>\n",
       "      <td>1971</td>\n",
       "      <td>9</td>\n",
       "      <td>1</td>\n",
       "      <td>6.5</td>\n",
       "      <td>6.5</td>\n",
       "    </tr>\n",
       "    <tr>\n",
       "      <th>3</th>\n",
       "      <td>1972</td>\n",
       "      <td>10</td>\n",
       "      <td>1</td>\n",
       "      <td>6.6</td>\n",
       "      <td>6.6</td>\n",
       "    </tr>\n",
       "    <tr>\n",
       "      <th>4</th>\n",
       "      <td>1972</td>\n",
       "      <td>11</td>\n",
       "      <td>1</td>\n",
       "      <td>6.5</td>\n",
       "      <td>6.5</td>\n",
       "    </tr>\n",
       "  </tbody>\n",
       "</table>\n",
       "</div>"
      ],
      "text/plain": [
       "   Year  Month  Date_Time  Avg_Magnitude  Max_Magnitude\n",
       "0  1970      2          1            6.6            6.6\n",
       "1  1970      4          2            6.9            7.3\n",
       "2  1971      9          1            6.5            6.5\n",
       "3  1972     10          1            6.6            6.6\n",
       "4  1972     11          1            6.5            6.5"
      ]
     },
     "execution_count": 24,
     "metadata": {},
     "output_type": "execute_result"
    }
   ],
   "source": [
    "summary_mth_mag = quakes_data.groupby(['Year', 'Month'])['Date_Time'].count().to_frame()\n",
    "summary_mth_mag.rename(columns={'Date':'Total_events'}, inplace=True)\n",
    "summary_mth_mag['Avg_Magnitude'] = quakes_data.groupby(['Year', 'Month'])[['Magnitude']].mean()\n",
    "summary_mth_mag['Max_Magnitude'] = quakes_data.groupby(['Year', 'Month'])[['Magnitude']].max()\n",
    "summary_mth_mag.reset_index().head()"
   ]
  },
  {
   "cell_type": "markdown",
   "id": "3f0f5678",
   "metadata": {},
   "source": [
    "Finally, we have 3 tables with the information we need to proceed into the next step.\n",
    "We just need to save the sets we created."
   ]
  },
  {
   "cell_type": "code",
   "execution_count": 25,
   "id": "7ad63090",
   "metadata": {},
   "outputs": [],
   "source": [
    "#Save the quakes_data set\n",
    "datapath = '../derived_data/'\n",
    "quakes_data.to_csv(datapath+'quakes_data_cleaned.csv')"
   ]
  },
  {
   "cell_type": "code",
   "execution_count": 26,
   "id": "f9bd45a3",
   "metadata": {},
   "outputs": [],
   "source": [
    "#Save the summary_st_mag set\n",
    "datapath = '../derived_data/'\n",
    "summary_st_mag.to_csv(datapath+'summary_st_mag.csv')"
   ]
  },
  {
   "cell_type": "code",
   "execution_count": 27,
   "id": "43ec5371",
   "metadata": {},
   "outputs": [],
   "source": [
    "#Save the summary_mth_mag set\n",
    "datapath = '../derived_data/'\n",
    "summary_mth_mag.to_csv(datapath+'summary_mth_mag.csv')"
   ]
  }
 ],
 "metadata": {
  "kernelspec": {
   "display_name": "Python 3 (ipykernel)",
   "language": "python",
   "name": "python3"
  },
  "language_info": {
   "codemirror_mode": {
    "name": "ipython",
    "version": 3
   },
   "file_extension": ".py",
   "mimetype": "text/x-python",
   "name": "python",
   "nbconvert_exporter": "python",
   "pygments_lexer": "ipython3",
   "version": "3.8.8"
  }
 },
 "nbformat": 4,
 "nbformat_minor": 5
}
