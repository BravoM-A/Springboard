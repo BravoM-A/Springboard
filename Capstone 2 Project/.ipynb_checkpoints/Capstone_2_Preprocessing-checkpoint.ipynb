{
 "cells": [
  {
   "cell_type": "markdown",
   "id": "59054978",
   "metadata": {},
   "source": [
    "<H1><center>Earthquake predictions in Mexico<br>(Pre-processing & Modelling)</center></H1>"
   ]
  },
  {
   "cell_type": "markdown",
   "id": "b8a3a262",
   "metadata": {},
   "source": [
    "In the previous steps we were able to identify some important information about our data. Basically we identified the following&colon;<br><br>\n",
    "&nbsp;&nbsp;&nbsp;a) Stronger earthquakes in magnitude, occur (in general) closer to the surface (lower value of depth)<br>\n",
    "&nbsp;&nbsp;&nbsp;b) By analyzing different years where a big event occurred, we could identify similar patterns where magnitude in events throughout the year was increasing slowly until the main earthquake happened<br>\n",
    "&nbsp;&nbsp;&nbsp;c) There is a tendency that the bigger earthquakes take place around the last quarter of the year<br>\n",
    "&nbsp;&nbsp;&nbsp;d) Location is very important due to the proximity to tectonic plates (pacific coast). It should be interesting to add a feature considering these plates<br>\n",
    "&nbsp;&nbsp;&nbsp;e) When comparing areas (states) with high seismic activity, we were able to identify specifically which ones were the ones with the highest frequency of events<br>"
   ]
  },
  {
   "cell_type": "markdown",
   "id": "a407bc5b",
   "metadata": {},
   "source": [
    "Now we will focus in adding any other features that may seem to give value to the model we are going to train. Since the goal of this project is to try to estimate the time-to-event, we are going to handle it as a survival analysis. Due to this, we will need two columns in our 'y' set, as follows&colon;<br><br>\n",
    "&nbsp;&nbsp;&nbsp;a) The 'Status' binary categorical column indicating the presence of the event. We will consider any event of magnitude greater than or equal to 6.0 as '1' and any other event as '0'<br>\n",
    "&nbsp;&nbsp;&nbsp;b) The 'Time to event' numerical (continuous) column indicating the time passed until the event happened. For this part, we will need to think about how are we going to consider the starting point to calculate the time for every event. Since this is no ordinary use for the survival analysis, we will try to adapt our case to it. Let's explain a little bit about survival analysis and how we are going to handle times to event."
   ]
  },
  {
   "cell_type": "markdown",
   "id": "fb2ff731",
   "metadata": {},
   "source": [
    "In regular survival analysis we have a number of participants in a 'study' (i.e. number of patients in a clinical study). All the participants join the study at certain point and we record the time that passed since they joined (starting point) until the event in interest happened (i.e. death of the patient) or the patient's data becomes censored. The patient's data becomes censored when we can no longer determine if the event really happened or not. For example, follow up on some patient could be lost by any reason (they moved to another city) or the time of the study could be finished before the event happens, so we don't know what happened after this point. In all of these cases, we handle the data as censored data."
   ]
  },
  {
   "cell_type": "markdown",
   "id": "0442fea8",
   "metadata": {},
   "source": [
    "In our case, we will consider every earthquake as a participant. Also, we will consider every earthquake with a magnitude less than 6.0, a censored participant (class 0) and the rest of the earhquakes as uncensored participants (class 1) where the event happened.<br><br>\n",
    "\n",
    "Now, regarding the times to event, let's see Fig.1 to illustrate it better. In the following image (Fig.1), on the left side, we can see that there are different points when a participant (participants A to H) joined the study. In our case, every starting point of a participant will be the ending point of the last event in the same class. For example, if we consider participants A and F to be on the same class, then, the ending point of A will the starting point of F, just as shown in the image. A similar situation happens with participants C and G. This is how we will consider the times to event. After we consider the starting and ending point of each participant, we can obtain the total time elapsed for each of them, just as shown in the right part of Fig.1.<br><br>\n",
    "\n",
    "As an additional comment, during the course of this notebook, we may consider additional features (not only magnitude) to segregate participant's classes."
   ]
  },
  {
   "cell_type": "markdown",
   "id": "1766ca49",
   "metadata": {},
   "source": [
    "<img src=\"images/survival_participants_graph_2.jpeg\" width=\"600\" height=\"540\" align=\"center\"/>\n",
    "<center><b>Fig. 1</b><br></center><center>Reference: <br>\n",
    "<i>https://www.indianpediatrics.net/sep2010/sep-743-748.htm<i></center>"
   ]
  },
  {
   "cell_type": "code",
   "execution_count": 1,
   "id": "19abb22d",
   "metadata": {},
   "outputs": [],
   "source": [
    "#First, we import the necessary libraries\n",
    "import pandas as pd\n",
    "import matplotlib.pyplot as plt\n",
    "import seaborn as sns\n",
    "import numpy as np\n",
    "from library.sb_utils import save_file\n",
    "import warnings\n",
    "warnings.filterwarnings('ignore')"
   ]
  },
  {
   "cell_type": "code",
   "execution_count": 2,
   "id": "0f2788fc",
   "metadata": {},
   "outputs": [
    {
     "data": {
      "text/html": [
       "<div>\n",
       "<style scoped>\n",
       "    .dataframe tbody tr th:only-of-type {\n",
       "        vertical-align: middle;\n",
       "    }\n",
       "\n",
       "    .dataframe tbody tr th {\n",
       "        vertical-align: top;\n",
       "    }\n",
       "\n",
       "    .dataframe thead th {\n",
       "        text-align: right;\n",
       "    }\n",
       "</style>\n",
       "<table border=\"1\" class=\"dataframe\">\n",
       "  <thead>\n",
       "    <tr style=\"text-align: right;\">\n",
       "      <th></th>\n",
       "      <th>Date_Time</th>\n",
       "      <th>Year</th>\n",
       "      <th>Month</th>\n",
       "      <th>Day</th>\n",
       "      <th>Magnitude</th>\n",
       "      <th>Latitude</th>\n",
       "      <th>Longitude</th>\n",
       "      <th>Depth</th>\n",
       "      <th>Location reference</th>\n",
       "      <th>State</th>\n",
       "    </tr>\n",
       "  </thead>\n",
       "  <tbody>\n",
       "    <tr>\n",
       "      <th>0</th>\n",
       "      <td>1970-02-03 23:08:50</td>\n",
       "      <td>1970</td>\n",
       "      <td>2</td>\n",
       "      <td>3</td>\n",
       "      <td>6.6</td>\n",
       "      <td>15.524</td>\n",
       "      <td>-99.493</td>\n",
       "      <td>21.0</td>\n",
       "      <td>141 km al SUR de SAN MARCOS, GRO</td>\n",
       "      <td>GRO</td>\n",
       "    </tr>\n",
       "    <tr>\n",
       "      <th>1</th>\n",
       "      <td>1970-04-29 08:01:34</td>\n",
       "      <td>1970</td>\n",
       "      <td>4</td>\n",
       "      <td>29</td>\n",
       "      <td>7.3</td>\n",
       "      <td>14.463</td>\n",
       "      <td>-92.683</td>\n",
       "      <td>44.0</td>\n",
       "      <td>62 km al SUROESTE de CD HIDALGO, CHIS</td>\n",
       "      <td>CHIS</td>\n",
       "    </tr>\n",
       "    <tr>\n",
       "      <th>2</th>\n",
       "      <td>1970-04-30 02:32:58</td>\n",
       "      <td>1970</td>\n",
       "      <td>4</td>\n",
       "      <td>30</td>\n",
       "      <td>6.5</td>\n",
       "      <td>14.608</td>\n",
       "      <td>-93.260</td>\n",
       "      <td>22.0</td>\n",
       "      <td>100 km al SUROESTE de MAPASTEPEC, CHIS</td>\n",
       "      <td>CHIS</td>\n",
       "    </tr>\n",
       "    <tr>\n",
       "      <th>3</th>\n",
       "      <td>1971-09-30 02:18:00</td>\n",
       "      <td>1971</td>\n",
       "      <td>9</td>\n",
       "      <td>30</td>\n",
       "      <td>6.5</td>\n",
       "      <td>26.880</td>\n",
       "      <td>-110.800</td>\n",
       "      <td>14.0</td>\n",
       "      <td>92 km al SUROESTE de PUEBLO YAQUI, SON</td>\n",
       "      <td>SON</td>\n",
       "    </tr>\n",
       "    <tr>\n",
       "      <th>4</th>\n",
       "      <td>1972-10-20 02:17:46</td>\n",
       "      <td>1972</td>\n",
       "      <td>10</td>\n",
       "      <td>20</td>\n",
       "      <td>6.6</td>\n",
       "      <td>18.700</td>\n",
       "      <td>-106.756</td>\n",
       "      <td>10.0</td>\n",
       "      <td>238 km al OESTE de CIHUATLAN, JAL</td>\n",
       "      <td>JAL</td>\n",
       "    </tr>\n",
       "  </tbody>\n",
       "</table>\n",
       "</div>"
      ],
      "text/plain": [
       "            Date_Time  Year  Month  Day  Magnitude  Latitude  Longitude  \\\n",
       "0 1970-02-03 23:08:50  1970      2    3        6.6    15.524    -99.493   \n",
       "1 1970-04-29 08:01:34  1970      4   29        7.3    14.463    -92.683   \n",
       "2 1970-04-30 02:32:58  1970      4   30        6.5    14.608    -93.260   \n",
       "3 1971-09-30 02:18:00  1971      9   30        6.5    26.880   -110.800   \n",
       "4 1972-10-20 02:17:46  1972     10   20        6.6    18.700   -106.756   \n",
       "\n",
       "   Depth                      Location reference State  \n",
       "0   21.0        141 km al SUR de SAN MARCOS, GRO   GRO  \n",
       "1   44.0   62 km al SUROESTE de CD HIDALGO, CHIS  CHIS  \n",
       "2   22.0  100 km al SUROESTE de MAPASTEPEC, CHIS  CHIS  \n",
       "3   14.0  92 km al SUROESTE de PUEBLO YAQUI, SON   SON  \n",
       "4   10.0       238 km al OESTE de CIHUATLAN, JAL   JAL  "
      ]
     },
     "execution_count": 2,
     "metadata": {},
     "output_type": "execute_result"
    }
   ],
   "source": [
    "quakes_data = pd.read_csv('../derived_data/quakes_data_cleaned.csv')\n",
    "quakes_data.drop(columns=['Unnamed: 0'], inplace=True)\n",
    "quakes_data['Date_Time'] = pd.to_datetime(quakes_data.Date_Time)\n",
    "quakes_data.head()"
   ]
  },
  {
   "cell_type": "markdown",
   "id": "67e69811",
   "metadata": {},
   "source": [
    "Let's take a look again at our data's shape."
   ]
  },
  {
   "cell_type": "code",
   "execution_count": 3,
   "id": "48161c88",
   "metadata": {},
   "outputs": [
    {
     "name": "stdout",
     "output_type": "stream",
     "text": [
      "<class 'pandas.core.frame.DataFrame'>\n",
      "RangeIndex: 39937 entries, 0 to 39936\n",
      "Data columns (total 10 columns):\n",
      " #   Column              Non-Null Count  Dtype         \n",
      "---  ------              --------------  -----         \n",
      " 0   Date_Time           39937 non-null  datetime64[ns]\n",
      " 1   Year                39937 non-null  int64         \n",
      " 2   Month               39937 non-null  int64         \n",
      " 3   Day                 39937 non-null  int64         \n",
      " 4   Magnitude           39937 non-null  float64       \n",
      " 5   Latitude            39937 non-null  float64       \n",
      " 6   Longitude           39937 non-null  float64       \n",
      " 7   Depth               39937 non-null  float64       \n",
      " 8   Location reference  39937 non-null  object        \n",
      " 9   State               39937 non-null  object        \n",
      "dtypes: datetime64[ns](1), float64(4), int64(3), object(2)\n",
      "memory usage: 3.0+ MB\n"
     ]
    }
   ],
   "source": [
    "quakes_data.info()"
   ]
  },
  {
   "cell_type": "markdown",
   "id": "bd942af2",
   "metadata": {},
   "source": [
    "We have at the moment 10 features and we will need to add at least two more columns for our label variable 'y'. We will call these columns as 'Status' and 'Time_to_event'. But before that, let's drop 'Location reference' column since it is not going to add any value to our model. All the information we will use for the model, in terms of location reference, we have it in the 'State' feature."
   ]
  },
  {
   "cell_type": "code",
   "execution_count": 5,
   "id": "d0da8270",
   "metadata": {},
   "outputs": [],
   "source": [
    "quakes_data.drop(columns=['Location reference'], inplace=True)"
   ]
  },
  {
   "cell_type": "code",
   "execution_count": 6,
   "id": "9a0477e5",
   "metadata": {},
   "outputs": [
    {
     "data": {
      "text/html": [
       "<div>\n",
       "<style scoped>\n",
       "    .dataframe tbody tr th:only-of-type {\n",
       "        vertical-align: middle;\n",
       "    }\n",
       "\n",
       "    .dataframe tbody tr th {\n",
       "        vertical-align: top;\n",
       "    }\n",
       "\n",
       "    .dataframe thead th {\n",
       "        text-align: right;\n",
       "    }\n",
       "</style>\n",
       "<table border=\"1\" class=\"dataframe\">\n",
       "  <thead>\n",
       "    <tr style=\"text-align: right;\">\n",
       "      <th></th>\n",
       "      <th>Date_Time</th>\n",
       "      <th>Year</th>\n",
       "      <th>Month</th>\n",
       "      <th>Day</th>\n",
       "      <th>Magnitude</th>\n",
       "      <th>Latitude</th>\n",
       "      <th>Longitude</th>\n",
       "      <th>Depth</th>\n",
       "      <th>State</th>\n",
       "      <th>Status</th>\n",
       "    </tr>\n",
       "  </thead>\n",
       "  <tbody>\n",
       "    <tr>\n",
       "      <th>0</th>\n",
       "      <td>1970-02-03 23:08:50</td>\n",
       "      <td>1970</td>\n",
       "      <td>2</td>\n",
       "      <td>3</td>\n",
       "      <td>6.6</td>\n",
       "      <td>15.524</td>\n",
       "      <td>-99.493</td>\n",
       "      <td>21.0</td>\n",
       "      <td>GRO</td>\n",
       "      <td>1</td>\n",
       "    </tr>\n",
       "    <tr>\n",
       "      <th>1</th>\n",
       "      <td>1970-04-29 08:01:34</td>\n",
       "      <td>1970</td>\n",
       "      <td>4</td>\n",
       "      <td>29</td>\n",
       "      <td>7.3</td>\n",
       "      <td>14.463</td>\n",
       "      <td>-92.683</td>\n",
       "      <td>44.0</td>\n",
       "      <td>CHIS</td>\n",
       "      <td>1</td>\n",
       "    </tr>\n",
       "    <tr>\n",
       "      <th>2</th>\n",
       "      <td>1970-04-30 02:32:58</td>\n",
       "      <td>1970</td>\n",
       "      <td>4</td>\n",
       "      <td>30</td>\n",
       "      <td>6.5</td>\n",
       "      <td>14.608</td>\n",
       "      <td>-93.260</td>\n",
       "      <td>22.0</td>\n",
       "      <td>CHIS</td>\n",
       "      <td>1</td>\n",
       "    </tr>\n",
       "    <tr>\n",
       "      <th>3</th>\n",
       "      <td>1971-09-30 02:18:00</td>\n",
       "      <td>1971</td>\n",
       "      <td>9</td>\n",
       "      <td>30</td>\n",
       "      <td>6.5</td>\n",
       "      <td>26.880</td>\n",
       "      <td>-110.800</td>\n",
       "      <td>14.0</td>\n",
       "      <td>SON</td>\n",
       "      <td>1</td>\n",
       "    </tr>\n",
       "    <tr>\n",
       "      <th>4</th>\n",
       "      <td>1972-10-20 02:17:46</td>\n",
       "      <td>1972</td>\n",
       "      <td>10</td>\n",
       "      <td>20</td>\n",
       "      <td>6.6</td>\n",
       "      <td>18.700</td>\n",
       "      <td>-106.756</td>\n",
       "      <td>10.0</td>\n",
       "      <td>JAL</td>\n",
       "      <td>1</td>\n",
       "    </tr>\n",
       "  </tbody>\n",
       "</table>\n",
       "</div>"
      ],
      "text/plain": [
       "            Date_Time  Year  Month  Day  Magnitude  Latitude  Longitude  \\\n",
       "0 1970-02-03 23:08:50  1970      2    3        6.6    15.524    -99.493   \n",
       "1 1970-04-29 08:01:34  1970      4   29        7.3    14.463    -92.683   \n",
       "2 1970-04-30 02:32:58  1970      4   30        6.5    14.608    -93.260   \n",
       "3 1971-09-30 02:18:00  1971      9   30        6.5    26.880   -110.800   \n",
       "4 1972-10-20 02:17:46  1972     10   20        6.6    18.700   -106.756   \n",
       "\n",
       "   Depth State  Status  \n",
       "0   21.0   GRO       1  \n",
       "1   44.0  CHIS       1  \n",
       "2   22.0  CHIS       1  \n",
       "3   14.0   SON       1  \n",
       "4   10.0   JAL       1  "
      ]
     },
     "execution_count": 6,
     "metadata": {},
     "output_type": "execute_result"
    }
   ],
   "source": [
    "#We pass a '1' to all the events with greater or equal magnitude of 6.0. Pass '0' to any other event\n",
    "quakes_data['Status'] = 1\n",
    "quakes_data.loc[quakes_data['Magnitude'] < 6.0, 'Status'] = 0\n",
    "quakes_data.head()"
   ]
  },
  {
   "cell_type": "markdown",
   "id": "4103b337",
   "metadata": {},
   "source": [
    "We added that 'Status' column and now we will have to do some preparation to add the 'Time_to_event' column. We need to define first our starting date. This date is going to be the oldest date in our dataset."
   ]
  },
  {
   "cell_type": "code",
   "execution_count": 7,
   "id": "9cf1dff3",
   "metadata": {},
   "outputs": [
    {
     "data": {
      "text/plain": [
       "Timestamp('1970-02-03 23:08:50')"
      ]
     },
     "execution_count": 7,
     "metadata": {},
     "output_type": "execute_result"
    }
   ],
   "source": [
    "#Let's define our start date to calculate times to event.\n",
    "start_date = quakes_data.iloc[0,0]\n",
    "start_date"
   ]
  },
  {
   "cell_type": "markdown",
   "id": "b8b2b594",
   "metadata": {},
   "source": [
    "Now we are going to create the column with an initial value which will be the difference between the row's date and the start date. This value will be a float indicating the total seconds of the dates' differences."
   ]
  },
  {
   "cell_type": "code",
   "execution_count": 58,
   "id": "2b41666f",
   "metadata": {},
   "outputs": [
    {
     "data": {
      "text/html": [
       "<div>\n",
       "<style scoped>\n",
       "    .dataframe tbody tr th:only-of-type {\n",
       "        vertical-align: middle;\n",
       "    }\n",
       "\n",
       "    .dataframe tbody tr th {\n",
       "        vertical-align: top;\n",
       "    }\n",
       "\n",
       "    .dataframe thead th {\n",
       "        text-align: right;\n",
       "    }\n",
       "</style>\n",
       "<table border=\"1\" class=\"dataframe\">\n",
       "  <thead>\n",
       "    <tr style=\"text-align: right;\">\n",
       "      <th></th>\n",
       "      <th>Date_Time</th>\n",
       "      <th>Year</th>\n",
       "      <th>Month</th>\n",
       "      <th>Day</th>\n",
       "      <th>Magnitude</th>\n",
       "      <th>Latitude</th>\n",
       "      <th>Longitude</th>\n",
       "      <th>Depth</th>\n",
       "      <th>State</th>\n",
       "      <th>Plate</th>\n",
       "      <th>Status</th>\n",
       "      <th>Time_to_event</th>\n",
       "    </tr>\n",
       "  </thead>\n",
       "  <tbody>\n",
       "    <tr>\n",
       "      <th>0</th>\n",
       "      <td>1970-02-03 23:08:50</td>\n",
       "      <td>1970</td>\n",
       "      <td>2</td>\n",
       "      <td>3</td>\n",
       "      <td>6.6</td>\n",
       "      <td>15.524</td>\n",
       "      <td>-99.493</td>\n",
       "      <td>21.0</td>\n",
       "      <td>GRO</td>\n",
       "      <td>cocos</td>\n",
       "      <td>1</td>\n",
       "      <td>0.0</td>\n",
       "    </tr>\n",
       "    <tr>\n",
       "      <th>1</th>\n",
       "      <td>1970-04-29 08:01:34</td>\n",
       "      <td>1970</td>\n",
       "      <td>4</td>\n",
       "      <td>29</td>\n",
       "      <td>7.3</td>\n",
       "      <td>14.463</td>\n",
       "      <td>-92.683</td>\n",
       "      <td>44.0</td>\n",
       "      <td>CHIS</td>\n",
       "      <td>cocos</td>\n",
       "      <td>1</td>\n",
       "      <td>7289564.0</td>\n",
       "    </tr>\n",
       "    <tr>\n",
       "      <th>3</th>\n",
       "      <td>1971-09-30 02:18:00</td>\n",
       "      <td>1971</td>\n",
       "      <td>9</td>\n",
       "      <td>30</td>\n",
       "      <td>6.5</td>\n",
       "      <td>26.880</td>\n",
       "      <td>-110.800</td>\n",
       "      <td>14.0</td>\n",
       "      <td>SON</td>\n",
       "      <td>north_america</td>\n",
       "      <td>1</td>\n",
       "      <td>52110550.0</td>\n",
       "    </tr>\n",
       "    <tr>\n",
       "      <th>4</th>\n",
       "      <td>1972-10-20 02:17:46</td>\n",
       "      <td>1972</td>\n",
       "      <td>10</td>\n",
       "      <td>20</td>\n",
       "      <td>6.6</td>\n",
       "      <td>18.700</td>\n",
       "      <td>-106.756</td>\n",
       "      <td>10.0</td>\n",
       "      <td>JAL</td>\n",
       "      <td>rivera</td>\n",
       "      <td>1</td>\n",
       "      <td>85460936.0</td>\n",
       "    </tr>\n",
       "    <tr>\n",
       "      <th>5</th>\n",
       "      <td>1972-11-12 22:43:45</td>\n",
       "      <td>1972</td>\n",
       "      <td>11</td>\n",
       "      <td>12</td>\n",
       "      <td>6.5</td>\n",
       "      <td>15.541</td>\n",
       "      <td>-95.040</td>\n",
       "      <td>14.0</td>\n",
       "      <td>OAX</td>\n",
       "      <td>cocos</td>\n",
       "      <td>1</td>\n",
       "      <td>87521695.0</td>\n",
       "    </tr>\n",
       "  </tbody>\n",
       "</table>\n",
       "</div>"
      ],
      "text/plain": [
       "            Date_Time  Year  Month  Day  Magnitude  Latitude  Longitude  \\\n",
       "0 1970-02-03 23:08:50  1970      2    3        6.6    15.524    -99.493   \n",
       "1 1970-04-29 08:01:34  1970      4   29        7.3    14.463    -92.683   \n",
       "3 1971-09-30 02:18:00  1971      9   30        6.5    26.880   -110.800   \n",
       "4 1972-10-20 02:17:46  1972     10   20        6.6    18.700   -106.756   \n",
       "5 1972-11-12 22:43:45  1972     11   12        6.5    15.541    -95.040   \n",
       "\n",
       "   Depth State          Plate  Status  Time_to_event  \n",
       "0   21.0   GRO          cocos       1            0.0  \n",
       "1   44.0  CHIS          cocos       1      7289564.0  \n",
       "3   14.0   SON  north_america       1     52110550.0  \n",
       "4   10.0   JAL         rivera       1     85460936.0  \n",
       "5   14.0   OAX          cocos       1     87521695.0  "
      ]
     },
     "execution_count": 58,
     "metadata": {},
     "output_type": "execute_result"
    }
   ],
   "source": [
    "quakes_data['Time_to_event'] = quakes_data['Date_Time'] - start_date\n",
    "quakes_data['Time_to_event'] = quakes_data['Time_to_event'].apply(lambda x: x.total_seconds())\n",
    "quakes_data.head()"
   ]
  },
  {
   "cell_type": "markdown",
   "id": "390bf923",
   "metadata": {},
   "source": [
    "At the moment, we calculated every value in the 'Time_to_event' column as a float in seconds of the difference in dates. We always considered the oldest date in the dataset as our starting point, but is this the best way to do this? Let's think about what we know up to this point. We know that location is very important in terms of the magnitude and frequency of events. Taking this into account, we may consider another way to calculate this column. \n",
    "We will do the following instead&colon;<br><br>\n",
    "&nbsp;&nbsp;&nbsp;a) We will group the data based on the categories of the 'State' column. There are 31 categories, one for each state inlcuded in the data<br>\n",
    "&nbsp;&nbsp;&nbsp;b) We will make the calculations for the times to event independent by each group<br>\n",
    "&nbsp;&nbsp;&nbsp;c) We will also treat independently the calculations for events with 'Status' == 1 and  'Status' == 0<br><br>In summary, our group classes will be composed of a 'State' category and a 'Status' binary value.<br><br>\n",
    "&nbsp;&nbsp;&nbsp;d) Finally, the starting date for the first instance of every event on each class that we defined above, will be the oldest date. But our starting date will not be fixed. It means that every date of a previous event in the same class, will become the starting point for the next instance in the class and so on until the end of the dataset.<br><br>\n",
    "Let's create a function to do all the calculations specified above. We may need to use it again in the future."
   ]
  },
  {
   "cell_type": "code",
   "execution_count": 9,
   "id": "6fc42b1a",
   "metadata": {},
   "outputs": [
    {
     "data": {
      "text/html": [
       "<div>\n",
       "<style scoped>\n",
       "    .dataframe tbody tr th:only-of-type {\n",
       "        vertical-align: middle;\n",
       "    }\n",
       "\n",
       "    .dataframe tbody tr th {\n",
       "        vertical-align: top;\n",
       "    }\n",
       "\n",
       "    .dataframe thead th {\n",
       "        text-align: right;\n",
       "    }\n",
       "</style>\n",
       "<table border=\"1\" class=\"dataframe\">\n",
       "  <thead>\n",
       "    <tr style=\"text-align: right;\">\n",
       "      <th></th>\n",
       "      <th>Date_Time</th>\n",
       "      <th>Year</th>\n",
       "      <th>Month</th>\n",
       "      <th>Day</th>\n",
       "      <th>Magnitude</th>\n",
       "      <th>Latitude</th>\n",
       "      <th>Longitude</th>\n",
       "      <th>Depth</th>\n",
       "      <th>State</th>\n",
       "      <th>Status</th>\n",
       "      <th>Time_to_event</th>\n",
       "    </tr>\n",
       "  </thead>\n",
       "  <tbody>\n",
       "    <tr>\n",
       "      <th>0</th>\n",
       "      <td>1970-02-03 23:08:50</td>\n",
       "      <td>1970</td>\n",
       "      <td>2</td>\n",
       "      <td>3</td>\n",
       "      <td>6.6</td>\n",
       "      <td>15.524</td>\n",
       "      <td>-99.493</td>\n",
       "      <td>21.0</td>\n",
       "      <td>GRO</td>\n",
       "      <td>1</td>\n",
       "      <td>0.0</td>\n",
       "    </tr>\n",
       "    <tr>\n",
       "      <th>1</th>\n",
       "      <td>1970-04-29 08:01:34</td>\n",
       "      <td>1970</td>\n",
       "      <td>4</td>\n",
       "      <td>29</td>\n",
       "      <td>7.3</td>\n",
       "      <td>14.463</td>\n",
       "      <td>-92.683</td>\n",
       "      <td>44.0</td>\n",
       "      <td>CHIS</td>\n",
       "      <td>1</td>\n",
       "      <td>7289564.0</td>\n",
       "    </tr>\n",
       "    <tr>\n",
       "      <th>2</th>\n",
       "      <td>1970-04-30 02:32:58</td>\n",
       "      <td>1970</td>\n",
       "      <td>4</td>\n",
       "      <td>30</td>\n",
       "      <td>6.5</td>\n",
       "      <td>14.608</td>\n",
       "      <td>-93.260</td>\n",
       "      <td>22.0</td>\n",
       "      <td>CHIS</td>\n",
       "      <td>1</td>\n",
       "      <td>66684.0</td>\n",
       "    </tr>\n",
       "    <tr>\n",
       "      <th>3</th>\n",
       "      <td>1971-09-30 02:18:00</td>\n",
       "      <td>1971</td>\n",
       "      <td>9</td>\n",
       "      <td>30</td>\n",
       "      <td>6.5</td>\n",
       "      <td>26.880</td>\n",
       "      <td>-110.800</td>\n",
       "      <td>14.0</td>\n",
       "      <td>SON</td>\n",
       "      <td>1</td>\n",
       "      <td>52110550.0</td>\n",
       "    </tr>\n",
       "    <tr>\n",
       "      <th>4</th>\n",
       "      <td>1972-10-20 02:17:46</td>\n",
       "      <td>1972</td>\n",
       "      <td>10</td>\n",
       "      <td>20</td>\n",
       "      <td>6.6</td>\n",
       "      <td>18.700</td>\n",
       "      <td>-106.756</td>\n",
       "      <td>10.0</td>\n",
       "      <td>JAL</td>\n",
       "      <td>1</td>\n",
       "      <td>85460936.0</td>\n",
       "    </tr>\n",
       "  </tbody>\n",
       "</table>\n",
       "</div>"
      ],
      "text/plain": [
       "            Date_Time  Year  Month  Day  Magnitude  Latitude  Longitude  \\\n",
       "0 1970-02-03 23:08:50  1970      2    3        6.6    15.524    -99.493   \n",
       "1 1970-04-29 08:01:34  1970      4   29        7.3    14.463    -92.683   \n",
       "2 1970-04-30 02:32:58  1970      4   30        6.5    14.608    -93.260   \n",
       "3 1971-09-30 02:18:00  1971      9   30        6.5    26.880   -110.800   \n",
       "4 1972-10-20 02:17:46  1972     10   20        6.6    18.700   -106.756   \n",
       "\n",
       "   Depth State  Status  Time_to_event  \n",
       "0   21.0   GRO       1            0.0  \n",
       "1   44.0  CHIS       1      7289564.0  \n",
       "2   22.0  CHIS       1        66684.0  \n",
       "3   14.0   SON       1     52110550.0  \n",
       "4   10.0   JAL       1     85460936.0  "
      ]
     },
     "execution_count": 9,
     "metadata": {},
     "output_type": "execute_result"
    }
   ],
   "source": [
    "#We define the function to calculate the times to event. \n",
    "#We just need to pass the dataframe and our initial starting date.\n",
    "\n",
    "def time_to_event_calculations(df, start_date):\n",
    "    #Let's iterate over all the states. This way we can make the calculations for every state at a time.\n",
    "    for state in df.State.unique():\n",
    "        i = 0\n",
    "        j = 0\n",
    "        count_1 = 0\n",
    "        count_2 = 0\n",
    "        #Now we iterate for every row where the 'State' column matches our iterating state\n",
    "        for index, row in df.loc[df['State'] == state].iterrows():\n",
    "            #Now that we have the state class, we separate the calculation by status class (magnitude >=6.0 or <6.0)\n",
    "            if row['Magnitude'] >= 6.0:\n",
    "                if count_1 == 0:\n",
    "                    #We calculate the time in the first iteration using the start_date as base\n",
    "                    diff = row['Date_Time'] - start_date\n",
    "                if count_1 != 0:\n",
    "                    #For any subsequent calculation, we use the previous event in the class as the start_date\n",
    "                    diff = row['Date_Time'] - df.loc[i, 'Date_Time']\n",
    "                #We assign the calculation in seconds to the corresponding row in the df\n",
    "                diff = diff.total_seconds()\n",
    "                df.loc[index, 'Time_to_event'] = diff\n",
    "                i = index\n",
    "                count_1 = 1\n",
    "            #We do the same for the status class of magnitude < 6.0\n",
    "            if row['Magnitude'] < 6.0:\n",
    "                if count_2 == 0:\n",
    "                    diff = row['Date_Time'] - start_date\n",
    "                if count_2 != 0:\n",
    "                    diff = row['Date_Time'] - df.loc[j, 'Date_Time']\n",
    "                diff = diff.total_seconds()\n",
    "                df.loc[index, 'Time_to_event'] = diff\n",
    "                j = index\n",
    "                count_2 = 1\n",
    "    return df\n",
    "\n",
    "#We use the created function to make the calculations in seconds and assign them to the 'Time_to_event' column\n",
    "quakes_data = time_to_event_calculations(quakes_data, start_date)\n",
    "quakes_data.head()"
   ]
  },
  {
   "cell_type": "markdown",
   "id": "f193d418",
   "metadata": {},
   "source": [
    "According to what we stated previously, we have now the correct values for the 'Time_to_event' feature. But, if we look carefully at rows with index 1 and 2 of the dataframe shown above, we can see that both rows correspond to the same state and almost same latitude and longitude. If we check the value in 'Time_to_event' for row number 2, we see 66684 seconds (~0.77 days). This implies that this event is a foreshock of the first one. To try to avoid this 'duplicity' of information we will establish a threshold and eliminate rows with low values in 'Time_to_event'. First, let's check how many rows we find within different thresholds."
   ]
  },
  {
   "cell_type": "code",
   "execution_count": 10,
   "id": "ef9bc67a",
   "metadata": {},
   "outputs": [
    {
     "name": "stdout",
     "output_type": "stream",
     "text": [
      "The number of rows with a value lower than 1 day is: 23514\n",
      "The number of rows with a value lower than 7 days is: 34906\n"
     ]
    }
   ],
   "source": [
    "#Let's check rows for a threshold of 1 day and 7 days respectively\n",
    "print('The number of rows with a value lower than 1 day is:', quakes_data.loc[quakes_data['Time_to_event'] < 86400]['Time_to_event'].count())\n",
    "print('The number of rows with a value lower than 7 days is:', quakes_data.loc[quakes_data['Time_to_event'] <= 604800]['Time_to_event'].count())"
   ]
  },
  {
   "cell_type": "markdown",
   "id": "47dab12b",
   "metadata": {},
   "source": [
    "As we can see, either threshold means dropping a lot of rows. For the sake of the exercise, we will use the 1-day threshold. Doing this also means that we will have to do the calculations again for the rows left. We expect that after this new calculation we don't have any times lower than 86400 seconds."
   ]
  },
  {
   "cell_type": "code",
   "execution_count": 11,
   "id": "f1c23711",
   "metadata": {},
   "outputs": [
    {
     "data": {
      "text/plain": [
       "(16424, 11)"
      ]
     },
     "execution_count": 11,
     "metadata": {},
     "output_type": "execute_result"
    }
   ],
   "source": [
    "#Let's drop all rows with values less than 86400 seconds, except our start data which has a value of 0.\n",
    "quakes_data.drop(quakes_data.loc[(quakes_data['Time_to_event'] <= 86400) & (quakes_data['Time_to_event'] > 0)].index, inplace = True)\n",
    "quakes_data.shape"
   ]
  },
  {
   "cell_type": "code",
   "execution_count": 12,
   "id": "cceb6187",
   "metadata": {},
   "outputs": [
    {
     "data": {
      "text/plain": [
       "Timestamp('1970-02-03 23:08:50')"
      ]
     },
     "execution_count": 12,
     "metadata": {},
     "output_type": "execute_result"
    }
   ],
   "source": [
    "#Let's update the start date and check if it changed.\n",
    "start_date = quakes_data.iloc[0,0]\n",
    "start_date"
   ]
  },
  {
   "cell_type": "code",
   "execution_count": 13,
   "id": "16b94a9c",
   "metadata": {},
   "outputs": [
    {
     "data": {
      "text/html": [
       "<div>\n",
       "<style scoped>\n",
       "    .dataframe tbody tr th:only-of-type {\n",
       "        vertical-align: middle;\n",
       "    }\n",
       "\n",
       "    .dataframe tbody tr th {\n",
       "        vertical-align: top;\n",
       "    }\n",
       "\n",
       "    .dataframe thead th {\n",
       "        text-align: right;\n",
       "    }\n",
       "</style>\n",
       "<table border=\"1\" class=\"dataframe\">\n",
       "  <thead>\n",
       "    <tr style=\"text-align: right;\">\n",
       "      <th></th>\n",
       "      <th>Date_Time</th>\n",
       "      <th>Year</th>\n",
       "      <th>Month</th>\n",
       "      <th>Day</th>\n",
       "      <th>Magnitude</th>\n",
       "      <th>Latitude</th>\n",
       "      <th>Longitude</th>\n",
       "      <th>Depth</th>\n",
       "      <th>State</th>\n",
       "      <th>Status</th>\n",
       "      <th>Time_to_event</th>\n",
       "    </tr>\n",
       "  </thead>\n",
       "  <tbody>\n",
       "    <tr>\n",
       "      <th>0</th>\n",
       "      <td>1970-02-03 23:08:50</td>\n",
       "      <td>1970</td>\n",
       "      <td>2</td>\n",
       "      <td>3</td>\n",
       "      <td>6.6</td>\n",
       "      <td>15.524</td>\n",
       "      <td>-99.493</td>\n",
       "      <td>21.0</td>\n",
       "      <td>GRO</td>\n",
       "      <td>1</td>\n",
       "      <td>0.0</td>\n",
       "    </tr>\n",
       "    <tr>\n",
       "      <th>1</th>\n",
       "      <td>1970-04-29 08:01:34</td>\n",
       "      <td>1970</td>\n",
       "      <td>4</td>\n",
       "      <td>29</td>\n",
       "      <td>7.3</td>\n",
       "      <td>14.463</td>\n",
       "      <td>-92.683</td>\n",
       "      <td>44.0</td>\n",
       "      <td>CHIS</td>\n",
       "      <td>1</td>\n",
       "      <td>7289564.0</td>\n",
       "    </tr>\n",
       "    <tr>\n",
       "      <th>3</th>\n",
       "      <td>1971-09-30 02:18:00</td>\n",
       "      <td>1971</td>\n",
       "      <td>9</td>\n",
       "      <td>30</td>\n",
       "      <td>6.5</td>\n",
       "      <td>26.880</td>\n",
       "      <td>-110.800</td>\n",
       "      <td>14.0</td>\n",
       "      <td>SON</td>\n",
       "      <td>1</td>\n",
       "      <td>52110550.0</td>\n",
       "    </tr>\n",
       "    <tr>\n",
       "      <th>4</th>\n",
       "      <td>1972-10-20 02:17:46</td>\n",
       "      <td>1972</td>\n",
       "      <td>10</td>\n",
       "      <td>20</td>\n",
       "      <td>6.6</td>\n",
       "      <td>18.700</td>\n",
       "      <td>-106.756</td>\n",
       "      <td>10.0</td>\n",
       "      <td>JAL</td>\n",
       "      <td>1</td>\n",
       "      <td>85460936.0</td>\n",
       "    </tr>\n",
       "    <tr>\n",
       "      <th>5</th>\n",
       "      <td>1972-11-12 22:43:45</td>\n",
       "      <td>1972</td>\n",
       "      <td>11</td>\n",
       "      <td>12</td>\n",
       "      <td>6.5</td>\n",
       "      <td>15.541</td>\n",
       "      <td>-95.040</td>\n",
       "      <td>14.0</td>\n",
       "      <td>OAX</td>\n",
       "      <td>1</td>\n",
       "      <td>87521695.0</td>\n",
       "    </tr>\n",
       "  </tbody>\n",
       "</table>\n",
       "</div>"
      ],
      "text/plain": [
       "            Date_Time  Year  Month  Day  Magnitude  Latitude  Longitude  \\\n",
       "0 1970-02-03 23:08:50  1970      2    3        6.6    15.524    -99.493   \n",
       "1 1970-04-29 08:01:34  1970      4   29        7.3    14.463    -92.683   \n",
       "3 1971-09-30 02:18:00  1971      9   30        6.5    26.880   -110.800   \n",
       "4 1972-10-20 02:17:46  1972     10   20        6.6    18.700   -106.756   \n",
       "5 1972-11-12 22:43:45  1972     11   12        6.5    15.541    -95.040   \n",
       "\n",
       "   Depth State  Status  Time_to_event  \n",
       "0   21.0   GRO       1            0.0  \n",
       "1   44.0  CHIS       1      7289564.0  \n",
       "3   14.0   SON       1     52110550.0  \n",
       "4   10.0   JAL       1     85460936.0  \n",
       "5   14.0   OAX       1     87521695.0  "
      ]
     },
     "execution_count": 13,
     "metadata": {},
     "output_type": "execute_result"
    }
   ],
   "source": [
    "#The start date is the same so we can proceed to make calculations again.\n",
    "quakes_data = time_to_event_calculations(quakes_data, start_date)\n",
    "quakes_data.head()"
   ]
  },
  {
   "cell_type": "markdown",
   "id": "3bb811de",
   "metadata": {},
   "source": [
    "We will leave the units in the 'Time_to_event' column as seconds. This is to have more granularity in the units and avoid several events to have the same time. By doing this we can expect to have a better result in the concordance index that we will calculate later on."
   ]
  },
  {
   "cell_type": "markdown",
   "id": "d1f0112f",
   "metadata": {},
   "source": [
    "Finally, let's make another feature that we will use in our model. This feature will represent the proximity that each area (state) has with one of the four tectonic plates in Mexico. Since there are 4 plates, this feature will be categorical with 4 classes. Let's create this feature and include it in our dataframe."
   ]
  },
  {
   "cell_type": "code",
   "execution_count": 14,
   "id": "376bf2ac",
   "metadata": {},
   "outputs": [
    {
     "name": "stdout",
     "output_type": "stream",
     "text": [
      "['NL', 'QRO', 'SLP', 'COAH', 'TAB', 'YUC', 'MEX', 'HGO', 'DGO', 'SON', 'TAMS', 'CHIH', 'PUE', 'GTO', 'CAMP', 'MOR', 'VER', 'TLAX', 'ZAC', 'CDMX', 'QR']\n"
     ]
    }
   ],
   "source": [
    "#Let's create the four categories we will use for this new feature.\n",
    "rivera = ['SIN', 'NAY', 'JAL']\n",
    "cocos = ['COL', 'MICH', 'GRO', 'OAX', 'CHIS']\n",
    "pacific = ['BC', 'BCS']\n",
    "north_america = list(set(quakes_data['State'].values) - set(rivera + cocos + pacific))\n",
    "print(north_america)"
   ]
  },
  {
   "cell_type": "code",
   "execution_count": 15,
   "id": "94cf0e2b",
   "metadata": {},
   "outputs": [
    {
     "data": {
      "text/plain": [
       "cocos            12012\n",
       "north_america     1923\n",
       "rivera            1247\n",
       "pacific           1242\n",
       "Name: Plate, dtype: int64"
      ]
     },
     "execution_count": 15,
     "metadata": {},
     "output_type": "execute_result"
    }
   ],
   "source": [
    "#Now let's create the new feature and assign its corresponding value based on the categories.\n",
    "quakes_data.insert(9, 'Plate', '')\n",
    "plates_list = [rivera, cocos, pacific, north_america]\n",
    "plates_categories = ['rivera', 'cocos', 'pacific', 'north_america']\n",
    "for i in range(len(plates_list)):\n",
    "    quakes_data['Plate'] = np.where((quakes_data.State.isin(plates_list[i])), plates_categories[i],quakes_data.Plate)\n",
    "quakes_data.Plate.value_counts()"
   ]
  },
  {
   "cell_type": "code",
   "execution_count": 16,
   "id": "0fae894a",
   "metadata": {},
   "outputs": [
    {
     "data": {
      "text/html": [
       "<div>\n",
       "<style scoped>\n",
       "    .dataframe tbody tr th:only-of-type {\n",
       "        vertical-align: middle;\n",
       "    }\n",
       "\n",
       "    .dataframe tbody tr th {\n",
       "        vertical-align: top;\n",
       "    }\n",
       "\n",
       "    .dataframe thead th {\n",
       "        text-align: right;\n",
       "    }\n",
       "</style>\n",
       "<table border=\"1\" class=\"dataframe\">\n",
       "  <thead>\n",
       "    <tr style=\"text-align: right;\">\n",
       "      <th></th>\n",
       "      <th>Date_Time</th>\n",
       "      <th>Year</th>\n",
       "      <th>Month</th>\n",
       "      <th>Day</th>\n",
       "      <th>Magnitude</th>\n",
       "      <th>Latitude</th>\n",
       "      <th>Longitude</th>\n",
       "      <th>Depth</th>\n",
       "      <th>State</th>\n",
       "      <th>Plate</th>\n",
       "      <th>Status</th>\n",
       "      <th>Time_to_event</th>\n",
       "    </tr>\n",
       "  </thead>\n",
       "  <tbody>\n",
       "    <tr>\n",
       "      <th>0</th>\n",
       "      <td>1970-02-03 23:08:50</td>\n",
       "      <td>1970</td>\n",
       "      <td>2</td>\n",
       "      <td>3</td>\n",
       "      <td>6.6</td>\n",
       "      <td>15.524</td>\n",
       "      <td>-99.493</td>\n",
       "      <td>21.0</td>\n",
       "      <td>GRO</td>\n",
       "      <td>cocos</td>\n",
       "      <td>1</td>\n",
       "      <td>0.0</td>\n",
       "    </tr>\n",
       "    <tr>\n",
       "      <th>1</th>\n",
       "      <td>1970-04-29 08:01:34</td>\n",
       "      <td>1970</td>\n",
       "      <td>4</td>\n",
       "      <td>29</td>\n",
       "      <td>7.3</td>\n",
       "      <td>14.463</td>\n",
       "      <td>-92.683</td>\n",
       "      <td>44.0</td>\n",
       "      <td>CHIS</td>\n",
       "      <td>cocos</td>\n",
       "      <td>1</td>\n",
       "      <td>7289564.0</td>\n",
       "    </tr>\n",
       "    <tr>\n",
       "      <th>3</th>\n",
       "      <td>1971-09-30 02:18:00</td>\n",
       "      <td>1971</td>\n",
       "      <td>9</td>\n",
       "      <td>30</td>\n",
       "      <td>6.5</td>\n",
       "      <td>26.880</td>\n",
       "      <td>-110.800</td>\n",
       "      <td>14.0</td>\n",
       "      <td>SON</td>\n",
       "      <td>north_america</td>\n",
       "      <td>1</td>\n",
       "      <td>52110550.0</td>\n",
       "    </tr>\n",
       "    <tr>\n",
       "      <th>4</th>\n",
       "      <td>1972-10-20 02:17:46</td>\n",
       "      <td>1972</td>\n",
       "      <td>10</td>\n",
       "      <td>20</td>\n",
       "      <td>6.6</td>\n",
       "      <td>18.700</td>\n",
       "      <td>-106.756</td>\n",
       "      <td>10.0</td>\n",
       "      <td>JAL</td>\n",
       "      <td>rivera</td>\n",
       "      <td>1</td>\n",
       "      <td>85460936.0</td>\n",
       "    </tr>\n",
       "    <tr>\n",
       "      <th>5</th>\n",
       "      <td>1972-11-12 22:43:45</td>\n",
       "      <td>1972</td>\n",
       "      <td>11</td>\n",
       "      <td>12</td>\n",
       "      <td>6.5</td>\n",
       "      <td>15.541</td>\n",
       "      <td>-95.040</td>\n",
       "      <td>14.0</td>\n",
       "      <td>OAX</td>\n",
       "      <td>cocos</td>\n",
       "      <td>1</td>\n",
       "      <td>87521695.0</td>\n",
       "    </tr>\n",
       "  </tbody>\n",
       "</table>\n",
       "</div>"
      ],
      "text/plain": [
       "            Date_Time  Year  Month  Day  Magnitude  Latitude  Longitude  \\\n",
       "0 1970-02-03 23:08:50  1970      2    3        6.6    15.524    -99.493   \n",
       "1 1970-04-29 08:01:34  1970      4   29        7.3    14.463    -92.683   \n",
       "3 1971-09-30 02:18:00  1971      9   30        6.5    26.880   -110.800   \n",
       "4 1972-10-20 02:17:46  1972     10   20        6.6    18.700   -106.756   \n",
       "5 1972-11-12 22:43:45  1972     11   12        6.5    15.541    -95.040   \n",
       "\n",
       "   Depth State          Plate  Status  Time_to_event  \n",
       "0   21.0   GRO          cocos       1            0.0  \n",
       "1   44.0  CHIS          cocos       1      7289564.0  \n",
       "3   14.0   SON  north_america       1     52110550.0  \n",
       "4   10.0   JAL         rivera       1     85460936.0  \n",
       "5   14.0   OAX          cocos       1     87521695.0  "
      ]
     },
     "execution_count": 16,
     "metadata": {},
     "output_type": "execute_result"
    }
   ],
   "source": [
    "quakes_data.head()"
   ]
  },
  {
   "cell_type": "markdown",
   "id": "ff093df5",
   "metadata": {},
   "source": [
    "As we can see, the dominant category is cocos plate which only considers 5 states.<br><br>\n",
    "Now, we have our data ready to apply some preprocessing steps.\n",
    "Let's first segregate our data into features (X) and labels (y)"
   ]
  },
  {
   "cell_type": "code",
   "execution_count": 17,
   "id": "13e51310",
   "metadata": {},
   "outputs": [],
   "source": [
    "#We will leave out 'Date_Time' and 'Year' columns and consider the rest of the features.\n",
    "X_cols = ['Month', 'Day', 'Magnitude', 'Latitude', 'Longitude', 'Depth', 'State', 'Plate']\n",
    "X = quakes_data[X_cols]\n",
    "y = quakes_data[['Status', 'Time_to_event']]"
   ]
  },
  {
   "cell_type": "markdown",
   "id": "14824dc3",
   "metadata": {},
   "source": [
    "We mentioned before that we are trying to apply survival analysis to our problem, so we need to consider our 'Status' column as type boolean and our 'Days_to_event' column as type float. Let's change the data types accordingly."
   ]
  },
  {
   "cell_type": "code",
   "execution_count": 18,
   "id": "6d8968c0",
   "metadata": {},
   "outputs": [],
   "source": [
    "y['Status'] = y['Status'].astype('boolean')\n",
    "y['Time_to_event'] = y['Time_to_event'].astype('float')\n",
    "#We change the 'State' and 'Plate' features to category type to be able to encode them.\n",
    "#We will also consider the 'Month' and 'Day' features as nominal categories, which we will encode.\n",
    "X['State'] = X['State'].astype('category')\n",
    "X['Plate'] = X['Plate'].astype('category')\n",
    "X['Month'] = X['Month'].astype('str').astype('category')\n",
    "X['Day'] = X['Day'].astype('str').astype('category')"
   ]
  },
  {
   "cell_type": "markdown",
   "id": "ab3f3738",
   "metadata": {},
   "source": [
    "Additionally we will have to transform our 'y' to a structured array. We will do first this before dealing with any preprocessing of our features."
   ]
  },
  {
   "cell_type": "code",
   "execution_count": 19,
   "id": "a76adf61",
   "metadata": {},
   "outputs": [],
   "source": [
    "y_array = y[['Status', 'Time_to_event']].to_numpy()\n",
    "\n",
    "#List of tuples\n",
    "aux = [(e1,e2) for e1,e2 in y_array]\n",
    "\n",
    "#Structured array\n",
    "y_array = np.array(aux, dtype=[('Status', '?'), ('Time_to_event', '<f8')])"
   ]
  },
  {
   "cell_type": "markdown",
   "id": "c51f9a28",
   "metadata": {},
   "source": [
    "Now, we can preprocess our features. First, Let's now check our numerical features to see if we need to stardardize them."
   ]
  },
  {
   "cell_type": "code",
   "execution_count": 20,
   "id": "7f07f0b3",
   "metadata": {},
   "outputs": [
    {
     "data": {
      "text/html": [
       "<div>\n",
       "<style scoped>\n",
       "    .dataframe tbody tr th:only-of-type {\n",
       "        vertical-align: middle;\n",
       "    }\n",
       "\n",
       "    .dataframe tbody tr th {\n",
       "        vertical-align: top;\n",
       "    }\n",
       "\n",
       "    .dataframe thead th {\n",
       "        text-align: right;\n",
       "    }\n",
       "</style>\n",
       "<table border=\"1\" class=\"dataframe\">\n",
       "  <thead>\n",
       "    <tr style=\"text-align: right;\">\n",
       "      <th></th>\n",
       "      <th>Magnitude</th>\n",
       "      <th>Latitude</th>\n",
       "      <th>Longitude</th>\n",
       "      <th>Depth</th>\n",
       "    </tr>\n",
       "  </thead>\n",
       "  <tbody>\n",
       "    <tr>\n",
       "      <th>count</th>\n",
       "      <td>16424.000000</td>\n",
       "      <td>16424.000000</td>\n",
       "      <td>16424.000000</td>\n",
       "      <td>16424.000000</td>\n",
       "    </tr>\n",
       "    <tr>\n",
       "      <th>mean</th>\n",
       "      <td>4.296432</td>\n",
       "      <td>17.870507</td>\n",
       "      <td>-99.101216</td>\n",
       "      <td>41.153172</td>\n",
       "    </tr>\n",
       "    <tr>\n",
       "      <th>std</th>\n",
       "      <td>0.403712</td>\n",
       "      <td>3.991145</td>\n",
       "      <td>6.099805</td>\n",
       "      <td>45.275427</td>\n",
       "    </tr>\n",
       "    <tr>\n",
       "      <th>min</th>\n",
       "      <td>4.000000</td>\n",
       "      <td>10.271000</td>\n",
       "      <td>-120.595000</td>\n",
       "      <td>1.000000</td>\n",
       "    </tr>\n",
       "    <tr>\n",
       "      <th>25%</th>\n",
       "      <td>4.000000</td>\n",
       "      <td>15.665600</td>\n",
       "      <td>-102.010000</td>\n",
       "      <td>10.000000</td>\n",
       "    </tr>\n",
       "    <tr>\n",
       "      <th>50%</th>\n",
       "      <td>4.200000</td>\n",
       "      <td>16.882100</td>\n",
       "      <td>-98.260000</td>\n",
       "      <td>20.000000</td>\n",
       "    </tr>\n",
       "    <tr>\n",
       "      <th>75%</th>\n",
       "      <td>4.400000</td>\n",
       "      <td>18.230000</td>\n",
       "      <td>-94.390000</td>\n",
       "      <td>57.100000</td>\n",
       "    </tr>\n",
       "    <tr>\n",
       "      <th>max</th>\n",
       "      <td>8.200000</td>\n",
       "      <td>33.127700</td>\n",
       "      <td>-85.546700</td>\n",
       "      <td>338.000000</td>\n",
       "    </tr>\n",
       "  </tbody>\n",
       "</table>\n",
       "</div>"
      ],
      "text/plain": [
       "          Magnitude      Latitude     Longitude         Depth\n",
       "count  16424.000000  16424.000000  16424.000000  16424.000000\n",
       "mean       4.296432     17.870507    -99.101216     41.153172\n",
       "std        0.403712      3.991145      6.099805     45.275427\n",
       "min        4.000000     10.271000   -120.595000      1.000000\n",
       "25%        4.000000     15.665600   -102.010000     10.000000\n",
       "50%        4.200000     16.882100    -98.260000     20.000000\n",
       "75%        4.400000     18.230000    -94.390000     57.100000\n",
       "max        8.200000     33.127700    -85.546700    338.000000"
      ]
     },
     "execution_count": 20,
     "metadata": {},
     "output_type": "execute_result"
    }
   ],
   "source": [
    "X.describe()"
   ]
  },
  {
   "cell_type": "markdown",
   "id": "bfbfb0be",
   "metadata": {},
   "source": [
    "We see that our features don't span accross the same ranges so it might be a good idea to standardize them. We will use a standard scaler for this task. Additionally, we will encode our categorical features."
   ]
  },
  {
   "cell_type": "code",
   "execution_count": 21,
   "id": "dd1a05b1",
   "metadata": {},
   "outputs": [
    {
     "data": {
      "text/html": [
       "<div>\n",
       "<style scoped>\n",
       "    .dataframe tbody tr th:only-of-type {\n",
       "        vertical-align: middle;\n",
       "    }\n",
       "\n",
       "    .dataframe tbody tr th {\n",
       "        vertical-align: top;\n",
       "    }\n",
       "\n",
       "    .dataframe thead th {\n",
       "        text-align: right;\n",
       "    }\n",
       "</style>\n",
       "<table border=\"1\" class=\"dataframe\">\n",
       "  <thead>\n",
       "    <tr style=\"text-align: right;\">\n",
       "      <th></th>\n",
       "      <th>Month=10</th>\n",
       "      <th>Month=11</th>\n",
       "      <th>Month=12</th>\n",
       "      <th>Month=2</th>\n",
       "      <th>Month=3</th>\n",
       "      <th>Month=4</th>\n",
       "      <th>Month=5</th>\n",
       "      <th>Month=6</th>\n",
       "      <th>Month=7</th>\n",
       "      <th>Month=8</th>\n",
       "      <th>...</th>\n",
       "      <th>State=SON</th>\n",
       "      <th>State=TAB</th>\n",
       "      <th>State=TAMS</th>\n",
       "      <th>State=TLAX</th>\n",
       "      <th>State=VER</th>\n",
       "      <th>State=YUC</th>\n",
       "      <th>State=ZAC</th>\n",
       "      <th>Plate=north_america</th>\n",
       "      <th>Plate=pacific</th>\n",
       "      <th>Plate=rivera</th>\n",
       "    </tr>\n",
       "  </thead>\n",
       "  <tbody>\n",
       "    <tr>\n",
       "      <th>0</th>\n",
       "      <td>0.0</td>\n",
       "      <td>0.0</td>\n",
       "      <td>0.0</td>\n",
       "      <td>1.0</td>\n",
       "      <td>0.0</td>\n",
       "      <td>0.0</td>\n",
       "      <td>0.0</td>\n",
       "      <td>0.0</td>\n",
       "      <td>0.0</td>\n",
       "      <td>0.0</td>\n",
       "      <td>...</td>\n",
       "      <td>0.0</td>\n",
       "      <td>0.0</td>\n",
       "      <td>0.0</td>\n",
       "      <td>0.0</td>\n",
       "      <td>0.0</td>\n",
       "      <td>0.0</td>\n",
       "      <td>0.0</td>\n",
       "      <td>0.0</td>\n",
       "      <td>0.0</td>\n",
       "      <td>0.0</td>\n",
       "    </tr>\n",
       "    <tr>\n",
       "      <th>1</th>\n",
       "      <td>0.0</td>\n",
       "      <td>0.0</td>\n",
       "      <td>0.0</td>\n",
       "      <td>0.0</td>\n",
       "      <td>0.0</td>\n",
       "      <td>1.0</td>\n",
       "      <td>0.0</td>\n",
       "      <td>0.0</td>\n",
       "      <td>0.0</td>\n",
       "      <td>0.0</td>\n",
       "      <td>...</td>\n",
       "      <td>0.0</td>\n",
       "      <td>0.0</td>\n",
       "      <td>0.0</td>\n",
       "      <td>0.0</td>\n",
       "      <td>0.0</td>\n",
       "      <td>0.0</td>\n",
       "      <td>0.0</td>\n",
       "      <td>0.0</td>\n",
       "      <td>0.0</td>\n",
       "      <td>0.0</td>\n",
       "    </tr>\n",
       "    <tr>\n",
       "      <th>3</th>\n",
       "      <td>0.0</td>\n",
       "      <td>0.0</td>\n",
       "      <td>0.0</td>\n",
       "      <td>0.0</td>\n",
       "      <td>0.0</td>\n",
       "      <td>0.0</td>\n",
       "      <td>0.0</td>\n",
       "      <td>0.0</td>\n",
       "      <td>0.0</td>\n",
       "      <td>0.0</td>\n",
       "      <td>...</td>\n",
       "      <td>1.0</td>\n",
       "      <td>0.0</td>\n",
       "      <td>0.0</td>\n",
       "      <td>0.0</td>\n",
       "      <td>0.0</td>\n",
       "      <td>0.0</td>\n",
       "      <td>0.0</td>\n",
       "      <td>1.0</td>\n",
       "      <td>0.0</td>\n",
       "      <td>0.0</td>\n",
       "    </tr>\n",
       "    <tr>\n",
       "      <th>4</th>\n",
       "      <td>1.0</td>\n",
       "      <td>0.0</td>\n",
       "      <td>0.0</td>\n",
       "      <td>0.0</td>\n",
       "      <td>0.0</td>\n",
       "      <td>0.0</td>\n",
       "      <td>0.0</td>\n",
       "      <td>0.0</td>\n",
       "      <td>0.0</td>\n",
       "      <td>0.0</td>\n",
       "      <td>...</td>\n",
       "      <td>0.0</td>\n",
       "      <td>0.0</td>\n",
       "      <td>0.0</td>\n",
       "      <td>0.0</td>\n",
       "      <td>0.0</td>\n",
       "      <td>0.0</td>\n",
       "      <td>0.0</td>\n",
       "      <td>0.0</td>\n",
       "      <td>0.0</td>\n",
       "      <td>1.0</td>\n",
       "    </tr>\n",
       "    <tr>\n",
       "      <th>5</th>\n",
       "      <td>0.0</td>\n",
       "      <td>1.0</td>\n",
       "      <td>0.0</td>\n",
       "      <td>0.0</td>\n",
       "      <td>0.0</td>\n",
       "      <td>0.0</td>\n",
       "      <td>0.0</td>\n",
       "      <td>0.0</td>\n",
       "      <td>0.0</td>\n",
       "      <td>0.0</td>\n",
       "      <td>...</td>\n",
       "      <td>0.0</td>\n",
       "      <td>0.0</td>\n",
       "      <td>0.0</td>\n",
       "      <td>0.0</td>\n",
       "      <td>0.0</td>\n",
       "      <td>0.0</td>\n",
       "      <td>0.0</td>\n",
       "      <td>0.0</td>\n",
       "      <td>0.0</td>\n",
       "      <td>0.0</td>\n",
       "    </tr>\n",
       "  </tbody>\n",
       "</table>\n",
       "<p>5 rows × 78 columns</p>\n",
       "</div>"
      ],
      "text/plain": [
       "   Month=10  Month=11  Month=12  Month=2  Month=3  Month=4  Month=5  Month=6  \\\n",
       "0       0.0       0.0       0.0      1.0      0.0      0.0      0.0      0.0   \n",
       "1       0.0       0.0       0.0      0.0      0.0      1.0      0.0      0.0   \n",
       "3       0.0       0.0       0.0      0.0      0.0      0.0      0.0      0.0   \n",
       "4       1.0       0.0       0.0      0.0      0.0      0.0      0.0      0.0   \n",
       "5       0.0       1.0       0.0      0.0      0.0      0.0      0.0      0.0   \n",
       "\n",
       "   Month=7  Month=8  ...  State=SON  State=TAB  State=TAMS  State=TLAX  \\\n",
       "0      0.0      0.0  ...        0.0        0.0         0.0         0.0   \n",
       "1      0.0      0.0  ...        0.0        0.0         0.0         0.0   \n",
       "3      0.0      0.0  ...        1.0        0.0         0.0         0.0   \n",
       "4      0.0      0.0  ...        0.0        0.0         0.0         0.0   \n",
       "5      0.0      0.0  ...        0.0        0.0         0.0         0.0   \n",
       "\n",
       "   State=VER  State=YUC  State=ZAC  Plate=north_america  Plate=pacific  \\\n",
       "0        0.0        0.0        0.0                  0.0            0.0   \n",
       "1        0.0        0.0        0.0                  0.0            0.0   \n",
       "3        0.0        0.0        0.0                  1.0            0.0   \n",
       "4        0.0        0.0        0.0                  0.0            0.0   \n",
       "5        0.0        0.0        0.0                  0.0            0.0   \n",
       "\n",
       "   Plate=rivera  \n",
       "0           0.0  \n",
       "1           0.0  \n",
       "3           0.0  \n",
       "4           1.0  \n",
       "5           0.0  \n",
       "\n",
       "[5 rows x 78 columns]"
      ]
     },
     "execution_count": 21,
     "metadata": {},
     "output_type": "execute_result"
    }
   ],
   "source": [
    "from sksurv.column import standardize\n",
    "from sksurv.preprocessing import OneHotEncoder\n",
    "\n",
    "\n",
    "X_std = standardize(X)\n",
    "X_scaled = OneHotEncoder().fit_transform(X_std)\n",
    "X_scaled.head()"
   ]
  },
  {
   "cell_type": "markdown",
   "id": "ff077d4b",
   "metadata": {},
   "source": [
    "We have our data ready to do a train_test_split. We will consider an 80% train set and 20% test set and we will seed at 0 for reproducibility."
   ]
  },
  {
   "cell_type": "code",
   "execution_count": 22,
   "id": "872cb8bd",
   "metadata": {},
   "outputs": [],
   "source": [
    "from sklearn.model_selection import train_test_split\n",
    "\n",
    "X_train, X_test, y_train, y_test = train_test_split(\n",
    "    X_scaled, y_array, test_size=0.2, random_state=0)"
   ]
  },
  {
   "cell_type": "code",
   "execution_count": 23,
   "id": "a1bd23ee",
   "metadata": {},
   "outputs": [
    {
     "data": {
      "text/plain": [
       "(((13139, 78), (13139,)), ((3285, 78), (3285,)))"
      ]
     },
     "execution_count": 23,
     "metadata": {},
     "output_type": "execute_result"
    }
   ],
   "source": [
    "(X_train.shape, y_train.shape), (X_test.shape, y_test.shape)"
   ]
  },
  {
   "cell_type": "markdown",
   "id": "0e3ff4d6",
   "metadata": {},
   "source": [
    "Let's first use a Kaplan Meier estimator to plot a step function which will show us the survival probability or in this case the  big-earthquake-free probability along time"
   ]
  },
  {
   "cell_type": "code",
   "execution_count": 24,
   "id": "3da33a6e",
   "metadata": {},
   "outputs": [
    {
     "data": {
      "text/plain": [
       "Text(0.5, 0, 'time $t$')"
      ]
     },
     "execution_count": 24,
     "metadata": {},
     "output_type": "execute_result"
    },
    {
     "data": {
      "image/png": "[encoded data removed]",
      "text/plain": [
       "<Figure size 432x288 with 1 Axes>"
      ]
     },
     "metadata": {
      "needs_background": "light"
     },
     "output_type": "display_data"
    }
   ],
   "source": [
    "from sksurv.nonparametric import kaplan_meier_estimator\n",
    "\n",
    "time, survival_prob = kaplan_meier_estimator(y_array['Status'], y_array['Time_to_event'])\n",
    "plt.step(time, survival_prob, where='post')\n",
    "plt.ylabel('Probability of no big earthquake')\n",
    "plt.xlabel('time $t$')"
   ]
  },
  {
   "cell_type": "markdown",
   "id": "e1996b99",
   "metadata": {},
   "source": [
    "It looks like most of the big events happened within .35*10^9 seconds (~11 years)."
   ]
  },
  {
   "cell_type": "markdown",
   "id": "2b047b6b",
   "metadata": {},
   "source": [
    "Now, for an initial test, let's train a Cox’s proportional hazard’s model and check the concordance index, which is a measure of rank correlation between predicted risk scores and observed time points."
   ]
  },
  {
   "cell_type": "code",
   "execution_count": 25,
   "id": "dab03b68",
   "metadata": {},
   "outputs": [
    {
     "data": {
      "text/plain": [
       "CoxPHSurvivalAnalysis()"
      ]
     },
     "execution_count": 25,
     "metadata": {},
     "output_type": "execute_result"
    }
   ],
   "source": [
    "from sksurv.linear_model import CoxPHSurvivalAnalysis\n",
    "\n",
    "estimator = CoxPHSurvivalAnalysis()\n",
    "estimator.fit(X_train, y_train)"
   ]
  },
  {
   "cell_type": "code",
   "execution_count": 26,
   "id": "eef6c32f",
   "metadata": {},
   "outputs": [
    {
     "name": "stdout",
     "output_type": "stream",
     "text": [
      "Concordance index on train set: 0.9657763584874803\n",
      "The number of concordant pairs on train set: 112201\n",
      "The number of discordant pairs on train set: 3976\n",
      "\n",
      "Concordance index on test set: 0.8390528483184626\n",
      "The number of concordant pairs on test set: 4890\n",
      "The number of discordant pairs on test set: 938\n"
     ]
    }
   ],
   "source": [
    "from sksurv.metrics import concordance_index_censored as ci\n",
    "\n",
    "y_tr_pred = estimator.predict(X_train)\n",
    "y_ts_pred = estimator.predict(X_test)\n",
    "train_ci = ci(y_train['Status'], y_train['Time_to_event'], y_tr_pred)\n",
    "test_ci = ci(y_test['Status'], y_test['Time_to_event'], y_ts_pred)\n",
    "\n",
    "print('Concordance index on train set:', train_ci[0])\n",
    "print('The number of concordant pairs on train set:', train_ci[1])\n",
    "print('The number of discordant pairs on train set:', train_ci[2])\n",
    "print('\\nConcordance index on test set:', test_ci[0])\n",
    "print('The number of concordant pairs on test set:', test_ci[1])\n",
    "print('The number of discordant pairs on test set:', test_ci[2])"
   ]
  },
  {
   "cell_type": "markdown",
   "id": "78358ac3",
   "metadata": {},
   "source": [
    "Basically what we see here is that our model is doing not so bad in classifying pairs. This means that in the test set, 83% of the pairs where ordered correctly as concordant. This only means that if we consider a concordant pair of events, the one with higher estimated risk score has a shorter actual survival time. "
   ]
  },
  {
   "cell_type": "markdown",
   "id": "0b4c640d",
   "metadata": {},
   "source": [
    "The problem when using this metric (__concordance_index_censored__) is that for high censored data, it overestimates the result. Our data is highly right-censored, so we need an alternative metric. In this case we use a different metric, which is __concordance_index_ipcw__. Let's check how much different is the result with this metric using the same estimator (CoxPHSurvivalAnalysis). "
   ]
  },
  {
   "cell_type": "code",
   "execution_count": 27,
   "id": "7c9a592c",
   "metadata": {},
   "outputs": [
    {
     "name": "stdout",
     "output_type": "stream",
     "text": [
      "Concordance index: 0.7664229025175605\n",
      "The number of concordant pairs 4890\n",
      "The number of discordant pairs 938\n"
     ]
    }
   ],
   "source": [
    "from sksurv.metrics import concordance_index_ipcw as cip\n",
    "\n",
    "y_ts_pred = estimator.predict(X_test)\n",
    "test_cip = cip(y_train, y_test, y_ts_pred)\n",
    "\n",
    "print('Concordance index:', test_cip[0])\n",
    "print('The number of concordant pairs', test_cip[1])\n",
    "print('The number of discordant pairs', test_cip[2])"
   ]
  },
  {
   "cell_type": "markdown",
   "id": "5ee8fcec",
   "metadata": {},
   "source": [
    "We see that the concordance index decreased from the previous result. We can interpret this as an over estimate in the first calculation. From this point on, we will use the concordance_index_ipcw metric to evaluate other model's performance. "
   ]
  },
  {
   "cell_type": "markdown",
   "id": "c040adbc",
   "metadata": {},
   "source": [
    "Now let's check how is our model doing in terms of identifying events (earthquakes >= M6.0) within a certain time, or after it. We plot the cumulative dynamic AUC to find out. "
   ]
  },
  {
   "cell_type": "code",
   "execution_count": 28,
   "id": "01886424",
   "metadata": {},
   "outputs": [
    {
     "data": {
      "image/png": "[encoded data removed]",
      "text/plain": [
       "<Figure size 432x288 with 1 Axes>"
      ]
     },
     "metadata": {
      "needs_background": "light"
     },
     "output_type": "display_data"
    }
   ],
   "source": [
    "#code adapted from https://scikit-survival.readthedocs.io/en/stable/user_guide/evaluating-survival-models.html\n",
    "from sksurv.metrics import cumulative_dynamic_auc\n",
    "\n",
    "time_range = np.arange(86428, 705666283, 31536000)\n",
    "#We use the predict method which on this model only returns a time-independent risk score.\n",
    "#This is the limitation of this model which does not return a time-dependent risk function.\n",
    "scores = estimator.predict(X_test)\n",
    "cph_auc, cph_mean_auc = cumulative_dynamic_auc(\n",
    "    y_train, y_test, scores, time_range\n",
    ")\n",
    "\n",
    "cph_mean_auc = cph_auc[~np.isnan(cph_auc)].mean()\n",
    "\n",
    "plt.plot(time_range, cph_auc, marker=\"o\")\n",
    "plt.axhline(cph_mean_auc, linestyle=\"--\")\n",
    "plt.xlabel('seconds from start date')\n",
    "plt.ylabel('AUC')\n",
    "plt.grid(True)"
   ]
  },
  {
   "cell_type": "markdown",
   "id": "1a6ef74d",
   "metadata": {},
   "source": [
    "We see that our model clearly does not do a good job, with a mean of ~ 57% (almost like a random model), at identifying big events (earthquakes >= M6.0) by a given time from  big events after this time. In our case, our model performs much better with a time threshold of ~ 3*10^8 seconds (~ 9.5 years)."
   ]
  },
  {
   "cell_type": "markdown",
   "id": "4cf844fe",
   "metadata": {},
   "source": [
    "Now let's try to do a similar experiment with a random survival forest model and compare the results with our previous model."
   ]
  },
  {
   "cell_type": "code",
   "execution_count": 29,
   "id": "dfb8ce96",
   "metadata": {},
   "outputs": [
    {
     "data": {
      "text/plain": [
       "RandomSurvivalForest(random_state=0)"
      ]
     },
     "execution_count": 29,
     "metadata": {},
     "output_type": "execute_result"
    }
   ],
   "source": [
    "from sksurv.ensemble import RandomSurvivalForest\n",
    "\n",
    "rsf = RandomSurvivalForest(random_state=0)\n",
    "rsf.fit(X_train, y_train)"
   ]
  },
  {
   "cell_type": "code",
   "execution_count": 30,
   "id": "25d0b124",
   "metadata": {},
   "outputs": [
    {
     "name": "stdout",
     "output_type": "stream",
     "text": [
      "Concordance index: 0.8452042784495192\n",
      "The number of concordant pairs 5553\n",
      "The number of discordant pairs 275\n"
     ]
    }
   ],
   "source": [
    "y_ts_pred = rsf.predict(X_test)\n",
    "test_cip = cip(y_train, y_test, y_ts_pred)\n",
    "\n",
    "print('Concordance index:', test_cip[0])\n",
    "print('The number of concordant pairs', test_cip[1])\n",
    "print('The number of discordant pairs', test_cip[2])"
   ]
  },
  {
   "cell_type": "markdown",
   "id": "256074fa",
   "metadata": {},
   "source": [
    "We can see clearly that the concordance index in the random survival forest (rsf) model is much better than the Cox’s proportional hazard’s model. Let's now plot the AUC for both models and compare them."
   ]
  },
  {
   "cell_type": "code",
   "execution_count": 31,
   "id": "0fdbab17",
   "metadata": {},
   "outputs": [],
   "source": [
    "#In the rsf model we can return a time-dependent risk function by using the predictive_cumulative_hazard_function method.\n",
    "rsf_chf_funcs = rsf.predict_cumulative_hazard_function(X_test, return_array=False)\n",
    "rsf_risk_scores = np.row_stack([chf(time_range) for chf in rsf_chf_funcs])\n",
    "rsf_auc, rsf_mean_auc = cumulative_dynamic_auc(\n",
    "    y_train, y_test, rsf_risk_scores, time_range\n",
    ")\n",
    "\n",
    "rsf_mean_auc = rsf_auc[~np.isnan(rsf_auc)].mean()"
   ]
  },
  {
   "cell_type": "code",
   "execution_count": 32,
   "id": "cc312dd6",
   "metadata": {},
   "outputs": [
    {
     "data": {
      "image/png": "[encoded data removed]",
      "text/plain": [
       "<Figure size 432x288 with 1 Axes>"
      ]
     },
     "metadata": {
      "needs_background": "light"
     },
     "output_type": "display_data"
    }
   ],
   "source": [
    "plt.plot(time_range, cph_auc, 'o-', label=\"CoxPH (mean AUC = {:.3f})\".format(cph_mean_auc))\n",
    "plt.plot(time_range, rsf_auc, 'o-', label=\"RSF (mean AUC = {:.3f})\".format(rsf_mean_auc))\n",
    "plt.xlabel('Seconds from start date')\n",
    "plt.ylabel('AUC')\n",
    "plt.legend(loc=\"lower center\")\n",
    "plt.grid(True)"
   ]
  },
  {
   "cell_type": "markdown",
   "id": "7cc705b1",
   "metadata": {},
   "source": [
    "There is a very big difference in the performance of both models. Clearly the random survival forest model outperforms the Cox's proportional hazards one. So we will decide for the rsf model and try to see if, by applying cross validation and gridsearch, we can improve more its results.  "
   ]
  },
  {
   "cell_type": "markdown",
   "id": "1ae1e1f4",
   "metadata": {},
   "source": [
    "In the next step, we will check if we can improve even more the performance of the rsf model, by doing a randomized search and selecting the model with the best hyperparameters"
   ]
  },
  {
   "cell_type": "code",
   "execution_count": 33,
   "id": "97d378fa",
   "metadata": {},
   "outputs": [],
   "source": [
    "#We will use a function to create a distribution for integer values\n",
    "#Code adapted from: https://github.com/INRIA/scikit-learn-mooc/blob/main/notebooks/parameter_tuning_randomized_search.ipynb\n",
    "from scipy.stats import loguniform\n",
    "\n",
    "\n",
    "class loguniform_int:\n",
    "    \"\"\"Integer valued version of the log-uniform distribution\"\"\"\n",
    "    def __init__(self, a, b):\n",
    "        self._distribution = loguniform(a, b)\n",
    "\n",
    "    def rvs(self, *args, **kwargs):\n",
    "        \"\"\"Random variable sample\"\"\"\n",
    "        return self._distribution.rvs(*args, **kwargs).astype(int)"
   ]
  },
  {
   "cell_type": "code",
   "execution_count": 34,
   "id": "c4e6b21d",
   "metadata": {},
   "outputs": [],
   "source": [
    "#We do a 5 splits cross validation\n",
    "from sklearn.model_selection import KFold\n",
    "\n",
    "cv = KFold(n_splits=5, shuffle=True, random_state=0)"
   ]
  },
  {
   "cell_type": "code",
   "execution_count": 35,
   "id": "fde47545",
   "metadata": {},
   "outputs": [
    {
     "name": "stdout",
     "output_type": "stream",
     "text": [
      "Fitting 5 folds for each of 10 candidates, totalling 50 fits\n",
      "CPU times: user 9min 59s, sys: 1.36 s, total: 10min\n",
      "Wall time: 1h 43min 44s\n"
     ]
    },
    {
     "data": {
      "text/plain": [
       "RandomizedSearchCV(cv=KFold(n_splits=5, random_state=0, shuffle=True),\n",
       "                   estimator=RandomSurvivalForest(random_state=0), n_jobs=-1,\n",
       "                   param_distributions={'max_depth': <__main__.loguniform_int object at 0x7fb3be677340>,\n",
       "                                        'n_estimators': <__main__.loguniform_int object at 0x7fb3be6776a0>},\n",
       "                   verbose=1)"
      ]
     },
     "execution_count": 35,
     "metadata": {},
     "output_type": "execute_result"
    }
   ],
   "source": [
    "%%time\n",
    "#We use randomized search to try to get the best hyperparameters and reduce the computational time\n",
    "#We will try to optimize the values for the 'max_depth' and 'n_estimators' hyperparameters\n",
    "from sklearn.model_selection import RandomizedSearchCV\n",
    "\n",
    "rsf = RandomSurvivalForest(random_state=0)\n",
    "param_distributions = {\n",
    "    'max_depth': loguniform_int(1, 10),\n",
    "    'n_estimators': loguniform_int(100, 300)\n",
    "}\n",
    "\n",
    "rsf_random_search = RandomizedSearchCV(\n",
    "    rsf, param_distributions=param_distributions, n_iter=10,\n",
    "    cv=cv, verbose=1, n_jobs=-1,\n",
    ")\n",
    "rsf_random_search.fit(X_train, y_train)"
   ]
  },
  {
   "cell_type": "code",
   "execution_count": 36,
   "id": "7ac9578c",
   "metadata": {},
   "outputs": [
    {
     "name": "stdout",
     "output_type": "stream",
     "text": [
      "The best model is: RandomSurvivalForest(max_depth=7, n_estimators=248, random_state=0)\n"
     ]
    }
   ],
   "source": [
    "rsf_best = rsf_random_search.best_estimator_\n",
    "print('The best model is:', rsf_best)"
   ]
  },
  {
   "cell_type": "markdown",
   "id": "0dfd2ec2",
   "metadata": {},
   "source": [
    "After the randomized search for the best hyperparameters, we ended with a model with a __max_depth=7__ and __n_estimators=248__. It took 1 hour and 44 minutes to fit this model with the search. Let's see if this optimized model performs better than the default rsf model. "
   ]
  },
  {
   "cell_type": "code",
   "execution_count": 37,
   "id": "ff27c700",
   "metadata": {},
   "outputs": [
    {
     "name": "stdout",
     "output_type": "stream",
     "text": [
      "Concordance index: 0.8296177644806861\n",
      "The number of concordant pairs 5261\n",
      "The number of discordant pairs 567\n"
     ]
    }
   ],
   "source": [
    "y_ts_pred = rsf_best.predict(X_test)\n",
    "test_cip = cip(y_train, y_test, y_ts_pred)\n",
    "\n",
    "print('Concordance index:', test_cip[0])\n",
    "print('The number of concordant pairs', test_cip[1])\n",
    "print('The number of discordant pairs', test_cip[2])"
   ]
  },
  {
   "cell_type": "markdown",
   "id": "dc3c4568",
   "metadata": {},
   "source": [
    "We see that this \"optimized\" model does a little worse than the standard rsf model. Now, let's see how the AUC plot looks like."
   ]
  },
  {
   "cell_type": "code",
   "execution_count": 38,
   "id": "c6f0afc0",
   "metadata": {},
   "outputs": [],
   "source": [
    "rsf_chf_funcs = rsf_best.predict_cumulative_hazard_function(X_test, return_array=False)\n",
    "rsf_risk_scores = np.row_stack([chf(time_range) for chf in rsf_chf_funcs])\n",
    "rsf_best_auc, rsf_best_mean_auc = cumulative_dynamic_auc(\n",
    "    y_train, y_test, rsf_risk_scores, time_range\n",
    ")\n",
    "\n",
    "rsf_best_mean_auc = rsf_best_auc[~np.isnan(rsf_best_auc)].mean()"
   ]
  },
  {
   "cell_type": "code",
   "execution_count": 39,
   "id": "f57061d2",
   "metadata": {},
   "outputs": [
    {
     "data": {
      "image/png": "[encoded data removed]",
      "text/plain": [
       "<Figure size 432x288 with 1 Axes>"
      ]
     },
     "metadata": {
      "needs_background": "light"
     },
     "output_type": "display_data"
    }
   ],
   "source": [
    "plt.plot(time_range, rsf_auc, 'o-', label=\"RSF (mean AUC = {:.3f})\".format(rsf_mean_auc))\n",
    "plt.plot(time_range, rsf_best_auc, 'o-', label=\"RSF Best model (mean AUC = {:.3f})\".format(rsf_best_mean_auc))\n",
    "plt.xlabel('Seconds from start date')\n",
    "plt.ylabel('AUC')\n",
    "plt.legend(loc=\"lower center\")\n",
    "plt.grid(True)"
   ]
  },
  {
   "cell_type": "markdown",
   "id": "55923f63",
   "metadata": {},
   "source": [
    "Just as we expected, the \"optimized\" rsf model performs worse than the standard one, especially after ~ 3*10^8 seconds (~ 9.5 years). In this case we will stick with the standard rsf model. Now, let's try yet, another model. The Gradient Boosting Survival model (gbs). First we will check the concordance index on a standard gbs model."
   ]
  },
  {
   "cell_type": "code",
   "execution_count": 40,
   "id": "d819368f",
   "metadata": {},
   "outputs": [
    {
     "name": "stdout",
     "output_type": "stream",
     "text": [
      "Concordance index: 0.8116909175144893\n",
      "The number of concordant pairs 5531\n",
      "The number of discordant pairs 285\n"
     ]
    }
   ],
   "source": [
    "from sksurv.ensemble import GradientBoostingSurvivalAnalysis\n",
    "\n",
    "gbs = GradientBoostingSurvivalAnalysis(random_state=0)\n",
    "gbs.fit(X_train, y_train)\n",
    "y_ts_pred = gbs.predict(X_test)\n",
    "test_cip = cip(y_train, y_test, y_ts_pred)\n",
    "\n",
    "print('Concordance index:', test_cip[0])\n",
    "print('The number of concordant pairs', test_cip[1])\n",
    "print('The number of discordant pairs', test_cip[2])"
   ]
  },
  {
   "cell_type": "markdown",
   "id": "fff39f28",
   "metadata": {},
   "source": [
    "We see that the gbs model is worse than any of the rsf models. Let's try to optimize this model too by using randomized search. The hyperparameters that we will try to optimize are 'learning_rate' and 'n_estimators'."
   ]
  },
  {
   "cell_type": "code",
   "execution_count": 41,
   "id": "b800cd6a",
   "metadata": {},
   "outputs": [
    {
     "name": "stdout",
     "output_type": "stream",
     "text": [
      "Fitting 5 folds for each of 10 candidates, totalling 50 fits\n",
      "CPU times: user 9min 2s, sys: 900 ms, total: 9min 2s\n",
      "Wall time: 1h 53min 34s\n"
     ]
    },
    {
     "data": {
      "text/plain": [
       "RandomizedSearchCV(cv=KFold(n_splits=5, random_state=0, shuffle=True),\n",
       "                   estimator=GradientBoostingSurvivalAnalysis(random_state=0),\n",
       "                   n_jobs=-1,\n",
       "                   param_distributions={'learning_rate': <scipy.stats._distn_infrastructure.rv_frozen object at 0x7fb3dd6b4220>,\n",
       "                                        'n_estimators': <__main__.loguniform_int object at 0x7fb3dd6e3550>},\n",
       "                   verbose=1)"
      ]
     },
     "execution_count": 41,
     "metadata": {},
     "output_type": "execute_result"
    }
   ],
   "source": [
    "%%time\n",
    "\n",
    "param_distributions = {\n",
    "    'learning_rate': loguniform(0.01, 1),\n",
    "    'n_estimators': loguniform_int(100, 300)\n",
    "}\n",
    "\n",
    "gbs_random_search = RandomizedSearchCV(\n",
    "    gbs, param_distributions=param_distributions, n_iter=10,\n",
    "    cv=cv, verbose=1, n_jobs=-1,\n",
    ")\n",
    "gbs_random_search.fit(X_train, y_train)"
   ]
  },
  {
   "cell_type": "code",
   "execution_count": 42,
   "id": "d735518a",
   "metadata": {},
   "outputs": [
    {
     "name": "stdout",
     "output_type": "stream",
     "text": [
      "The best model is: GradientBoostingSurvivalAnalysis(learning_rate=0.01877770996241165,\n",
      "                                 n_estimators=216, random_state=0)\n"
     ]
    }
   ],
   "source": [
    "gbs_best = gbs_random_search.best_estimator_\n",
    "print('The best model is:', gbs_best)"
   ]
  },
  {
   "cell_type": "markdown",
   "id": "4d7fb069",
   "metadata": {},
   "source": [
    "We have a best gbs model with a __'learning_rate'=0.019__ and __'n_estimators'=216__. It took 1 hour and 54 minutes to fit this model with the search. Let's now check the index on the optimized gbs model."
   ]
  },
  {
   "cell_type": "code",
   "execution_count": 43,
   "id": "79811784",
   "metadata": {},
   "outputs": [
    {
     "name": "stdout",
     "output_type": "stream",
     "text": [
      "Concordance index: 0.8197443051877237\n",
      "The number of concordant pairs 5536\n",
      "The number of discordant pairs 247\n"
     ]
    }
   ],
   "source": [
    "y_ts_pred = gbs_best.predict(X_test)\n",
    "test_cip = cip(y_train, y_test, y_ts_pred)\n",
    "\n",
    "print('Concordance index:', test_cip[0])\n",
    "print('The number of concordant pairs', test_cip[1])\n",
    "print('The number of discordant pairs', test_cip[2])"
   ]
  },
  {
   "cell_type": "markdown",
   "id": "2de0bf37",
   "metadata": {},
   "source": [
    "In this case, the optimized model performs just a little better than the standard gbs model. Now, same as we did with the rsf model, let's see how the AUC plot looks like."
   ]
  },
  {
   "cell_type": "code",
   "execution_count": 65,
   "id": "b0ff4bb8",
   "metadata": {},
   "outputs": [],
   "source": [
    "gbs_chf_funcs = gbs_best.predict_cumulative_hazard_function(X_test)\n",
    "gbs_risk_scores = np.row_stack([chf(time_range) for chf in gbs_chf_funcs])\n",
    "gbs_auc, gbs_mean_auc = cumulative_dynamic_auc(\n",
    "    y_train, y_test, gbs_risk_scores, time_range\n",
    ")\n",
    "\n",
    "gbs_mean_auc = gbs_auc[~np.isnan(gbs_auc)].mean()"
   ]
  },
  {
   "cell_type": "code",
   "execution_count": 66,
   "id": "f0b36f64",
   "metadata": {},
   "outputs": [
    {
     "data": {
      "image/png": "[encoded data removed]",
      "text/plain": [
       "<Figure size 432x288 with 1 Axes>"
      ]
     },
     "metadata": {
      "needs_background": "light"
     },
     "output_type": "display_data"
    }
   ],
   "source": [
    "plt.plot(time_range, rsf_auc, 'o-', label=\"RSF (mean AUC = {:.3f})\".format(rsf_mean_auc))\n",
    "plt.plot(time_range, rsf_best_auc, 'o-', label=\"RSF Best model (mean AUC = {:.3f})\".format(rsf_best_mean_auc))\n",
    "plt.plot(time_range, gbs_auc, 'o-', label=\"Gradient Boosting best model (mean AUC = {:.3f})\".format(gbs_mean_auc))\n",
    "plt.xlabel('Seconds from start date')\n",
    "plt.ylabel('AUC')\n",
    "plt.legend(loc=\"lower center\")\n",
    "plt.grid(True)"
   ]
  },
  {
   "cell_type": "markdown",
   "id": "728382f2",
   "metadata": {},
   "source": [
    "We can compare now the best 3 models we found. It is interesting to see that still, the best model is the standard rsf model. Perhaps we could have done a deeper search for best hyperparameters and try to get an even higher index score. But, for now, we will stick with the default rsf model, since its index score is not bad."
   ]
  },
  {
   "cell_type": "markdown",
   "id": "3645ff23",
   "metadata": {},
   "source": [
    "As a final comparison we will calculate the brier score on these 3 models and see which one has the best score. The brier score is the equivalent for mean squared error in regression. Since this is an error score, we want it to be as low as possible. Let's evaluate the 3 models."
   ]
  },
  {
   "cell_type": "code",
   "execution_count": 67,
   "id": "e63fc4e7",
   "metadata": {},
   "outputs": [
    {
     "name": "stdout",
     "output_type": "stream",
     "text": [
      "                      Integrated Brier Score\n",
      "Random Forest                       0.106263\n",
      "Random Forest (Best)                0.108516\n",
      "Gradient Boosting                   0.119945\n"
     ]
    }
   ],
   "source": [
    "from sksurv.metrics import integrated_brier_score\n",
    "\n",
    "#We get the survival function from all 3 models\n",
    "survs_rsf = rsf.predict_survival_function(X_test)\n",
    "survs_rsf_best = rsf_best.predict_survival_function(X_test)\n",
    "survs_gbs = gbs_best.predict_survival_function(X_test)\n",
    "\n",
    "#Now we get the time-dependent functions in an array, for our time range. \n",
    "preds_rsf = np.asarray([[fn(t) for t in time_range] for fn in survs_rsf])\n",
    "preds_rsf_best = np.asarray([[fn(t) for t in time_range] for fn in survs_rsf_best])\n",
    "preds_gbs = np.asarray([[fn(t) for t in time_range] for fn in survs_gbs])\n",
    "\n",
    "\n",
    "score_rsf = integrated_brier_score(y_train, y_test, preds_rsf, time_range)\n",
    "score_rsf_best = integrated_brier_score(y_train, y_test, preds_rsf_best, time_range)\n",
    "score_gbs = integrated_brier_score(y_train, y_test, preds_gbs, time_range)\n",
    "\n",
    "print(pd.DataFrame([score_rsf, score_rsf_best, score_gbs], index=['Random Forest', 'Random Forest (Best)', 'Gradient Boosting'], columns=['Integrated Brier Score']))"
   ]
  },
  {
   "cell_type": "markdown",
   "id": "03136898",
   "metadata": {},
   "source": [
    "We see that even in evaluating the Integrated Brier Score (IBS), the rsf model performs the best.<br>\n",
    "Based on all of these results, we will decide for the rsf model."
   ]
  },
  {
   "cell_type": "markdown",
   "id": "e018ccfc",
   "metadata": {},
   "source": [
    "As a final step, we will perform some predictions using the rsf model.<br><br>\n",
    "First, we will choose 5 different samples from the test set which have different classes."
   ]
  },
  {
   "cell_type": "code",
   "execution_count": 49,
   "id": "36e875a8",
   "metadata": {},
   "outputs": [
    {
     "data": {
      "text/html": [
       "<div>\n",
       "<style scoped>\n",
       "    .dataframe tbody tr th:only-of-type {\n",
       "        vertical-align: middle;\n",
       "    }\n",
       "\n",
       "    .dataframe tbody tr th {\n",
       "        vertical-align: top;\n",
       "    }\n",
       "\n",
       "    .dataframe thead th {\n",
       "        text-align: right;\n",
       "    }\n",
       "</style>\n",
       "<table border=\"1\" class=\"dataframe\">\n",
       "  <thead>\n",
       "    <tr style=\"text-align: right;\">\n",
       "      <th></th>\n",
       "      <th>Month=10</th>\n",
       "      <th>Month=11</th>\n",
       "      <th>Month=12</th>\n",
       "      <th>Month=2</th>\n",
       "      <th>Month=3</th>\n",
       "      <th>Month=4</th>\n",
       "      <th>Month=5</th>\n",
       "      <th>Month=6</th>\n",
       "      <th>Month=7</th>\n",
       "      <th>Month=8</th>\n",
       "      <th>...</th>\n",
       "      <th>State=SON</th>\n",
       "      <th>State=TAB</th>\n",
       "      <th>State=TAMS</th>\n",
       "      <th>State=TLAX</th>\n",
       "      <th>State=VER</th>\n",
       "      <th>State=YUC</th>\n",
       "      <th>State=ZAC</th>\n",
       "      <th>Plate=north_america</th>\n",
       "      <th>Plate=pacific</th>\n",
       "      <th>Plate=rivera</th>\n",
       "    </tr>\n",
       "  </thead>\n",
       "  <tbody>\n",
       "    <tr>\n",
       "      <th>12308</th>\n",
       "      <td>0.0</td>\n",
       "      <td>0.0</td>\n",
       "      <td>0.0</td>\n",
       "      <td>0.0</td>\n",
       "      <td>0.0</td>\n",
       "      <td>0.0</td>\n",
       "      <td>0.0</td>\n",
       "      <td>0.0</td>\n",
       "      <td>1.0</td>\n",
       "      <td>0.0</td>\n",
       "      <td>...</td>\n",
       "      <td>0.0</td>\n",
       "      <td>0.0</td>\n",
       "      <td>0.0</td>\n",
       "      <td>0.0</td>\n",
       "      <td>0.0</td>\n",
       "      <td>0.0</td>\n",
       "      <td>0.0</td>\n",
       "      <td>0.0</td>\n",
       "      <td>0.0</td>\n",
       "      <td>0.0</td>\n",
       "    </tr>\n",
       "    <tr>\n",
       "      <th>17012</th>\n",
       "      <td>0.0</td>\n",
       "      <td>0.0</td>\n",
       "      <td>0.0</td>\n",
       "      <td>0.0</td>\n",
       "      <td>0.0</td>\n",
       "      <td>1.0</td>\n",
       "      <td>0.0</td>\n",
       "      <td>0.0</td>\n",
       "      <td>0.0</td>\n",
       "      <td>0.0</td>\n",
       "      <td>...</td>\n",
       "      <td>0.0</td>\n",
       "      <td>0.0</td>\n",
       "      <td>0.0</td>\n",
       "      <td>0.0</td>\n",
       "      <td>0.0</td>\n",
       "      <td>0.0</td>\n",
       "      <td>0.0</td>\n",
       "      <td>0.0</td>\n",
       "      <td>0.0</td>\n",
       "      <td>0.0</td>\n",
       "    </tr>\n",
       "    <tr>\n",
       "      <th>17020</th>\n",
       "      <td>0.0</td>\n",
       "      <td>0.0</td>\n",
       "      <td>0.0</td>\n",
       "      <td>0.0</td>\n",
       "      <td>0.0</td>\n",
       "      <td>1.0</td>\n",
       "      <td>0.0</td>\n",
       "      <td>0.0</td>\n",
       "      <td>0.0</td>\n",
       "      <td>0.0</td>\n",
       "      <td>...</td>\n",
       "      <td>0.0</td>\n",
       "      <td>0.0</td>\n",
       "      <td>0.0</td>\n",
       "      <td>0.0</td>\n",
       "      <td>0.0</td>\n",
       "      <td>0.0</td>\n",
       "      <td>0.0</td>\n",
       "      <td>0.0</td>\n",
       "      <td>1.0</td>\n",
       "      <td>0.0</td>\n",
       "    </tr>\n",
       "    <tr>\n",
       "      <th>15606</th>\n",
       "      <td>1.0</td>\n",
       "      <td>0.0</td>\n",
       "      <td>0.0</td>\n",
       "      <td>0.0</td>\n",
       "      <td>0.0</td>\n",
       "      <td>0.0</td>\n",
       "      <td>0.0</td>\n",
       "      <td>0.0</td>\n",
       "      <td>0.0</td>\n",
       "      <td>0.0</td>\n",
       "      <td>...</td>\n",
       "      <td>0.0</td>\n",
       "      <td>0.0</td>\n",
       "      <td>0.0</td>\n",
       "      <td>0.0</td>\n",
       "      <td>0.0</td>\n",
       "      <td>0.0</td>\n",
       "      <td>0.0</td>\n",
       "      <td>0.0</td>\n",
       "      <td>1.0</td>\n",
       "      <td>0.0</td>\n",
       "    </tr>\n",
       "    <tr>\n",
       "      <th>1501</th>\n",
       "      <td>0.0</td>\n",
       "      <td>0.0</td>\n",
       "      <td>0.0</td>\n",
       "      <td>0.0</td>\n",
       "      <td>0.0</td>\n",
       "      <td>0.0</td>\n",
       "      <td>0.0</td>\n",
       "      <td>0.0</td>\n",
       "      <td>0.0</td>\n",
       "      <td>0.0</td>\n",
       "      <td>...</td>\n",
       "      <td>0.0</td>\n",
       "      <td>0.0</td>\n",
       "      <td>0.0</td>\n",
       "      <td>0.0</td>\n",
       "      <td>0.0</td>\n",
       "      <td>0.0</td>\n",
       "      <td>0.0</td>\n",
       "      <td>0.0</td>\n",
       "      <td>0.0</td>\n",
       "      <td>0.0</td>\n",
       "    </tr>\n",
       "  </tbody>\n",
       "</table>\n",
       "<p>5 rows × 78 columns</p>\n",
       "</div>"
      ],
      "text/plain": [
       "       Month=10  Month=11  Month=12  Month=2  Month=3  Month=4  Month=5  \\\n",
       "12308       0.0       0.0       0.0      0.0      0.0      0.0      0.0   \n",
       "17012       0.0       0.0       0.0      0.0      0.0      1.0      0.0   \n",
       "17020       0.0       0.0       0.0      0.0      0.0      1.0      0.0   \n",
       "15606       1.0       0.0       0.0      0.0      0.0      0.0      0.0   \n",
       "1501        0.0       0.0       0.0      0.0      0.0      0.0      0.0   \n",
       "\n",
       "       Month=6  Month=7  Month=8  ...  State=SON  State=TAB  State=TAMS  \\\n",
       "12308      0.0      1.0      0.0  ...        0.0        0.0         0.0   \n",
       "17012      0.0      0.0      0.0  ...        0.0        0.0         0.0   \n",
       "17020      0.0      0.0      0.0  ...        0.0        0.0         0.0   \n",
       "15606      0.0      0.0      0.0  ...        0.0        0.0         0.0   \n",
       "1501       0.0      0.0      0.0  ...        0.0        0.0         0.0   \n",
       "\n",
       "       State=TLAX  State=VER  State=YUC  State=ZAC  Plate=north_america  \\\n",
       "12308         0.0        0.0        0.0        0.0                  0.0   \n",
       "17012         0.0        0.0        0.0        0.0                  0.0   \n",
       "17020         0.0        0.0        0.0        0.0                  0.0   \n",
       "15606         0.0        0.0        0.0        0.0                  0.0   \n",
       "1501          0.0        0.0        0.0        0.0                  0.0   \n",
       "\n",
       "       Plate=pacific  Plate=rivera  \n",
       "12308            0.0           0.0  \n",
       "17012            0.0           0.0  \n",
       "17020            1.0           0.0  \n",
       "15606            1.0           0.0  \n",
       "1501             0.0           0.0  \n",
       "\n",
       "[5 rows x 78 columns]"
      ]
     },
     "execution_count": 49,
     "metadata": {},
     "output_type": "execute_result"
    }
   ],
   "source": [
    "#These 5 samples have different 'State', 'Plate', 'Magnitude' values, among others.\n",
    "X_test.iloc[[241, 342, 358, 388, 1890]]"
   ]
  },
  {
   "cell_type": "code",
   "execution_count": 50,
   "id": "2a229f7f",
   "metadata": {},
   "outputs": [
    {
     "data": {
      "text/html": [
       "<div>\n",
       "<style scoped>\n",
       "    .dataframe tbody tr th:only-of-type {\n",
       "        vertical-align: middle;\n",
       "    }\n",
       "\n",
       "    .dataframe tbody tr th {\n",
       "        vertical-align: top;\n",
       "    }\n",
       "\n",
       "    .dataframe thead th {\n",
       "        text-align: right;\n",
       "    }\n",
       "</style>\n",
       "<table border=\"1\" class=\"dataframe\">\n",
       "  <thead>\n",
       "    <tr style=\"text-align: right;\">\n",
       "      <th></th>\n",
       "      <th>index</th>\n",
       "      <th>Date_Time</th>\n",
       "      <th>Year</th>\n",
       "      <th>Month</th>\n",
       "      <th>Day</th>\n",
       "      <th>Magnitude</th>\n",
       "      <th>Latitude</th>\n",
       "      <th>Longitude</th>\n",
       "      <th>Depth</th>\n",
       "      <th>State</th>\n",
       "      <th>Plate</th>\n",
       "      <th>Status</th>\n",
       "      <th>Time_to_event</th>\n",
       "    </tr>\n",
       "  </thead>\n",
       "  <tbody>\n",
       "    <tr>\n",
       "      <th>7902</th>\n",
       "      <td>12308</td>\n",
       "      <td>2006-07-12 03:54:24</td>\n",
       "      <td>2006</td>\n",
       "      <td>7</td>\n",
       "      <td>12</td>\n",
       "      <td>4.2</td>\n",
       "      <td>14.7300</td>\n",
       "      <td>-94.020</td>\n",
       "      <td>43.0</td>\n",
       "      <td>CHIS</td>\n",
       "      <td>cocos</td>\n",
       "      <td>0</td>\n",
       "      <td>194367.0</td>\n",
       "    </tr>\n",
       "    <tr>\n",
       "      <th>10421</th>\n",
       "      <td>17012</td>\n",
       "      <td>2012-04-11 17:55:10</td>\n",
       "      <td>2012</td>\n",
       "      <td>4</td>\n",
       "      <td>11</td>\n",
       "      <td>6.4</td>\n",
       "      <td>17.9217</td>\n",
       "      <td>-103.068</td>\n",
       "      <td>20.0</td>\n",
       "      <td>MICH</td>\n",
       "      <td>cocos</td>\n",
       "      <td>1</td>\n",
       "      <td>368363603.0</td>\n",
       "    </tr>\n",
       "    <tr>\n",
       "      <th>10424</th>\n",
       "      <td>17020</td>\n",
       "      <td>2012-04-12 02:05:59</td>\n",
       "      <td>2012</td>\n",
       "      <td>4</td>\n",
       "      <td>12</td>\n",
       "      <td>6.0</td>\n",
       "      <td>28.7955</td>\n",
       "      <td>-113.414</td>\n",
       "      <td>15.0</td>\n",
       "      <td>BCS</td>\n",
       "      <td>pacific</td>\n",
       "      <td>1</td>\n",
       "      <td>14067241.0</td>\n",
       "    </tr>\n",
       "    <tr>\n",
       "      <th>9720</th>\n",
       "      <td>15606</td>\n",
       "      <td>2010-10-21 12:53:11</td>\n",
       "      <td>2010</td>\n",
       "      <td>10</td>\n",
       "      <td>21</td>\n",
       "      <td>6.5</td>\n",
       "      <td>24.6500</td>\n",
       "      <td>-109.410</td>\n",
       "      <td>8.0</td>\n",
       "      <td>BCS</td>\n",
       "      <td>pacific</td>\n",
       "      <td>1</td>\n",
       "      <td>99009531.0</td>\n",
       "    </tr>\n",
       "    <tr>\n",
       "      <th>1173</th>\n",
       "      <td>1501</td>\n",
       "      <td>1985-09-20 19:37:14</td>\n",
       "      <td>1985</td>\n",
       "      <td>9</td>\n",
       "      <td>20</td>\n",
       "      <td>7.6</td>\n",
       "      <td>17.8280</td>\n",
       "      <td>-101.681</td>\n",
       "      <td>17.0</td>\n",
       "      <td>GRO</td>\n",
       "      <td>cocos</td>\n",
       "      <td>1</td>\n",
       "      <td>38522802.0</td>\n",
       "    </tr>\n",
       "  </tbody>\n",
       "</table>\n",
       "</div>"
      ],
      "text/plain": [
       "       index           Date_Time  Year  Month  Day  Magnitude  Latitude  \\\n",
       "7902   12308 2006-07-12 03:54:24  2006      7   12        4.2   14.7300   \n",
       "10421  17012 2012-04-11 17:55:10  2012      4   11        6.4   17.9217   \n",
       "10424  17020 2012-04-12 02:05:59  2012      4   12        6.0   28.7955   \n",
       "9720   15606 2010-10-21 12:53:11  2010     10   21        6.5   24.6500   \n",
       "1173    1501 1985-09-20 19:37:14  1985      9   20        7.6   17.8280   \n",
       "\n",
       "       Longitude  Depth State    Plate  Status  Time_to_event  \n",
       "7902     -94.020   43.0  CHIS    cocos       0       194367.0  \n",
       "10421   -103.068   20.0  MICH    cocos       1    368363603.0  \n",
       "10424   -113.414   15.0   BCS  pacific       1     14067241.0  \n",
       "9720    -109.410    8.0   BCS  pacific       1     99009531.0  \n",
       "1173    -101.681   17.0   GRO    cocos       1     38522802.0  "
      ]
     },
     "execution_count": 50,
     "metadata": {},
     "output_type": "execute_result"
    }
   ],
   "source": [
    "#We create another variable to avoid affecting our original dataset.\n",
    "sample_df = quakes_data.reset_index()\n",
    "#We look for the index values of the 5 samples shown in the previous cell.\n",
    "sample_df = sample_df[sample_df['index'].isin([12308, 17012, 17020, 15606, 1501])]\n",
    "#We order the samples in the most convenient way for us to visualize them.\n",
    "sample_df.iloc[[1,3,4,2,0]]\n",
    "#We will use this new dataframe only to visualize the information on our 5 samples."
   ]
  },
  {
   "cell_type": "markdown",
   "id": "348cd279",
   "metadata": {},
   "source": [
    "As we see, our 5 samples contain examples of 'Status'=0 and 1. Also, we have 2 samples of the same 'State' and 'Plate'. Now let's check first, the risk score for each of our samples."
   ]
  },
  {
   "cell_type": "code",
   "execution_count": 69,
   "id": "3ae19afe",
   "metadata": {},
   "outputs": [
    {
     "data": {
      "text/plain": [
       "0     34.790634\n",
       "1     63.907534\n",
       "2     77.010092\n",
       "3     71.326115\n",
       "4    107.614440\n",
       "dtype: float64"
      ]
     },
     "execution_count": 69,
     "metadata": {},
     "output_type": "execute_result"
    }
   ],
   "source": [
    "pd.Series(rsf.predict(X_test.iloc[[241, 342, 358, 388, 1890]]))"
   ]
  },
  {
   "cell_type": "markdown",
   "id": "7a8f71c2",
   "metadata": {},
   "source": [
    "The sample with the highest magnitude in the GRO (Guerrero) State has the highest risk factor. It is interesting to see that between the two samples with the same 'State' and 'Plate' values, our model predicts a bigger risk factor for the event with a magnitude of 6.0 than the one with 6.5."
   ]
  },
  {
   "cell_type": "markdown",
   "id": "2ad84a33",
   "metadata": {},
   "source": [
    "Finally, we will plot the survival function for each of our samples and check if the results are what we expect."
   ]
  },
  {
   "cell_type": "code",
   "execution_count": 54,
   "id": "7d6e65be",
   "metadata": {},
   "outputs": [
    {
     "data": {
      "image/png": "[encoded data removed]",
      "text/plain": [
       "<Figure size 432x288 with 1 Axes>"
      ]
     },
     "metadata": {
      "needs_background": "light"
     },
     "output_type": "display_data"
    }
   ],
   "source": [
    "i = 0\n",
    "#We define more informational labels for each plotted line\n",
    "labels = ['CHIS - Cocos - Mag=4.2', 'MICH - Cocos - Mag=6.4', 'BCS - Pacific - Mag=6.0', 'BCS - Pacific - Mag=6.5', 'GRO - Cocos - Mag=7.6']\n",
    "survs = rsf.predict_survival_function(X_test.iloc[[241, 342, 358, 388, 1890]])\n",
    "for fn in survs:\n",
    "    plt.ylabel('Probability of no big earthquake')\n",
    "    plt.xlabel('time $t$')\n",
    "    plt.step(fn.x, fn(fn.x), where=\"post\", label=labels[i])\n",
    "    plt.legend()\n",
    "    i += 1"
   ]
  },
  {
   "cell_type": "markdown",
   "id": "5dd628f0",
   "metadata": {},
   "source": [
    "In the previous plot, we see that the blue line has the highest survival probability of no big earthquake. This totally aggrees with what we expected, since this event is an event of Magnitude = 4.2, meaning a no-big-earthquake event with 'Status' = 0.<br><br>\n",
    "Another interesting point is that the lowest survival probability event is the one with Magnitude = 7.6. This means that we might expect for an event like this to have ~ 90% probability to happen within 0.2*10^9 seconds(~ 6.3 years) from the last event in the same State and Magnitude >= 6.0. Both events in BCS (Baja California Sur) look similar, but either of them, has higher risk than the one in MICH (Michoacan)."
   ]
  },
  {
   "cell_type": "markdown",
   "id": "7248e940",
   "metadata": {},
   "source": [
    "__Conclusion:__<br><br>\n",
    "In this notebook, we took the clean dataframe that we had, and considered that insights that we obtained in previous steps. We added important features to our data and set up our label data 'y' for a \"Survival Analysis\" treatment and modelling.<br><br>\n",
    "\n",
    "We checked 5 models in total and during each step, we confirmed that the best model for us was the Random Survival Forest standard model.<br><br>\n",
    "\n",
    "We applied the model to 5 samples and tried to obtain insights from the predictions. We confirmed that the model gave us reasonable results by seeing that the sample with a no-big-earthquake class ('Status' = 0) gave us a very high and stable survival probability that went out-of-scope in our time range.<br>On the other hand, the rest of the samples, had a more similar survival probability curve. Looking at the results, we might expect that any of the 4 samples' events happen within 6 and 12 years with a ~ 90% probability."
   ]
  }
 ],
 "metadata": {
  "kernelspec": {
   "display_name": "Python 3 (ipykernel)",
   "language": "python",
   "name": "python3"
  },
  "language_info": {
   "codemirror_mode": {
    "name": "ipython",
    "version": 3
   },
   "file_extension": ".py",
   "mimetype": "text/x-python",
   "name": "python",
   "nbconvert_exporter": "python",
   "pygments_lexer": "ipython3",
   "version": "3.8.8"
  }
 },
 "nbformat": 4,
 "nbformat_minor": 5
}
